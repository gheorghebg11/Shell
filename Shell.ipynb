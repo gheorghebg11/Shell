{
  "nbformat": 4,
  "nbformat_minor": 0,
  "metadata": {
    "colab": {
      "name": "Shell.ipynb",
      "version": "0.3.2",
      "provenance": [],
      "collapsed_sections": [
        "IhDqpEz1xG3u",
        "JNN8go-BB9RJ"
      ],
      "toc_visible": true,
      "include_colab_link": true
    },
    "kernelspec": {
      "name": "python3",
      "display_name": "Python 3"
    },
    "accelerator": "GPU"
  },
  "cells": [
    {
      "cell_type": "markdown",
      "metadata": {
        "id": "view-in-github",
        "colab_type": "text"
      },
      "source": [
        "<a href=\"https://colab.research.google.com/github/gheorghebg11/Shell/blob/master/Shell.ipynb\" target=\"_parent\"><img src=\"https://colab.research.google.com/assets/colab-badge.svg\" alt=\"Open In Colab\"/></a>"
      ]
    },
    {
      "metadata": {
        "id": "ksXJw2tBpWrW",
        "colab_type": "text"
      },
      "cell_type": "markdown",
      "source": [
        "# Load the files into Colab"
      ]
    },
    {
      "metadata": {
        "id": "FKZMLM-S16Nd",
        "colab_type": "text"
      },
      "cell_type": "markdown",
      "source": [
        "The first cells are for loading the big data files from google drive (as colab only keeps the files for 12 hours), and the .csv from my local drive or dropbox. We first authenticate."
      ]
    },
    {
      "metadata": {
        "id": "WzIkU8LMyozt",
        "colab_type": "code",
        "outputId": "1db7b3ea-4f66-497a-ae35-3337aa91043b",
        "colab": {
          "base_uri": "https://localhost:8080/",
          "height": 323
        }
      },
      "cell_type": "code",
      "source": [
        "!pip install PyDrive\n",
        "import os, zipfile\n",
        "from pydrive.auth import GoogleAuth\n",
        "from pydrive.drive import GoogleDrive\n",
        "from google.colab import auth, files\n",
        "from oauth2client.client import GoogleCredentials\n",
        "\n",
        "auth.authenticate_user()\n",
        "\n",
        "gauth = GoogleAuth()\n",
        "gauth.credentials = GoogleCredentials.get_application_default()\n",
        "drive = GoogleDrive(gauth)"
      ],
      "execution_count": 1,
      "outputs": [
        {
          "output_type": "stream",
          "text": [
            "Collecting PyDrive\n",
            "\u001b[?25l  Downloading https://files.pythonhosted.org/packages/52/e0/0e64788e5dd58ce2d6934549676243dc69d982f198524be9b99e9c2a4fd5/PyDrive-1.3.1.tar.gz (987kB)\n",
            "\u001b[K    100% |████████████████████████████████| 993kB 26.6MB/s \n",
            "\u001b[?25hRequirement already satisfied: google-api-python-client>=1.2 in /usr/local/lib/python3.6/dist-packages (from PyDrive) (1.6.7)\n",
            "Requirement already satisfied: oauth2client>=4.0.0 in /usr/local/lib/python3.6/dist-packages (from PyDrive) (4.1.3)\n",
            "Requirement already satisfied: PyYAML>=3.0 in /usr/local/lib/python3.6/dist-packages (from PyDrive) (3.13)\n",
            "Requirement already satisfied: httplib2<1dev,>=0.9.2 in /usr/local/lib/python3.6/dist-packages (from google-api-python-client>=1.2->PyDrive) (0.11.3)\n",
            "Requirement already satisfied: uritemplate<4dev,>=3.0.0 in /usr/local/lib/python3.6/dist-packages (from google-api-python-client>=1.2->PyDrive) (3.0.0)\n",
            "Requirement already satisfied: six<2dev,>=1.6.1 in /usr/local/lib/python3.6/dist-packages (from google-api-python-client>=1.2->PyDrive) (1.12.0)\n",
            "Requirement already satisfied: rsa>=3.1.4 in /usr/local/lib/python3.6/dist-packages (from oauth2client>=4.0.0->PyDrive) (4.0)\n",
            "Requirement already satisfied: pyasn1>=0.1.7 in /usr/local/lib/python3.6/dist-packages (from oauth2client>=4.0.0->PyDrive) (0.4.5)\n",
            "Requirement already satisfied: pyasn1-modules>=0.0.5 in /usr/local/lib/python3.6/dist-packages (from oauth2client>=4.0.0->PyDrive) (0.2.5)\n",
            "Building wheels for collected packages: PyDrive\n",
            "  Building wheel for PyDrive (setup.py) ... \u001b[?25ldone\n",
            "\u001b[?25h  Stored in directory: /root/.cache/pip/wheels/fa/d2/9a/d3b6b506c2da98289e5d417215ce34b696db856643bad779f4\n",
            "Successfully built PyDrive\n",
            "Installing collected packages: PyDrive\n",
            "Successfully installed PyDrive-1.3.1\n"
          ],
          "name": "stdout"
        }
      ]
    },
    {
      "metadata": {
        "id": "dEMiyKPeq9Hw",
        "colab_type": "text"
      },
      "cell_type": "markdown",
      "source": [
        "Now download the files and un unzip the archives. Right now there are 4 folders for 4 different gas station brands."
      ]
    },
    {
      "metadata": {
        "id": "dWbpFmwVqgxv",
        "colab_type": "code",
        "outputId": "fbd2888a-856f-46a0-a948-ffa5bd5a8b5b",
        "colab": {
          "base_uri": "https://localhost:8080/",
          "height": 68
        }
      },
      "cell_type": "code",
      "source": [
        "!rm -r /content/data\n",
        "!mkdir /content/data\n",
        "print('\\nDownloading the data')\n",
        "download = drive.CreateFile({'id': '1e5u2uDQ5mupV64KJbmWVG-JhlGKz9uUD'})\n",
        "download.GetContentFile('/content/data_shell.tar.gz')\n",
        "!tar -xzf /content/data_shell.tar.gz -C /content/data\n",
        "print('\\nData successfully downloaded in /content/data')"
      ],
      "execution_count": 2,
      "outputs": [
        {
          "output_type": "stream",
          "text": [
            "rm: cannot remove '/content/data': No such file or directory\n",
            "\n",
            "Downloading the data\n"
          ],
          "name": "stdout"
        }
      ]
    },
    {
      "metadata": {
        "id": "IhDqpEz1xG3u",
        "colab_type": "text"
      },
      "cell_type": "markdown",
      "source": [
        "# Data Visualization and Basic Cleaning"
      ]
    },
    {
      "metadata": {
        "id": "dqBNmbTp12LL",
        "colab_type": "text"
      },
      "cell_type": "markdown",
      "source": [
        "First load some packages for Data Visualization."
      ]
    },
    {
      "metadata": {
        "id": "1GgouP0vzvop",
        "colab_type": "code",
        "colab": {}
      },
      "cell_type": "code",
      "source": [
        "import numpy as np\n",
        "np.random.seed(1989)\n",
        "\n",
        "import os\n",
        "\n",
        "import matplotlib.pyplot as plt\n",
        "import pandas as pd\n",
        "import seaborn as sns\n",
        "\n",
        "from IPython.display import display\n",
        "pd.options.display.max_columns = 20\n",
        "\n",
        "import warnings\n",
        "warnings.filterwarnings(\"ignore\", category=FutureWarning) "
      ],
      "execution_count": 0,
      "outputs": []
    },
    {
      "metadata": {
        "id": "lCb-h9hm0Mgp",
        "colab_type": "text"
      },
      "cell_type": "markdown",
      "source": [
        "Explore the data a little bit. We look at the available categories (each in one separate folder) and create a dictionary for one-hot encoding."
      ]
    },
    {
      "metadata": {
        "id": "i45IxsCd0MWJ",
        "colab_type": "code",
        "outputId": "da18478a-c27c-45cd-b152-5077d5d0c365",
        "colab": {
          "base_uri": "https://localhost:8080/",
          "height": 34
        }
      },
      "cell_type": "code",
      "source": [
        "dir_data = '/content/data/'\n",
        "labels = list(os.listdir(dir_data))\n",
        "labels_to_idx = {label: i for i, label in enumerate(labels)}\n",
        "print(labels_to_idx)\n",
        "\n",
        "#train = pd.read_csv(os.path.join(dir_data, 'train_curated.csv'))\n",
        "#test = pd.read_csv(os.path.join(dir_data, 'sample_submission.csv'))"
      ],
      "execution_count": 4,
      "outputs": [
        {
          "output_type": "stream",
          "text": [
            "{'chevron': 0, 'phillips': 1, 'conoco': 2, 'shell': 3}\n"
          ],
          "name": "stdout"
        }
      ]
    },
    {
      "metadata": {
        "id": "ou05IqYl_W5o",
        "colab_type": "text"
      },
      "cell_type": "markdown",
      "source": [
        "We will now loop through all files and do a few tasks:\n",
        "- check for corrupted files (ending in .part)\n",
        "- check for all available extensions, in order to exlcude non-images\n",
        "- rename each file in the formal 'label_oldfilename' and move them all in one single folder."
      ]
    },
    {
      "metadata": {
        "id": "pdD0NsgB-_9u",
        "colab_type": "code",
        "outputId": "2d4c7987-fe44-429c-d578-fe6c184920a9",
        "colab": {
          "base_uri": "https://localhost:8080/",
          "height": 34
        }
      },
      "cell_type": "code",
      "source": [
        "extensions = set()\n",
        "\n",
        "for label in labels:\n",
        "    dir_label = os.path.join(dir_data, label)\n",
        "    filenames = [name for name in os.listdir(dir_label) if os.path.isfile(os.path.join(dir_label, name))]\n",
        "    \n",
        "    for filename in filenames:\n",
        "        new_filename = label + '_' + filename\n",
        "        os.rename(os.path.join(dir_label, filename), os.path.join(dir_data,new_filename))\n",
        "        \n",
        "        # check for the extension\n",
        "        extension = filename.split('.')[-1]\n",
        "        if extension not in extensions:\n",
        "            extensions.add(extension)\n",
        "    \n",
        "    # erase the empty folder\n",
        "    os.rmdir(os.path.join(dir_data, label))\n",
        "    #shutil.rmtree(os.path.join(dir_data, label))\n",
        "    \n",
        "print(f'We found the extensions {extensions}')\n",
        "\n",
        "# create a list with all filenames MAYBE PUT IN PANDAS ?\n",
        "filenames = [name for name in os.listdir(dir_data) if os.path.isfile(os.path.join(dir_data, name))]"
      ],
      "execution_count": 5,
      "outputs": [
        {
          "output_type": "stream",
          "text": [
            "We found the extensions {'jpeg', 'jpg', 'png', 'part'}\n"
          ],
          "name": "stdout"
        }
      ]
    },
    {
      "metadata": {
        "id": "-HrOXXZUUES1",
        "colab_type": "text"
      },
      "cell_type": "markdown",
      "source": [
        "We will now erase the files ending in .part as they are corrupted images that failed during data mining."
      ]
    },
    {
      "metadata": {
        "id": "aOc-LEDqRDMw",
        "colab_type": "code",
        "outputId": "3eaa5760-fccb-4b70-dca1-7b7b0e735d97",
        "colab": {
          "base_uri": "https://localhost:8080/",
          "height": 34
        }
      },
      "cell_type": "code",
      "source": [
        "corrupted_files = 0\n",
        "for filename in filenames:\n",
        "    if filename.endswith('.part'):\n",
        "        corrupted_files = corrupted_files + 1\n",
        "        os.remove(os.path.join(dir_data, filename))\n",
        "        filenames.remove(filename)\n",
        "print(f'We removed {corrupted_files} corrupted files out of {len(filenames) + corrupted_files} total files.')"
      ],
      "execution_count": 6,
      "outputs": [
        {
          "output_type": "stream",
          "text": [
            "We removed 7 corrupted files out of 776 total files.\n"
          ],
          "name": "stdout"
        }
      ]
    },
    {
      "metadata": {
        "id": "I-pA5vZHVEBP",
        "colab_type": "text"
      },
      "cell_type": "markdown",
      "source": [
        "We now create a Pandas df with the data to explore it a little bit. \n",
        "#TODO"
      ]
    },
    {
      "metadata": {
        "id": "Pfm79SWAVEhW",
        "colab_type": "code",
        "colab": {}
      },
      "cell_type": "code",
      "source": [
        ""
      ],
      "execution_count": 0,
      "outputs": []
    },
    {
      "metadata": {
        "id": "CXozKqnwAK4w",
        "colab_type": "text"
      },
      "cell_type": "markdown",
      "source": [
        "Look at the shape and number of examples and labels. "
      ]
    },
    {
      "metadata": {
        "id": "-cLQ9amV2DPD",
        "colab_type": "code",
        "colab": {}
      },
      "cell_type": "code",
      "source": [
        "print(f'Train set has {train.shape[0]} examples and {len(set(train.labels))} different labels')\n",
        "train.sample(3)"
      ],
      "execution_count": 0,
      "outputs": []
    },
    {
      "metadata": {
        "id": "nqZCmtik2N5D",
        "colab_type": "code",
        "colab": {}
      },
      "cell_type": "code",
      "source": [
        "print(f'Test set has {test.shape[0]} examples and {len(test.columns[1:])} different labels')\n",
        "test.sample(3)"
      ],
      "execution_count": 0,
      "outputs": []
    },
    {
      "metadata": {
        "id": "kHNxz_HB4szP",
        "colab_type": "text"
      },
      "cell_type": "markdown",
      "source": [
        "We will for now exclude the sounds which have multiple labels."
      ]
    },
    {
      "metadata": {
        "id": "WGrqELSj2N9U",
        "colab_type": "code",
        "colab": {}
      },
      "cell_type": "code",
      "source": [
        "train = train[train['labels'].isin(test.columns[1:])]\n",
        "print(f'Removing multilabel examples. The Train set has now {train.shape[0]} examples and {len(set(train.labels))} different labels')"
      ],
      "execution_count": 0,
      "outputs": []
    },
    {
      "metadata": {
        "id": "8X5o1jcF48s3",
        "colab_type": "text"
      },
      "cell_type": "markdown",
      "source": [
        "Let's visualize how many samples there are per label."
      ]
    },
    {
      "metadata": {
        "id": "mQxcK7Ja49du",
        "colab_type": "code",
        "colab": {}
      },
      "cell_type": "code",
      "source": [
        "category_group = train.groupby(['labels']).count()\n",
        "category_group.columns = ['counts']\n",
        "print(f'The number of training clips per label range from {category_group.counts.min()} to {category_group.counts.max()}')\n",
        "plot = category_group.sort_values(ascending=True, by='counts').plot(kind='barh', title='nbr training audio clips per label', figsize=(20,12))\n",
        "plt.show()"
      ],
      "execution_count": 0,
      "outputs": []
    },
    {
      "metadata": {
        "id": "2Cs9GgL886Z6",
        "colab_type": "text"
      },
      "cell_type": "markdown",
      "source": [
        "Let's now visualize the distribution of their length:\n",
        "\n"
      ]
    },
    {
      "metadata": {
        "id": "GPdoJyuj9nHU",
        "colab_type": "text"
      },
      "cell_type": "markdown",
      "source": [
        "We first only look at the top 25 categories"
      ]
    },
    {
      "metadata": {
        "id": "EQZi4Kii9bcL",
        "colab_type": "code",
        "colab": {}
      },
      "cell_type": "code",
      "source": [
        "train['nframes'] = train['fname'].apply(lambda fname : wave.open(os.path.join(dir_data, 'curated', fname)).getnframes())\n",
        "test['nframes'] = test['fname'].apply(lambda fname : wave.open(os.path.join(dir_data, 'test', fname)).getnframes())\n",
        "# plot the distribution of top 25 catetegories of the training set, since 74 is a little bit too much\n",
        "idx_25_top = category_group.sort_values(ascending=True, by='counts').index[-25:]\n",
        "_, ax = plt.subplots(figsize=(25,10))\n",
        "sns.violinplot(data = train[train.labels.isin(idx_25_top)], x='labels', y='nframes')\n",
        "plt.xticks(rotation=90)\n",
        "plt.show()"
      ],
      "execution_count": 0,
      "outputs": []
    },
    {
      "metadata": {
        "id": "C54lYlg1AETw",
        "colab_type": "text"
      },
      "cell_type": "markdown",
      "source": [
        "And now compare the training and the test set."
      ]
    },
    {
      "metadata": {
        "id": "jhxUsewn9bh6",
        "colab_type": "code",
        "colab": {}
      },
      "cell_type": "code",
      "source": [
        "fig, ax = plt.subplots(2,1, figsize=(20,8))\n",
        "train.nframes.plot(kind='hist', bins=100, rwidth=0.5, ax = ax[0])\n",
        "test.nframes.plot(kind='hist', bins=100, rwidth=0.5, ax = ax[1])\n",
        "plt.show()"
      ],
      "execution_count": 0,
      "outputs": []
    },
    {
      "metadata": {
        "id": "WWEXiQBv9Zp-",
        "colab_type": "text"
      },
      "cell_type": "markdown",
      "source": [
        "Let's pick a random audio clip and look at its attributes."
      ]
    },
    {
      "metadata": {
        "id": "f69j6eQH49f5",
        "colab_type": "code",
        "colab": {}
      },
      "cell_type": "code",
      "source": [
        "rand_ex = train.sample(1)\n",
        "fname = rand_ex['fname'].values[0]\n",
        "path_audiofile = os.path.join(dir_data, 'curated', fname)\n",
        "wav = wave.open(path_audiofile)\n",
        "print(f'Filename is {fname}')\n",
        "print(f'Sampling frame rate {wav.getframerate()}')\n",
        "print(f'Total frames {wav.getnframes()}')\n",
        "print(f'Duration {wav.getnframes() / wav.getframerate()} sec')\n",
        "print(f'Label is {rand_ex.labels.values[0]} \\n' )\n",
        "import IPython\n",
        "IPython.display.Audio(path_audiofile)"
      ],
      "execution_count": 0,
      "outputs": []
    },
    {
      "metadata": {
        "id": "amS6TzdR9Hbj",
        "colab_type": "text"
      },
      "cell_type": "markdown",
      "source": [
        "Finally we now save this cleaned dataframe."
      ]
    },
    {
      "metadata": {
        "id": "Zz2dWcyJ9F_j",
        "colab_type": "code",
        "colab": {}
      },
      "cell_type": "code",
      "source": [
        "train.to_csv(os.path.join(dir_data, 'train_curated_clean.csv'))"
      ],
      "execution_count": 0,
      "outputs": []
    },
    {
      "metadata": {
        "id": "JNN8go-BB9RJ",
        "colab_type": "text"
      },
      "cell_type": "markdown",
      "source": [
        "# Construct The Model"
      ]
    },
    {
      "metadata": {
        "id": "eRb_Jb_2E9S7",
        "colab_type": "text"
      },
      "cell_type": "markdown",
      "source": [
        "First (Re)Load some Packages"
      ]
    },
    {
      "metadata": {
        "id": "tgzcJyleELS5",
        "colab_type": "code",
        "colab": {}
      },
      "cell_type": "code",
      "source": [
        "import numpy as np\n",
        "np.random.seed(1989)\n",
        "\n",
        "import os, shutil, cv2\n",
        "import pandas as pd\n",
        "\n",
        "from albumentations import (Compose, HorizontalFlip, CLAHE, HueSaturationValue, RandomCrop,\n",
        "    RandomBrightness, RandomContrast, RandomGamma, ToFloat, ShiftScaleRotate)\n",
        "\n",
        "\n",
        "from sklearn.model_selection import StratifiedKFold\n",
        "from keras import losses, models, optimizers\n",
        "from keras.activations import relu, softmax\n",
        "from keras.callbacks import (EarlyStopping, LearningRateScheduler, ModelCheckpoint, TensorBoard, ReduceLROnPlateau)\n",
        "from keras.layers import (Convolution1D, Dense, Dropout, GlobalAveragePooling1D, GlobalMaxPool1D, Input, MaxPool1D, concatenate) # for the 1D conv models\n",
        "from keras.layers import (Convolution2D, GlobalAveragePooling2D, BatchNormalization, Flatten, GlobalMaxPool2D, MaxPool2D, Activation, concatenate) # for the 2D models with MFCC\n",
        "from keras.utils import Sequence, to_categorical\n",
        "from keras import backend as K\n",
        "\n",
        "import warnings\n",
        "warnings.filterwarnings(\"ignore\", category=FutureWarning) "
      ],
      "execution_count": 0,
      "outputs": []
    },
    {
      "metadata": {
        "id": "jwyBlvquSv3R",
        "colab_type": "text"
      },
      "cell_type": "markdown",
      "source": [
        "Load the data, add some columns and set up some dictionnaries."
      ]
    },
    {
      "metadata": {
        "id": "mztnLIJ_F-az",
        "colab_type": "code",
        "colab": {}
      },
      "cell_type": "code",
      "source": [
        "dir_data = '/content/data'\n",
        "n_classes = len(labels)\n",
        "#train = pd.read_csv(os.path.join(dir_data, 'train_curated_clean.csv'))\n",
        "#test = pd.read_csv(os.path.join(dir_data, 'sample_submission.csv'))\n",
        "\n",
        "#train.set_index(\"fname\", inplace=True)\n",
        "#test.set_index(\"fname\", inplace=True)\n",
        "#train[\"label_idx\"] = train.labels.apply(lambda x: label_to_idx[x])"
      ],
      "execution_count": 0,
      "outputs": []
    },
    {
      "metadata": {
        "id": "FfwA08qn1Lxg",
        "colab_type": "code",
        "colab": {
          "base_uri": "https://localhost:8080/",
          "height": 241
        },
        "outputId": "350614db-79e8-4372-a3d7-3e41ed712e09"
      },
      "cell_type": "code",
      "source": [
        "filenames_and_labels = [(filename,filename.split('_')[0]) for filename in filenames]\n",
        "\n",
        "print(filenames_and_labels)\n",
        "\n",
        "train = pd.DataFrame(filenames_and_labels, columns=['fname', 'label'])\n",
        "train.head()"
      ],
      "execution_count": 29,
      "outputs": [
        {
          "output_type": "stream",
          "text": [
            "[('conoco_401.jpg', 'conoco'), ('chevron_292.jpg', 'chevron'), ('shell_194.jpg', 'shell'), ('shell_88.jpg', 'shell'), ('shell_14.jpg', 'shell'), ('conoco_283.jpg', 'conoco'), ('shell_276.jpg', 'shell'), ('chevron_37.jpg', 'chevron'), ('chevron_84.jpg', 'chevron'), ('chevron_44.jpg', 'chevron'), ('chevron_60.jpg', 'chevron'), ('chevron_119.jpg', 'chevron'), ('shell_278.jpg', 'shell'), ('phillips_154.jpg', 'phillips'), ('chevron_352.jpg', 'chevron'), ('conoco_114.jpg', 'conoco'), ('shell_191.jpg', 'shell'), ('conoco_370.jpg', 'conoco'), ('chevron_324.jpg', 'chevron'), ('conoco_356.jpg', 'conoco'), ('conoco_280.jpg', 'conoco'), ('shell_388.jpg', 'shell'), ('conoco_1.jpg', 'conoco'), ('shell_355.jpg', 'shell'), ('phillips_114.jpg', 'phillips'), ('conoco_136.png', 'conoco'), ('shell_73.jpg', 'shell'), ('conoco_203.jpg', 'conoco'), ('shell_3.jpg', 'shell'), ('shell_49.jpg', 'shell'), ('chevron_385.jpg', 'chevron'), ('shell_209.jpg', 'shell'), ('phillips_369.jpg', 'phillips'), ('phillips_39.jpg', 'phillips'), ('shell_143.jpg', 'shell'), ('conoco_197.jpg', 'conoco'), ('conoco_284.jpg', 'conoco'), ('chevron_157.jpg', 'chevron'), ('shell_327.jpg', 'shell'), ('conoco_339.jpg', 'conoco'), ('shell_72.jpeg', 'shell'), ('chevron_378.jpg', 'chevron'), ('chevron_241.jpg', 'chevron'), ('shell_203.jpg', 'shell'), ('shell_374.jpg', 'shell'), ('conoco_101.jpg', 'conoco'), ('phillips_378.jpg', 'phillips'), ('shell_261.jpg', 'shell'), ('chevron_80.jpg', 'chevron'), ('chevron_267.jpg', 'chevron'), ('chevron_30.jpg', 'chevron'), ('chevron_178.jpg', 'chevron'), ('chevron_185.jpg', 'chevron'), ('conoco_14.jpg', 'conoco'), ('phillips_143.jpg', 'phillips'), ('chevron_229.jpg', 'chevron'), ('shell_142.jpg', 'shell'), ('conoco_323.jpg', 'conoco'), ('phillips_83.jpg', 'phillips'), ('conoco_36.jpg', 'conoco'), ('shell_395.jpeg', 'shell'), ('shell_320.jpg', 'shell'), ('chevron_174.jpg', 'chevron'), ('chevron_34.jpg', 'chevron'), ('phillips_4.jpg', 'phillips'), ('chevron_154.png', 'chevron'), ('phillips_382.jpg', 'phillips'), ('phillips_172.png', 'phillips'), ('shell_277.png', 'shell'), ('shell_9.jpg', 'shell'), ('chevron_4.jpg', 'chevron'), ('chevron_307.jpg', 'chevron'), ('shell_148.jpg', 'shell'), ('chevron_346.jpg', 'chevron'), ('shell_396.jpg', 'shell'), ('conoco_43.jpg', 'conoco'), ('chevron_163.jpg', 'chevron'), ('chevron_61.jpg', 'chevron'), ('chevron_395.jpg', 'chevron'), ('chevron_235.jpg', 'chevron'), ('phillips_163.jpg', 'phillips'), ('chevron_19.jpg', 'chevron'), ('conoco_103.jpg', 'conoco'), ('chevron_32.jpg', 'chevron'), ('shell_303.jpg', 'shell'), ('phillips_93.jpg', 'phillips'), ('conoco_4.jpg', 'conoco'), ('shell_384.jpg', 'shell'), ('chevron_127.png', 'chevron'), ('phillips_291.jpg', 'phillips'), ('conoco_94.jpg', 'conoco'), ('phillips_112.jpg', 'phillips'), ('chevron_24.jpg', 'chevron'), ('shell_348.jpg', 'shell'), ('phillips_363.jpg', 'phillips'), ('conoco_292.jpg', 'conoco'), ('phillips_188.jpg', 'phillips'), ('phillips_91.jpg', 'phillips'), ('shell_13.jpg', 'shell'), ('chevron_126.jpg', 'chevron'), ('conoco_296.jpg', 'conoco'), ('conoco_42.jpg', 'conoco'), ('chevron_370.jpg', 'chevron'), ('phillips_320.jpg', 'phillips'), ('shell_125.jpg', 'shell'), ('phillips_361.jpg', 'phillips'), ('chevron_3.jpg', 'chevron'), ('shell_21.jpg', 'shell'), ('shell_182.jpg', 'shell'), ('phillips_207.jpg', 'phillips'), ('conoco_342.jpg', 'conoco'), ('conoco_193.jpg', 'conoco'), ('conoco_201.jpg', 'conoco'), ('shell_378.jpg', 'shell'), ('chevron_301.jpg', 'chevron'), ('shell_292.jpg', 'shell'), ('conoco_69.jpg', 'conoco'), ('shell_85.jpg', 'shell'), ('shell_249.jpeg', 'shell'), ('conoco_298.jpg', 'conoco'), ('shell_375.jpg', 'shell'), ('chevron_139.png', 'chevron'), ('chevron_156.jpg', 'chevron'), ('phillips_241.jpg', 'phillips'), ('phillips_64.jpg', 'phillips'), ('chevron_27.jpg', 'chevron'), ('shell_34.jpg', 'shell'), ('shell_412.jpg', 'shell'), ('conoco_10.jpg', 'conoco'), ('chevron_8.jpg', 'chevron'), ('conoco_276.jpg', 'conoco'), ('chevron_319.jpg', 'chevron'), ('phillips_70.jpg', 'phillips'), ('shell_25.jpg', 'shell'), ('conoco_113.jpg', 'conoco'), ('shell_109.jpg', 'shell'), ('chevron_181.jpg', 'chevron'), ('chevron_118.jpg', 'chevron'), ('phillips_51.jpg', 'phillips'), ('phillips_66.jpg', 'phillips'), ('phillips_116.jpg', 'phillips'), ('shell_5.png', 'shell'), ('chevron_244.jpg', 'chevron'), ('phillips_190.jpg', 'phillips'), ('shell_101.jpg', 'shell'), ('conoco_234.jpg', 'conoco'), ('phillips_49.jpg', 'phillips'), ('phillips_269.jpg', 'phillips'), ('shell_57.jpg', 'shell'), ('phillips_293.jpg', 'phillips'), ('phillips_173.jpg', 'phillips'), ('shell_237.jpg', 'shell'), ('phillips_279.jpg', 'phillips'), ('phillips_77.jpg', 'phillips'), ('chevron_316.jpeg', 'chevron'), ('chevron_2.jpg', 'chevron'), ('chevron_322.jpg', 'chevron'), ('shell_343.jpg', 'shell'), ('phillips_352.jpg', 'phillips'), ('phillips_117.jpg', 'phillips'), ('phillips_342.jpg', 'phillips'), ('shell_97.jpg', 'shell'), ('shell_50.jpg', 'shell'), ('phillips_219.jpg', 'phillips'), ('phillips_289.jpg', 'phillips'), ('conoco_218.jpg', 'conoco'), ('chevron_131.jpg', 'chevron'), ('conoco_207.jpg', 'conoco'), ('phillips_223.jpg', 'phillips'), ('phillips_278.jpg', 'phillips'), ('conoco_250.jpg', 'conoco'), ('phillips_96.jpg', 'phillips'), ('chevron_358.jpg', 'chevron'), ('conoco_149.jpg', 'conoco'), ('phillips_107.jpg', 'phillips'), ('shell_342.jpg', 'shell'), ('conoco_192.jpg', 'conoco'), ('chevron_299.jpg', 'chevron'), ('chevron_302.jpg', 'chevron'), ('shell_71.jpg', 'shell'), ('shell_202.jpg', 'shell'), ('chevron_348.jpg', 'chevron'), ('chevron_81.jpg', 'chevron'), ('conoco_30.jpg', 'conoco'), ('shell_79.jpg', 'shell'), ('phillips_44.jpg', 'phillips'), ('chevron_16.jpg', 'chevron'), ('phillips_92.jpg', 'phillips'), ('conoco_231.jpg', 'conoco'), ('phillips_329.jpg', 'phillips'), ('phillips_57.jpeg', 'phillips'), ('conoco_333.jpg', 'conoco'), ('shell_216.jpeg', 'shell'), ('chevron_148.jpg', 'chevron'), ('conoco_120.jpg', 'conoco'), ('phillips_135.jpg', 'phillips'), ('chevron_323.jpg', 'chevron'), ('phillips_46.jpg', 'phillips'), ('chevron_29.jpg', 'chevron'), ('chevron_227.jpg', 'chevron'), ('chevron_194.jpg', 'chevron'), ('chevron_14.jpg', 'chevron'), ('chevron_337.jpg', 'chevron'), ('conoco_96.jpg', 'conoco'), ('phillips_30.jpg', 'phillips'), ('chevron_184.jpg', 'chevron'), ('conoco_22.jpg', 'conoco'), ('phillips_80.jpg', 'phillips'), ('shell_112.jpg', 'shell'), ('phillips_124.jpg', 'phillips'), ('chevron_213.jpg', 'chevron'), ('shell_32.jpg', 'shell'), ('conoco_413.jpg', 'conoco'), ('phillips_12.jpg', 'phillips'), ('phillips_201.jpg', 'phillips'), ('phillips_301.jpg', 'phillips'), ('phillips_65.jpg', 'phillips'), ('shell_186.jpeg', 'shell'), ('chevron_117.jpg', 'chevron'), ('shell_224.jpg', 'shell'), ('shell_122.jpg', 'shell'), ('shell_157.jpg', 'shell'), ('shell_210.jpg', 'shell'), ('phillips_105.jpg', 'phillips'), ('chevron_5.jpg', 'chevron'), ('shell_403.jpg', 'shell'), ('chevron_159.jpg', 'chevron'), ('shell_339.jpg', 'shell'), ('chevron_100.jpg', 'chevron'), ('shell_146.jpg', 'shell'), ('shell_64.jpg', 'shell'), ('conoco_340.jpg', 'conoco'), ('shell_15.jpg', 'shell'), ('chevron_1.jpg', 'chevron'), ('conoco_29.jpg', 'conoco'), ('chevron_182.jpg', 'chevron'), ('conoco_93.jpg', 'conoco'), ('shell_26.jpg', 'shell'), ('shell_393.jpg', 'shell'), ('shell_269.jpg', 'shell'), ('phillips_98.jpg', 'phillips'), ('phillips_17.jpg', 'phillips'), ('conoco_221.jpg', 'conoco'), ('phillips_366.jpg', 'phillips'), ('phillips_5.jpg', 'phillips'), ('phillips_230.jpg', 'phillips'), ('shell_391.jpg', 'shell'), ('chevron_205.jpg', 'chevron'), ('chevron_291.jpg', 'chevron'), ('conoco_137.jpg', 'conoco'), ('shell_253.jpg', 'shell'), ('phillips_387.jpg', 'phillips'), ('chevron_41.jpg', 'chevron'), ('phillips_36.jpg', 'phillips'), ('conoco_73.jpg', 'conoco'), ('shell_35.jpg', 'shell'), ('conoco_92.jpg', 'conoco'), ('conoco_102.jpg', 'conoco'), ('shell_387.png', 'shell'), ('shell_11.jpg', 'shell'), ('phillips_193.jpg', 'phillips'), ('shell_165.jpg', 'shell'), ('chevron_179.png', 'chevron'), ('shell_54.jpg', 'shell'), ('conoco_226.jpg', 'conoco'), ('chevron_23.jpg', 'chevron'), ('shell_60.jpg', 'shell'), ('chevron_171.jpg', 'chevron'), ('phillips_215.jpg', 'phillips'), ('conoco_2.jpg', 'conoco'), ('phillips_308.jpg', 'phillips'), ('phillips_26.jpg', 'phillips'), ('phillips_324.jpg', 'phillips'), ('phillips_169.jpg', 'phillips'), ('phillips_310.jpg', 'phillips'), ('conoco_148.jpg', 'conoco'), ('phillips_159.jpg', 'phillips'), ('chevron_239.jpg', 'chevron'), ('shell_252.jpg', 'shell'), ('phillips_282.jpg', 'phillips'), ('chevron_75.jpg', 'chevron'), ('chevron_133.jpg', 'chevron'), ('conoco_107.jpeg', 'conoco'), ('phillips_246.jpg', 'phillips'), ('phillips_195.jpg', 'phillips'), ('conoco_406.jpg', 'conoco'), ('shell_263.jpg', 'shell'), ('chevron_153.jpg', 'chevron'), ('shell_77.jpg', 'shell'), ('chevron_59.jpg', 'chevron'), ('conoco_8.jpg', 'conoco'), ('conoco_51.jpg', 'conoco'), ('phillips_139.jpg', 'phillips'), ('chevron_76.jpg', 'chevron'), ('phillips_67.jpg', 'phillips'), ('shell_257.jpg', 'shell'), ('phillips_131.jpg', 'phillips'), ('chevron_70.png', 'chevron'), ('conoco_395.jpg', 'conoco'), ('shell_167.jpg', 'shell'), ('shell_172.jpg', 'shell'), ('phillips_389.jpg', 'phillips'), ('phillips_317.jpg', 'phillips'), ('conoco_378.jpeg', 'conoco'), ('shell_74.jpg', 'shell'), ('shell_22.jpg', 'shell'), ('shell_58.jpg', 'shell'), ('shell_227.jpg', 'shell'), ('shell_285.jpeg', 'shell'), ('conoco_166.jpg', 'conoco'), ('chevron_89.jpg', 'chevron'), ('phillips_191.jpg', 'phillips'), ('chevron_160.jpg', 'chevron'), ('chevron_71.jpg', 'chevron'), ('chevron_55.jpg', 'chevron'), ('phillips_168.jpg', 'phillips'), ('shell_70.jpg', 'shell'), ('shell_215.jpg', 'shell'), ('shell_41.jpg', 'shell'), ('phillips_72.jpg', 'phillips'), ('chevron_177.jpg', 'chevron'), ('phillips_272.jpg', 'phillips'), ('conoco_99.jpg', 'conoco'), ('phillips_186.jpg', 'phillips'), ('chevron_377.jpg', 'chevron'), ('conoco_202.jpg', 'conoco'), ('chevron_211.jpg', 'chevron'), ('chevron_151.jpg', 'chevron'), ('conoco_41.jpg', 'conoco'), ('chevron_73.jpg', 'chevron'), ('chevron_207.jpg', 'chevron'), ('shell_254.jpg', 'shell'), ('chevron_293.jpg', 'chevron'), ('conoco_224.jpg', 'conoco'), ('conoco_9.jpg', 'conoco'), ('conoco_79.jpg', 'conoco'), ('shell_256.jpg', 'shell'), ('shell_65.png', 'shell'), ('conoco_318.jpg', 'conoco'), ('shell_171.jpg', 'shell'), ('chevron_72.jpg', 'chevron'), ('phillips_170.jpg', 'phillips'), ('shell_309.jpg', 'shell'), ('phillips_123.jpg', 'phillips'), ('shell_93.jpg', 'shell'), ('phillips_221.jpg', 'phillips'), ('phillips_343.jpg', 'phillips'), ('shell_221.jpg', 'shell'), ('chevron_10.jpg', 'chevron'), ('phillips_285.jpg', 'phillips'), ('shell_184.jpg', 'shell'), ('conoco_83.png', 'conoco'), ('chevron_297.jpg', 'chevron'), ('conoco_140.jpg', 'conoco'), ('phillips_346.jpg', 'phillips'), ('phillips_1.jpg', 'phillips'), ('chevron_13.jpg', 'chevron'), ('phillips_187.jpg', 'phillips'), ('phillips_71.jpg', 'phillips'), ('chevron_104.jpg', 'chevron'), ('conoco_321.jpg', 'conoco'), ('conoco_75.jpg', 'conoco'), ('phillips_101.jpg', 'phillips'), ('chevron_124.jpg', 'chevron'), ('shell_95.jpg', 'shell'), ('shell_66.jpg', 'shell'), ('phillips_357.jpg', 'phillips'), ('conoco_24.jpg', 'conoco'), ('chevron_54.jpg', 'chevron'), ('chevron_285.jpg', 'chevron'), ('shell_314.jpg', 'shell'), ('shell_329.jpg', 'shell'), ('shell_363.jpg', 'shell'), ('chevron_6.jpg', 'chevron'), ('shell_214.jpg', 'shell'), ('conoco_128.jpg', 'conoco'), ('chevron_195.jpg', 'chevron'), ('conoco_85.jpg', 'conoco'), ('shell_39.jpg', 'shell'), ('chevron_69.jpg', 'chevron'), ('phillips_146.jpg', 'phillips'), ('phillips_29.jpg', 'phillips'), ('chevron_304.jpg', 'chevron'), ('chevron_87.jpg', 'chevron'), ('shell_37.jpg', 'shell'), ('shell_51.jpg', 'shell'), ('conoco_167.jpg', 'conoco'), ('shell_246.jpg', 'shell'), ('phillips_276.jpg', 'phillips'), ('shell_145.jpg', 'shell'), ('phillips_153.jpg', 'phillips'), ('phillips_307.jpg', 'phillips'), ('phillips_231.jpg', 'phillips'), ('phillips_31.jpg', 'phillips'), ('phillips_156.jpg', 'phillips'), ('conoco_244.jpg', 'conoco'), ('chevron_266.jpg', 'chevron'), ('chevron_40.jpg', 'chevron'), ('phillips_52.jpg', 'phillips'), ('shell_23.jpg', 'shell'), ('chevron_206.jpg', 'chevron'), ('conoco_160.jpg', 'conoco'), ('shell_149.jpg', 'shell'), ('chevron_217.jpg', 'chevron'), ('chevron_234.jpg', 'chevron'), ('chevron_146.jpg', 'chevron'), ('conoco_358.jpeg', 'conoco'), ('shell_63.png', 'shell'), ('chevron_335.jpg', 'chevron'), ('chevron_340.jpg', 'chevron'), ('phillips_189.jpg', 'phillips'), ('shell_151.jpg', 'shell'), ('shell_364.jpeg', 'shell'), ('chevron_17.jpg', 'chevron'), ('phillips_319.jpg', 'phillips'), ('shell_405.jpg', 'shell'), ('chevron_225.jpg', 'chevron'), ('shell_326.jpg', 'shell'), ('chevron_311.png', 'chevron'), ('conoco_329.jpg', 'conoco'), ('phillips_183.jpg', 'phillips'), ('phillips_174.jpg', 'phillips'), ('chevron_97.jpg', 'chevron'), ('shell_80.jpg', 'shell'), ('chevron_196.jpg', 'chevron'), ('chevron_79.jpg', 'chevron'), ('shell_62.jpg', 'shell'), ('chevron_200.jpg', 'chevron'), ('shell_130.jpg', 'shell'), ('phillips_104.jpg', 'phillips'), ('conoco_52.jpg', 'conoco'), ('phillips_321.jpg', 'phillips'), ('chevron_255.jpg', 'chevron'), ('chevron_180.jpeg', 'chevron'), ('shell_4.jpg', 'shell'), ('conoco_297.png', 'conoco'), ('shell_262.jpg', 'shell'), ('shell_119.jpg', 'shell'), ('shell_381.jpg', 'shell'), ('phillips_19.jpg', 'phillips'), ('shell_78.jpg', 'shell'), ('phillips_213.jpg', 'phillips'), ('phillips_62.jpg', 'phillips'), ('chevron_47.jpg', 'chevron'), ('phillips_349.jpg', 'phillips'), ('conoco_156.jpg', 'conoco'), ('shell_12.jpg', 'shell'), ('shell_45.jpg', 'shell'), ('phillips_196.jpg', 'phillips'), ('chevron_357.jpg', 'chevron'), ('chevron_347.jpg', 'chevron'), ('shell_116.jpg', 'shell'), ('phillips_7.jpg', 'phillips'), ('chevron_279.jpg', 'chevron'), ('chevron_78.jpg', 'chevron'), ('chevron_138.jpg', 'chevron'), ('chevron_95.jpg', 'chevron'), ('phillips_224.jpg', 'phillips'), ('phillips_255.jpg', 'phillips'), ('conoco_191.jpeg', 'conoco'), ('phillips_256.jpg', 'phillips'), ('conoco_50.jpg', 'conoco'), ('chevron_287.jpg', 'chevron'), ('shell_7.jpg', 'shell'), ('phillips_283.jpg', 'phillips'), ('phillips_288.jpg', 'phillips'), ('phillips_275.jpg', 'phillips'), ('phillips_316.jpg', 'phillips'), ('chevron_269.png', 'chevron'), ('phillips_234.jpg', 'phillips'), ('conoco_183.jpg', 'conoco'), ('shell_268.jpg', 'shell'), ('conoco_100.jpg', 'conoco'), ('shell_59.jpg', 'shell'), ('phillips_175.jpg', 'phillips'), ('shell_141.jpg', 'shell'), ('shell_251.jpg', 'shell'), ('conoco_229.jpg', 'conoco'), ('shell_10.jpg', 'shell'), ('chevron_204.jpg', 'chevron'), ('conoco_382.jpg', 'conoco'), ('shell_24.jpg', 'shell'), ('shell_300.jpg', 'shell'), ('shell_124.jpg', 'shell'), ('chevron_230.jpg', 'chevron'), ('conoco_37.jpg', 'conoco'), ('phillips_40.jpg', 'phillips'), ('shell_133.jpg', 'shell'), ('chevron_114.jpg', 'chevron'), ('phillips_210.jpg', 'phillips'), ('phillips_136.jpg', 'phillips'), ('phillips_250.jpg', 'phillips'), ('shell_96.jpg', 'shell'), ('shell_147.jpg', 'shell'), ('shell_235.jpg', 'shell'), ('phillips_28.jpg', 'phillips'), ('shell_67.jpeg', 'shell'), ('shell_110.jpg', 'shell'), ('shell_152.jpg', 'shell'), ('shell_211.jpg', 'shell'), ('conoco_195.jpg', 'conoco'), ('shell_174.jpg', 'shell'), ('conoco_372.png', 'conoco'), ('chevron_98.jpg', 'chevron'), ('shell_341.jpg', 'shell'), ('conoco_119.jpg', 'conoco'), ('chevron_31.jpg', 'chevron'), ('shell_155.jpg', 'shell'), ('shell_290.jpg', 'shell'), ('shell_87.jpg', 'shell'), ('phillips_383.jpg', 'phillips'), ('conoco_223.jpg', 'conoco'), ('shell_275.jpg', 'shell'), ('conoco_247.jpg', 'conoco'), ('shell_347.jpg', 'shell'), ('conoco_31.jpg', 'conoco'), ('phillips_14.jpg', 'phillips'), ('phillips_344.jpg', 'phillips'), ('shell_61.jpg', 'shell'), ('shell_128.jpg', 'shell'), ('phillips_50.jpg', 'phillips'), ('phillips_372.jpg', 'phillips'), ('chevron_226.jpg', 'chevron'), ('shell_177.jpg', 'shell'), ('shell_86.jpg', 'shell'), ('chevron_249.jpg', 'chevron'), ('shell_204.jpg', 'shell'), ('shell_234.jpg', 'shell'), ('phillips_94.jpg', 'phillips'), ('chevron_214.jpg', 'chevron'), ('shell_360.jpg', 'shell'), ('conoco_359.png', 'conoco'), ('chevron_263.jpg', 'chevron'), ('conoco_343.jpg', 'conoco'), ('phillips_113.jpg', 'phillips'), ('shell_338.jpg', 'shell'), ('shell_102.jpg', 'shell'), ('chevron_52.jpg', 'chevron'), ('chevron_248.jpg', 'chevron'), ('shell_68.jpg', 'shell'), ('chevron_155.jpg', 'chevron'), ('chevron_183.jpg', 'chevron'), ('phillips_287.jpg', 'phillips'), ('phillips_340.jpg', 'phillips'), ('shell_90.jpg', 'shell'), ('phillips_95.jpg', 'phillips'), ('shell_240.jpg', 'shell'), ('phillips_267.jpg', 'phillips'), ('conoco_236.jpg', 'conoco'), ('conoco_368.png', 'conoco'), ('chevron_350.jpg', 'chevron'), ('chevron_91.jpg', 'chevron'), ('phillips_332.jpg', 'phillips'), ('chevron_136.jpg', 'chevron'), ('chevron_189.png', 'chevron'), ('shell_8.jpg', 'shell'), ('shell_217.jpg', 'shell'), ('shell_29.png', 'shell'), ('shell_273.jpg', 'shell'), ('phillips_22.jpg', 'phillips'), ('phillips_302.jpg', 'phillips'), ('shell_248.jpg', 'shell'), ('shell_230.jpg', 'shell'), ('conoco_225.jpg', 'conoco'), ('conoco_273.jpg', 'conoco'), ('phillips_245.jpg', 'phillips'), ('chevron_7.jpg', 'chevron'), ('chevron_39.jpg', 'chevron'), ('chevron_121.jpg', 'chevron'), ('shell_156.jpg', 'shell'), ('phillips_102.jpg', 'phillips'), ('conoco_78.jpg', 'conoco'), ('chevron_15.jpg', 'chevron'), ('phillips_60.jpg', 'phillips'), ('phillips_15.jpg', 'phillips'), ('chevron_281.jpg', 'chevron'), ('chevron_49.png', 'chevron'), ('chevron_376.jpeg', 'chevron'), ('phillips_99.jpg', 'phillips'), ('chevron_96.jpg', 'chevron'), ('shell_6.jpg', 'shell'), ('conoco_44.jpg', 'conoco'), ('chevron_99.jpg', 'chevron'), ('shell_127.jpg', 'shell'), ('shell_33.jpg', 'shell'), ('shell_138.jpg', 'shell'), ('chevron_305.jpg', 'chevron'), ('phillips_376.jpg', 'phillips'), ('phillips_261.jpg', 'phillips'), ('phillips_280.jpg', 'phillips'), ('conoco_179.jpg', 'conoco'), ('chevron_268.jpg', 'chevron'), ('shell_350.jpg', 'shell'), ('shell_379.jpg', 'shell'), ('shell_322.jpg', 'shell'), ('phillips_225.jpg', 'phillips'), ('phillips_75.jpg', 'phillips'), ('conoco_260.jpg', 'conoco'), ('shell_311.jpg', 'shell'), ('conoco_312.jpg', 'conoco'), ('phillips_9.png', 'phillips'), ('conoco_227.jpg', 'conoco'), ('shell_321.jpg', 'shell'), ('chevron_20.jpg', 'chevron'), ('chevron_101.jpg', 'chevron'), ('conoco_67.jpg', 'conoco'), ('conoco_145.jpg', 'conoco'), ('phillips_202.jpg', 'phillips'), ('chevron_113.jpg', 'chevron'), ('chevron_51.jpg', 'chevron'), ('conoco_172.jpg', 'conoco'), ('chevron_22.jpg', 'chevron'), ('shell_239.jpg', 'shell'), ('phillips_358.jpg', 'phillips'), ('chevron_33.jpg', 'chevron'), ('phillips_377.jpg', 'phillips'), ('chevron_164.jpg', 'chevron'), ('chevron_28.jpg', 'chevron'), ('shell_17.jpg', 'shell'), ('chevron_103.jpg', 'chevron'), ('chevron_58.jpg', 'chevron'), ('shell_106.jpg', 'shell'), ('shell_69.jpg', 'shell'), ('shell_193.jpg', 'shell'), ('shell_340.jpg', 'shell'), ('shell_154.jpg', 'shell'), ('conoco_74.jpg', 'conoco'), ('chevron_265.jpg', 'chevron'), ('conoco_396.jpg', 'conoco'), ('phillips_257.jpg', 'phillips'), ('shell_108.jpg', 'shell'), ('chevron_215.jpg', 'chevron'), ('phillips_327.jpg', 'phillips'), ('chevron_42.jpg', 'chevron'), ('shell_287.jpg', 'shell'), ('phillips_222.jpg', 'phillips'), ('chevron_243.jpg', 'chevron'), ('shell_120.jpg', 'shell'), ('shell_238.png', 'shell'), ('chevron_150.jpg', 'chevron'), ('chevron_85.jpg', 'chevron'), ('phillips_35.jpg', 'phillips'), ('chevron_286.jpg', 'chevron'), ('shell_135.jpg', 'shell'), ('chevron_355.jpg', 'chevron'), ('conoco_98.jpg', 'conoco'), ('phillips_166.jpg', 'phillips'), ('phillips_160.jpg', 'phillips'), ('shell_1.jpg', 'shell'), ('chevron_303.jpg', 'chevron'), ('chevron_11.jpg', 'chevron'), ('phillips_292.jpg', 'phillips'), ('chevron_147.png', 'chevron'), ('chevron_242.jpg', 'chevron'), ('chevron_12.jpg', 'chevron'), ('shell_259.jpg', 'shell'), ('conoco_129.jpg', 'conoco'), ('chevron_199.jpg', 'chevron'), ('phillips_355.jpg', 'phillips'), ('phillips_58.jpg', 'phillips'), ('shell_81.jpg', 'shell'), ('chevron_26.jpg', 'chevron'), ('conoco_256.jpg', 'conoco'), ('shell_367.jpg', 'shell'), ('phillips_59.png', 'phillips'), ('conoco_19.jpg', 'conoco'), ('phillips_81.jpg', 'phillips'), ('chevron_48.jpg', 'chevron'), ('conoco_121.jpg', 'conoco'), ('shell_220.jpg', 'shell'), ('chevron_176.jpg', 'chevron'), ('shell_308.jpg', 'shell'), ('chevron_53.jpg', 'chevron'), ('shell_123.jpg', 'shell'), ('phillips_144.jpg', 'phillips'), ('conoco_379.jpg', 'conoco'), ('phillips_37.jpg', 'phillips'), ('shell_179.jpg', 'shell'), ('chevron_145.jpg', 'chevron'), ('chevron_309.png', 'chevron'), ('phillips_209.jpg', 'phillips'), ('phillips_16.png', 'phillips'), ('phillips_296.jpg', 'phillips'), ('chevron_220.jpg', 'chevron'), ('chevron_224.jpg', 'chevron'), ('phillips_334.jpg', 'phillips'), ('conoco_387.jpg', 'conoco'), ('shell_317.jpg', 'shell'), ('chevron_361.jpg', 'chevron'), ('shell_160.jpg', 'shell'), ('phillips_390.jpg', 'phillips'), ('chevron_289.jpg', 'chevron'), ('chevron_9.jpg', 'chevron'), ('conoco_5.jpg', 'conoco'), ('shell_55.jpg', 'shell'), ('phillips_138.jpg', 'phillips'), ('chevron_152.jpg', 'chevron'), ('conoco_39.jpg', 'conoco'), ('phillips_364.jpg', 'phillips'), ('shell_100.jpg', 'shell'), ('conoco_32.jpg', 'conoco'), ('shell_103.jpg', 'shell'), ('shell_241.jpg', 'shell'), ('phillips_260.jpg', 'phillips'), ('conoco_64.jpg', 'conoco'), ('chevron_190.jpg', 'chevron'), ('phillips_78.jpg', 'phillips'), ('chevron_36.jpg', 'chevron'), ('shell_52.jpg', 'shell'), ('chevron_398.jpg', 'chevron'), ('phillips_32.jpg', 'phillips'), ('phillips_27.jpg', 'phillips'), ('phillips_148.jpg', 'phillips'), ('chevron_162.jpg', 'chevron'), ('phillips_149.jpg', 'phillips'), ('shell_260.jpg', 'shell'), ('shell_99.jpeg', 'shell'), ('chevron_343.jpg', 'chevron'), ('shell_272.jpg', 'shell'), ('chevron_338.jpg', 'chevron'), ('phillips_345.jpg', 'phillips'), ('shell_132.jpg', 'shell'), ('chevron_172.png', 'chevron'), ('phillips_326.jpg', 'phillips'), ('chevron_262.jpg', 'chevron'), ('shell_19.jpg', 'shell'), ('chevron_66.jpg', 'chevron'), ('phillips_147.jpg', 'phillips'), ('shell_107.jpg', 'shell'), ('phillips_315.jpg', 'phillips'), ('conoco_349.jpg', 'conoco'), ('shell_280.jpg', 'shell'), ('conoco_87.jpg', 'conoco'), ('phillips_133.jpg', 'phillips'), ('phillips_229.jpg', 'phillips'), ('phillips_23.jpg', 'phillips'), ('conoco_251.jpg', 'conoco'), ('chevron_321.jpg', 'chevron'), ('shell_181.jpg', 'shell'), ('conoco_3.jpg', 'conoco'), ('phillips_371.jpg', 'phillips'), ('shell_94.jpg', 'shell'), ('phillips_243.jpg', 'phillips'), ('phillips_368.jpg', 'phillips'), ('phillips_251.jpg', 'phillips'), ('conoco_217.jpg', 'conoco'), ('conoco_165.jpg', 'conoco'), ('chevron_86.jpg', 'chevron'), ('shell_20.jpg', 'shell'), ('phillips_385.jpg', 'phillips'), ('shell_47.jpg', 'shell'), ('conoco_127.jpg', 'conoco'), ('phillips_242.jpg', 'phillips'), ('chevron_43.jpg', 'chevron'), ('phillips_313.jpg', 'phillips'), ('shell_198.jpg', 'shell'), ('shell_44.png', 'shell'), ('shell_226.png', 'shell'), ('conoco_170.jpg', 'conoco'), ('chevron_258.jpg', 'chevron'), ('shell_113.jpg', 'shell'), ('phillips_286.jpg', 'phillips'), ('conoco_16.jpg', 'conoco'), ('shell_76.jpg', 'shell'), ('conoco_291.jpg', 'conoco'), ('conoco_7.jpg', 'conoco'), ('shell_190.jpg', 'shell'), ('chevron_25.jpg', 'chevron'), ('conoco_123.jpg', 'conoco')]\n"
          ],
          "name": "stdout"
        },
        {
          "output_type": "execute_result",
          "data": {
            "text/html": [
              "<div>\n",
              "<style scoped>\n",
              "    .dataframe tbody tr th:only-of-type {\n",
              "        vertical-align: middle;\n",
              "    }\n",
              "\n",
              "    .dataframe tbody tr th {\n",
              "        vertical-align: top;\n",
              "    }\n",
              "\n",
              "    .dataframe thead th {\n",
              "        text-align: right;\n",
              "    }\n",
              "</style>\n",
              "<table border=\"1\" class=\"dataframe\">\n",
              "  <thead>\n",
              "    <tr style=\"text-align: right;\">\n",
              "      <th></th>\n",
              "      <th>fname</th>\n",
              "      <th>label</th>\n",
              "    </tr>\n",
              "  </thead>\n",
              "  <tbody>\n",
              "    <tr>\n",
              "      <th>0</th>\n",
              "      <td>conoco_401.jpg</td>\n",
              "      <td>conoco</td>\n",
              "    </tr>\n",
              "    <tr>\n",
              "      <th>1</th>\n",
              "      <td>chevron_292.jpg</td>\n",
              "      <td>chevron</td>\n",
              "    </tr>\n",
              "    <tr>\n",
              "      <th>2</th>\n",
              "      <td>shell_194.jpg</td>\n",
              "      <td>shell</td>\n",
              "    </tr>\n",
              "    <tr>\n",
              "      <th>3</th>\n",
              "      <td>shell_88.jpg</td>\n",
              "      <td>shell</td>\n",
              "    </tr>\n",
              "    <tr>\n",
              "      <th>4</th>\n",
              "      <td>shell_14.jpg</td>\n",
              "      <td>shell</td>\n",
              "    </tr>\n",
              "  </tbody>\n",
              "</table>\n",
              "</div>"
            ],
            "text/plain": [
              "             fname    label\n",
              "0   conoco_401.jpg   conoco\n",
              "1  chevron_292.jpg  chevron\n",
              "2    shell_194.jpg    shell\n",
              "3     shell_88.jpg    shell\n",
              "4     shell_14.jpg    shell"
            ]
          },
          "metadata": {
            "tags": []
          },
          "execution_count": 29
        }
      ]
    },
    {
      "metadata": {
        "id": "Ru4064DxXt8N",
        "colab_type": "text"
      },
      "cell_type": "markdown",
      "source": [
        "The Configuration class : In particular contains the default settings."
      ]
    },
    {
      "metadata": {
        "id": "2WnwsyPIGQ1V",
        "colab_type": "code",
        "colab": {}
      },
      "cell_type": "code",
      "source": [
        "class Config(object):\n",
        "\tdef __init__(self, model_name = None, n_classes=n_classes, image_size=(64,64,3), n_folds=1, learning_rate=0.0001, max_epochs=10):\n",
        "\n",
        "\t\tself.n_classes = n_classes\n",
        "\t\tself.image_size = image_size\n",
        "\t\tself.n_folds = n_folds\n",
        "\t\tself.learning_rate = learning_rate\n",
        "\t\tself.max_epochs = max_epochs\n",
        "\t\tself.model_name = model_name"
      ],
      "execution_count": 0,
      "outputs": []
    },
    {
      "metadata": {
        "id": "6y1g4Yt9Gk7E",
        "colab_type": "text"
      },
      "cell_type": "markdown",
      "source": [
        "The Datagenerator class : Inherits from Keras.utils.Sequence to efficiently feed the data.\n",
        "\n",
        "I think that the normalization is done batch by batch, which is not good, as it's done the same way on the test set. "
      ]
    },
    {
      "metadata": {
        "id": "Q_cpm0v2Gf_u",
        "colab_type": "code",
        "colab": {}
      },
      "cell_type": "code",
      "source": [
        "class DataGenerator(Sequence): # Inherits from Keras.utils.Sequence for multiprocessing\n",
        "\n",
        "    def __init__(self, config, dir_data, list_IDs, labels=None,\n",
        "\t\t\t\t\tbatch_size=16, shuffle=False, augmentation = None, preprocessing_fn=lambda x: x):\n",
        "    \n",
        "        self.config = config\n",
        "        self.dir_data = dir_data\n",
        "        self.list_IDs = list_IDs\n",
        "        self.labels = labels\n",
        "        self.batch_size = batch_size\n",
        "        self.augment = augmentation\n",
        "        self.preprocessing_fn = preprocessing_fn\n",
        "        self.shuffle = shuffle ## DOES IT WORK TO HAVE TRUE ?\n",
        "        self.on_epoch_end()\n",
        "\n",
        "    # returns the number of batches in the Sequence (usually per 1 epoch)\n",
        "    def __len__(self):\n",
        "        return int(np.ceil(len(self.list_IDs) / self.batch_size))\n",
        "\n",
        "    # returns a complete batch at the place index\n",
        "    def __getitem__(self,index):\n",
        "        indexes_temp = self.indexes[index*self.batch_size:(index+1)*self.batch_size]\n",
        "        list_IDs_temp = [self.list_IDs[k] for k in indexes_temp]\n",
        "        return self.__data_generation(list_IDs_temp)\n",
        "\n",
        "    # called at the end of an epoch: reloads IDs\n",
        "    def on_epoch_end(self):\n",
        "        self.indexes = np.arange(len(self.list_IDs))\n",
        "        if self.shuffle == True:\n",
        "            print('Got to the end of an epoch. Shuffling the dataset')\n",
        "            np.random.shuffle(self.indexes)\n",
        "    \n",
        "    def __data_generation(self, list_IDs_temp):\n",
        "        cur_batch_size = len(list_IDs_temp)\n",
        "        X = np.empty((cur_batch_size, *self.config.image_size)) ### WHAT DIM FOR IMAGES ?\n",
        "        \n",
        "        for i,ID in enumerate(list_IDs_temp):\n",
        "            file_path = os.path.join(self.dir_data, ID)\n",
        "            \n",
        "            # read the image\n",
        "            img = cv2.cvtColor(cv2.imread(file_path), cv2.COLOR_RGB2BGR)\n",
        "            \n",
        "            \n",
        "            # other preprocesses (not augmenting though)\n",
        "            img = self.preprocessing_fn(img)  ## REMOVE THAT, SET NONE BY DEFAULT AND DO AN IF self.pre: ...etc\n",
        "            \n",
        "            # augment and save in the big array X\n",
        "            if self.augment:\n",
        "                X[i,] = self.augment(image=img)[\"image\"]\n",
        "        \n",
        "        if self.labels is not None:\n",
        "            y = np.empty(cur_batch_size, dtype=float)\n",
        "            for i, ID in enumerate(list_IDs_temp):\n",
        "                y[i] = self.labels[ID]\n",
        "            \n",
        "            return X, to_categorical(y, num_classes=self.config.n_classes)\n",
        "        else:\n",
        "            return X"
      ],
      "execution_count": 0,
      "outputs": []
    },
    {
      "metadata": {
        "id": "v2_qJX-aY8QI",
        "colab_type": "text"
      },
      "cell_type": "markdown",
      "source": [
        "Here is the dummy 2d model that applies to the audio data after MFCC. Name = dummy2d"
      ]
    },
    {
      "metadata": {
        "id": "q9SoBNfgY7py",
        "colab_type": "code",
        "colab": {}
      },
      "cell_type": "code",
      "source": [
        "def get_2d_dummy_model(config):\n",
        "    \n",
        "    nclass = config.n_classes\n",
        "    \n",
        "    inp = Input(shape=(config.dim[0],config.dim[1],1))\n",
        "    x = GlobalMaxPool2D()(inp)\n",
        "    out = Dense(nclass, activation=softmax)(x)\n",
        "\n",
        "    model = models.Model(inputs=inp, outputs=out)\n",
        "    opt = optimizers.Adam(config.learning_rate)\n",
        "\n",
        "    model.compile(optimizer=opt, loss=losses.categorical_crossentropy, metrics=['acc'])\n",
        "    return model"
      ],
      "execution_count": 0,
      "outputs": []
    },
    {
      "metadata": {
        "id": "5Euw448aY7cR",
        "colab_type": "text"
      },
      "cell_type": "markdown",
      "source": [
        "And the larger 2D conv model. Name = conv2d"
      ]
    },
    {
      "metadata": {
        "id": "9fN2n-9JY815",
        "colab_type": "code",
        "colab": {}
      },
      "cell_type": "code",
      "source": [
        "def get_2d_conv_model(config):\n",
        "    \n",
        "    nclass = config.n_classes\n",
        "    \n",
        "    inp = Input(shape=(config.dim[0],config.dim[1],1))\n",
        "    x = Convolution2D(32, (4,10), padding=\"same\")(inp)\n",
        "    x = BatchNormalization()(x)\n",
        "    x = Activation(\"relu\")(x)\n",
        "    x = MaxPool2D()(x)\n",
        "    \n",
        "    x = Convolution2D(32, (4,10), padding=\"same\")(x)\n",
        "    x = BatchNormalization()(x)\n",
        "    x = Activation(\"relu\")(x)\n",
        "    x = MaxPool2D()(x)\n",
        "    \n",
        "    x = Convolution2D(32, (4,10), padding=\"same\")(x)\n",
        "    x = BatchNormalization()(x)\n",
        "    x = Activation(\"relu\")(x)\n",
        "    x = MaxPool2D()(x)\n",
        "    \n",
        "    x = Convolution2D(32, (4,10), padding=\"same\")(x)\n",
        "    x = BatchNormalization()(x)\n",
        "    x = Activation(\"relu\")(x)\n",
        "    x = MaxPool2D()(x)\n",
        "\n",
        "    x = Flatten()(x)\n",
        "    x = Dense(64)(x)\n",
        "    x = BatchNormalization()(x)\n",
        "    x = Activation(\"relu\")(x)\n",
        "    out = Dense(nclass, activation=softmax)(x)\n",
        "\n",
        "    model = models.Model(inputs=inp, outputs=out)\n",
        "    opt = optimizers.Adam(config.learning_rate)\n",
        "\n",
        "    model.compile(optimizer=opt, loss=losses.categorical_crossentropy, metrics=['acc'])\n",
        "    return model"
      ],
      "execution_count": 0,
      "outputs": []
    },
    {
      "metadata": {
        "id": "6TJhUuuHYXG9",
        "colab_type": "text"
      },
      "cell_type": "markdown",
      "source": [
        "# Run The Model!"
      ]
    },
    {
      "metadata": {
        "id": "VTmdu86ciq92",
        "colab_type": "text"
      },
      "cell_type": "markdown",
      "source": [
        "Set-up the Paths for the data"
      ]
    },
    {
      "metadata": {
        "id": "LOiwhPZ9irGk",
        "colab_type": "code",
        "colab": {}
      },
      "cell_type": "code",
      "source": [
        "dir_log = os.path.join(dir_data, 'logs')\n",
        "if os.path.isdir(dir_log):\n",
        "        shutil.rmtree(dir_log)\n",
        "\n",
        "dir_pred = os.path.join(dir_data, 'pred')\n",
        "if os.path.isdir(dir_pred):\n",
        "    shutil.rmtree(dir_pred)\n",
        "os.mkdir(dir_pred)\n",
        "\n",
        "dir_train = os.path.join(dir_data)\n",
        "#dir_test = os.path.join(dir_data, 'test')"
      ],
      "execution_count": 0,
      "outputs": []
    },
    {
      "metadata": {
        "id": "G8wNpXt0Y_uH",
        "colab_type": "text"
      },
      "cell_type": "markdown",
      "source": [
        "Creating the config and other necessary objects"
      ]
    },
    {
      "metadata": {
        "id": "qpdMk0pbYZFG",
        "colab_type": "code",
        "colab": {}
      },
      "cell_type": "code",
      "source": [
        "config = Config(n_folds=3, learning_rate=0.001, max_epochs=50)\n",
        "\n",
        "skf = StratifiedKFold(n_splits=config.n_folds)\n",
        "\n",
        "augmentation_train = Compose([ \n",
        "    RandomCrop(16,16),\n",
        "    HorizontalFlip(p=0.5),\n",
        "    RandomContrast(limit=0.2, p=0.5),\n",
        "    RandomGamma(gamma_limit=(80, 120), p=0.5),\n",
        "    RandomBrightness(limit=0.2, p=0.5),\n",
        "    HueSaturationValue(hue_shift_limit=5, sat_shift_limit=20, val_shift_limit=10, p=.9),\n",
        "    # CLAHE(p=1.0, clip_limit=2.0),\n",
        "    ShiftScaleRotate(\n",
        "        shift_limit=0.0625, scale_limit=0.1, \n",
        "        rotate_limit=15, border_mode=cv2.BORDER_REFLECT_101, p=0.8), \n",
        "    ToFloat(max_value=255)\n",
        "])\n",
        "\n",
        "augmentation_test = Compose([\n",
        "    RandomCrop(16,16),\n",
        "    # CLAHE(p=1.0, clip_limit=2.0),\n",
        "    ToFloat(max_value=255)\n",
        "])\n",
        "\n",
        "\n",
        "#train = train[:size_of_run]\n",
        "#test = test[:size_of_run]"
      ],
      "execution_count": 0,
      "outputs": []
    },
    {
      "metadata": {
        "id": "c0f9w0QwbHIB",
        "colab_type": "text"
      },
      "cell_type": "markdown",
      "source": [
        "Run the Loop"
      ]
    },
    {
      "metadata": {
        "id": "B8R9e3jvZufP",
        "colab_type": "code",
        "colab": {
          "base_uri": "https://localhost:8080/",
          "height": 231
        },
        "outputId": "193ae2f7-f82e-4546-8cb1-1e16168f4bdf"
      },
      "cell_type": "code",
      "source": [
        "if os.path.isdir(dir_log):\n",
        "        shutil.rmtree(dir_log)\n",
        "if os.path.isdir(dir_pred):\n",
        "    shutil.rmtree(dir_pred)\n",
        "os.mkdir(dir_pred)\n",
        "\n",
        "for i, (train_split, val_split) in enumerate(skf.split(train.index, train.label_idx)):\n",
        "    K.clear_session()\n",
        "    \n",
        "    train_set = train.iloc[train_split]\n",
        "    val_set = train.iloc[val_split]\n",
        "    \n",
        "    callbacks_list= []\n",
        "    \n",
        "    # the checkpoint is causing issues with colab and breaks in the middle of training. A workaround is the restore_best_weights from EarlyStopping\n",
        "    #checkpoint = ModelCheckpoint(os.path.join(dir_log,'best_%d.h5'%i), monitor='val_loss', verbose=1, save_best_only=True)\n",
        "    #callbacks_list.append(checkpoint)  \n",
        "    \n",
        "    early = EarlyStopping(monitor='val_loss', mode='min', patience=5, restore_best_weights=True)\n",
        "    callbacks_list.append(early)\n",
        "    \n",
        "    tb = TensorBoard(log_dir= os.path.join(dir_log, 'fold_%d'%i), write_graph=True)\n",
        "    callbacks_list.append(tb)    \n",
        "    \n",
        "    print(\"#\"*50)\n",
        "    print(f'\\nFold {i}')\n",
        "    \n",
        "    if config.model_name == 'conv1d':\n",
        "        model = get_1d_conv_model(config)\n",
        "    elif config.model_name == 'conv2d':\n",
        "        model = get_2d_conv_model(config)\n",
        "    elif config.model_name == 'dummy2d':\n",
        "        model = get_2d_dummy_model(config)\n",
        "    else:\n",
        "        model = get_1d_dummy_model(config)\n",
        "    \n",
        "    train_generator = DataGenerator(config, dir_train, train_set.index, labels=train_set.label_idx,\n",
        "\t\t\t\t\tbatch_size=64) #, preprocessing_fn=audio_norm)\n",
        "    val_generator = DataGenerator(config, dir_train, val_set.index, labels=val_set.label_idx,\n",
        "\t\t\t\t\tbatch_size=64) #, preprocessing_fn=audio_norm)\n",
        "\n",
        "    history = model.fit_generator(train_generator, callbacks=callbacks_list, validation_data=val_generator, epochs=config.max_epochs, use_multiprocessing=True, max_queue_size=20)\n",
        "    \n",
        "    model.save(os.path.join(dir_log,'best_%d.h5'%i))\n",
        "    \n",
        "    # training done, now load best model (at what epoch it was best) and predict\n",
        "    model.load_weights(os.path.join(dir_log,'best_%d.h5'%i))\n",
        "    \n",
        "    # save train prediction for error analysis\n",
        "    train_generator = DataGenerator(config, dir_train, train_set.index, labels=train_set.label_idx,\n",
        "\t\t\t\t\tbatch_size=64) #, preprocessing_fn=audio_norm)\n",
        "    \n",
        "    predictions = model.predict_generator(train_generator, use_multiprocessing=True, max_queue_size=20, verbose=1)\n",
        "    np.save(os.path.join(dir_pred, 'train_pred_%d.npy'%i), predictions)\n",
        "    \n",
        "    '''\n",
        "    # save test prediction\n",
        "    test_generator = DataGenerator(config, dir_test, test.index, labels=None,\n",
        "\t\t\t\t\tbatch_size=64) #, preprocessing_fn=audio_norm)\n",
        "    \n",
        "    predictions = model.predict_generator(test_generator, use_multiprocessing=True, max_queue_size=20, verbose=1)\n",
        "    np.save(os.path.join(dir_pred, 'test_pred_%d.npy'%i), predictions)\n",
        "    pred_test_shape = predictions.shape\n",
        "\n",
        "    # Make a submission file\n",
        "    top_3 = np.array(labels)[np.argsort(-predictions, axis=1)[:, :3]]\n",
        "    predicted_labels = [' '.join(list(x)) for x in top_3]\n",
        "    test['label'] = predicted_labels\n",
        "    test[['label']].to_csv(os.path.join(dir_pred, 'predictions_%d.csv'%i))\n",
        "    '''"
      ],
      "execution_count": 24,
      "outputs": [
        {
          "output_type": "error",
          "ename": "NameError",
          "evalue": "ignored",
          "traceback": [
            "\u001b[0;31m---------------------------------------------------------------------------\u001b[0m",
            "\u001b[0;31mNameError\u001b[0m                                 Traceback (most recent call last)",
            "\u001b[0;32m<ipython-input-24-1c3a49f52c7e>\u001b[0m in \u001b[0;36m<module>\u001b[0;34m()\u001b[0m\n\u001b[1;32m      5\u001b[0m \u001b[0mos\u001b[0m\u001b[0;34m.\u001b[0m\u001b[0mmkdir\u001b[0m\u001b[0;34m(\u001b[0m\u001b[0mdir_pred\u001b[0m\u001b[0;34m)\u001b[0m\u001b[0;34m\u001b[0m\u001b[0;34m\u001b[0m\u001b[0m\n\u001b[1;32m      6\u001b[0m \u001b[0;34m\u001b[0m\u001b[0m\n\u001b[0;32m----> 7\u001b[0;31m \u001b[0;32mfor\u001b[0m \u001b[0mi\u001b[0m\u001b[0;34m,\u001b[0m \u001b[0;34m(\u001b[0m\u001b[0mtrain_split\u001b[0m\u001b[0;34m,\u001b[0m \u001b[0mval_split\u001b[0m\u001b[0;34m)\u001b[0m \u001b[0;32min\u001b[0m \u001b[0menumerate\u001b[0m\u001b[0;34m(\u001b[0m\u001b[0mskf\u001b[0m\u001b[0;34m.\u001b[0m\u001b[0msplit\u001b[0m\u001b[0;34m(\u001b[0m\u001b[0mtrain\u001b[0m\u001b[0;34m.\u001b[0m\u001b[0mindex\u001b[0m\u001b[0;34m,\u001b[0m \u001b[0mtrain\u001b[0m\u001b[0;34m.\u001b[0m\u001b[0mlabel_idx\u001b[0m\u001b[0;34m)\u001b[0m\u001b[0;34m)\u001b[0m\u001b[0;34m:\u001b[0m\u001b[0;34m\u001b[0m\u001b[0;34m\u001b[0m\u001b[0m\n\u001b[0m\u001b[1;32m      8\u001b[0m     \u001b[0mK\u001b[0m\u001b[0;34m.\u001b[0m\u001b[0mclear_session\u001b[0m\u001b[0;34m(\u001b[0m\u001b[0;34m)\u001b[0m\u001b[0;34m\u001b[0m\u001b[0;34m\u001b[0m\u001b[0m\n\u001b[1;32m      9\u001b[0m \u001b[0;34m\u001b[0m\u001b[0m\n",
            "\u001b[0;31mNameError\u001b[0m: name 'train' is not defined"
          ]
        }
      ]
    },
    {
      "metadata": {
        "id": "hKOd2zzhqAZc",
        "colab_type": "code",
        "colab": {}
      },
      "cell_type": "code",
      "source": [
        ""
      ],
      "execution_count": 0,
      "outputs": []
    },
    {
      "metadata": {
        "id": "BpsqnFZGbNf6",
        "colab_type": "text"
      },
      "cell_type": "markdown",
      "source": [
        "Ensemble the Predictions"
      ]
    },
    {
      "metadata": {
        "id": "L-4-EpsVbNoh",
        "colab_type": "code",
        "colab": {}
      },
      "cell_type": "code",
      "source": [
        "pred_list = []\n",
        "\n",
        "for i in range(config.n_folds):\n",
        "    pred_list.append(np.load(os.path.join(dir_pred, 'test_pred_%d.npy'%i)))\n",
        "    \n",
        "prediction = np.ones_like(pred_list[0])\n",
        "\n",
        "# Taking a geometric mean of the probabilities\n",
        "for pred in pred_list:\n",
        "    prediction = prediction*pred\n",
        "prediction_gm = prediction**(1./len(pred_list))\n",
        "\n",
        "# Make a submission file\n",
        "top_3 = np.array(labels)[np.argsort(-prediction_gm, axis=1)[:, :3]]\n",
        "\n",
        "predicted_labels = [' '.join(list(x)) for x in top_3]\n",
        "\n",
        "submission = pd.read_csv(os.path.join(dir_data, 'sample_submission.csv'))\n",
        "\n",
        "submission['label'] = predicted_labels\n",
        "submission[['fname', 'label']].to_csv(os.path.join(dir_data, 'submission.csv'), index=False)"
      ],
      "execution_count": 0,
      "outputs": []
    },
    {
      "metadata": {
        "id": "w3vHWTByy9oG",
        "colab_type": "text"
      },
      "cell_type": "markdown",
      "source": [
        "We now save the logs, pr"
      ]
    },
    {
      "metadata": {
        "id": "R7FZv0c4mbxV",
        "colab_type": "code",
        "colab": {}
      },
      "cell_type": "code",
      "source": [
        "from datetime import datetime\n",
        "datetime_now = str(datetime.now()).replace('-','').replace(':','').replace(' ','')\n",
        "datetime_now = datetime_now[:datetime_now.find('.')]\n",
        "datetime_now = datetime_now[4:8] + '_' + datetime_now[-6:-2]\n",
        "\n",
        "# save the logs\n",
        "zipname = datetime_now + '_log.zip'\n",
        "!zip -r /content/\"$zipname\" /content/logs\n",
        "files.download(os.path.join(dir_data, zipname))\n",
        "\n",
        "# save the preds\n",
        "zipname = datetime_now + '_pred.zip'\n",
        "!zip -r /content/\"$zipname\" /content/pred\n",
        "files.download(os.path.join(dir_data, zipname))\n",
        "\n",
        "# save the submission\n",
        "zipname = datetime_now + '_submission.zip'\n",
        "!zip -r /content/\"$zipname\" /content/submission.csv\n",
        "files.download(os.path.join(dir_data, zipname))"
      ],
      "execution_count": 0,
      "outputs": []
    },
    {
      "metadata": {
        "id": "mcAlnIYuvQT4",
        "colab_type": "code",
        "colab": {}
      },
      "cell_type": "code",
      "source": [
        ""
      ],
      "execution_count": 0,
      "outputs": []
    }
  ]
}
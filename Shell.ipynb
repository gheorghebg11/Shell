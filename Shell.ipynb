{
  "nbformat": 4,
  "nbformat_minor": 0,
  "metadata": {
    "colab": {
      "name": "Shell.ipynb",
      "version": "0.3.2",
      "provenance": [],
      "collapsed_sections": [
        "IhDqpEz1xG3u",
        "JNN8go-BB9RJ"
      ],
      "toc_visible": true,
      "include_colab_link": true
    },
    "kernelspec": {
      "name": "python3",
      "display_name": "Python 3"
    },
    "accelerator": "GPU"
  },
  "cells": [
    {
      "cell_type": "markdown",
      "metadata": {
        "id": "view-in-github",
        "colab_type": "text"
      },
      "source": [
        "<a href=\"https://colab.research.google.com/github/gheorghebg11/Shell/blob/master/Shell.ipynb\" target=\"_parent\"><img src=\"https://colab.research.google.com/assets/colab-badge.svg\" alt=\"Open In Colab\"/></a>"
      ]
    },
    {
      "metadata": {
        "id": "ksXJw2tBpWrW",
        "colab_type": "text"
      },
      "cell_type": "markdown",
      "source": [
        "# Load the files into Colab"
      ]
    },
    {
      "metadata": {
        "id": "FKZMLM-S16Nd",
        "colab_type": "text"
      },
      "cell_type": "markdown",
      "source": [
        "The first cells are for loading the big data files from google drive (as colab only keeps the files for 12 hours), and the .csv from my local drive or dropbox. We first authenticate."
      ]
    },
    {
      "metadata": {
        "id": "WzIkU8LMyozt",
        "colab_type": "code",
        "outputId": "66d27c78-a671-41c0-fcd6-6f07a74ef112",
        "colab": {
          "base_uri": "https://localhost:8080/",
          "height": 187
        }
      },
      "cell_type": "code",
      "source": [
        "!pip install PyDrive\n",
        "import os, zipfile\n",
        "from pydrive.auth import GoogleAuth\n",
        "from pydrive.drive import GoogleDrive\n",
        "from google.colab import auth, files\n",
        "from oauth2client.client import GoogleCredentials\n",
        "\n",
        "auth.authenticate_user()\n",
        "\n",
        "gauth = GoogleAuth()\n",
        "gauth.credentials = GoogleCredentials.get_application_default()\n",
        "drive = GoogleDrive(gauth)"
      ],
      "execution_count": 231,
      "outputs": [
        {
          "output_type": "stream",
          "text": [
            "Requirement already satisfied: PyDrive in /usr/local/lib/python3.6/dist-packages (1.3.1)\n",
            "Requirement already satisfied: google-api-python-client>=1.2 in /usr/local/lib/python3.6/dist-packages (from PyDrive) (1.6.7)\n",
            "Requirement already satisfied: PyYAML>=3.0 in /usr/local/lib/python3.6/dist-packages (from PyDrive) (3.13)\n",
            "Requirement already satisfied: oauth2client>=4.0.0 in /usr/local/lib/python3.6/dist-packages (from PyDrive) (4.1.3)\n",
            "Requirement already satisfied: six<2dev,>=1.6.1 in /usr/local/lib/python3.6/dist-packages (from google-api-python-client>=1.2->PyDrive) (1.12.0)\n",
            "Requirement already satisfied: httplib2<1dev,>=0.9.2 in /usr/local/lib/python3.6/dist-packages (from google-api-python-client>=1.2->PyDrive) (0.11.3)\n",
            "Requirement already satisfied: uritemplate<4dev,>=3.0.0 in /usr/local/lib/python3.6/dist-packages (from google-api-python-client>=1.2->PyDrive) (3.0.0)\n",
            "Requirement already satisfied: pyasn1>=0.1.7 in /usr/local/lib/python3.6/dist-packages (from oauth2client>=4.0.0->PyDrive) (0.4.5)\n",
            "Requirement already satisfied: pyasn1-modules>=0.0.5 in /usr/local/lib/python3.6/dist-packages (from oauth2client>=4.0.0->PyDrive) (0.2.5)\n",
            "Requirement already satisfied: rsa>=3.1.4 in /usr/local/lib/python3.6/dist-packages (from oauth2client>=4.0.0->PyDrive) (4.0)\n"
          ],
          "name": "stdout"
        }
      ]
    },
    {
      "metadata": {
        "id": "dEMiyKPeq9Hw",
        "colab_type": "text"
      },
      "cell_type": "markdown",
      "source": [
        "Now download the files and un unzip the archives. Right now there are 4 folders for 4 different gas station brands."
      ]
    },
    {
      "metadata": {
        "id": "dWbpFmwVqgxv",
        "colab_type": "code",
        "outputId": "6ea62232-f46e-4c0b-f7b3-b24ef933bc5e",
        "colab": {
          "base_uri": "https://localhost:8080/",
          "height": 85
        }
      },
      "cell_type": "code",
      "source": [
        "!rm -r /content/data\n",
        "!mkdir /content/data\n",
        "print('\\nDownloading the data')\n",
        "download = drive.CreateFile({'id': '1e5u2uDQ5mupV64KJbmWVG-JhlGKz9uUD'})\n",
        "download.GetContentFile('/content/data_shell.tar.gz')\n",
        "!tar -xzf /content/data_shell.tar.gz -C /content/data\n",
        "print('\\nData successfully downloaded in /content/data')\n",
        "!rm /content/data_shell.tar.gz\n",
        "!rm -r /content/sample_data"
      ],
      "execution_count": 3,
      "outputs": [
        {
          "output_type": "stream",
          "text": [
            "\n",
            "Downloading the data\n",
            "\n",
            "Data successfully downloaded in /content/data\n"
          ],
          "name": "stdout"
        }
      ]
    },
    {
      "metadata": {
        "id": "IhDqpEz1xG3u",
        "colab_type": "text"
      },
      "cell_type": "markdown",
      "source": [
        "# Data Visualization and Basic Cleaning (can be skipped)"
      ]
    },
    {
      "metadata": {
        "id": "dqBNmbTp12LL",
        "colab_type": "text"
      },
      "cell_type": "markdown",
      "source": [
        "First load some packages for Data Visualization."
      ]
    },
    {
      "metadata": {
        "id": "1GgouP0vzvop",
        "colab_type": "code",
        "colab": {}
      },
      "cell_type": "code",
      "source": [
        "import numpy as np\n",
        "np.random.seed(1989)\n",
        "\n",
        "import os\n",
        "import cv2\n",
        "\n",
        "import matplotlib.pyplot as plt\n",
        "import pandas as pd\n",
        "import seaborn as sns\n",
        "\n",
        "from IPython.display import display\n",
        "pd.options.display.max_columns = 20\n",
        "\n",
        "import warnings\n",
        "warnings.filterwarnings(\"ignore\", category=FutureWarning) "
      ],
      "execution_count": 0,
      "outputs": []
    },
    {
      "metadata": {
        "id": "lCb-h9hm0Mgp",
        "colab_type": "text"
      },
      "cell_type": "markdown",
      "source": [
        "Explore the data a little bit. We look at the available categories (each in one separate folder) and create a dictionary for one-hot encoding."
      ]
    },
    {
      "metadata": {
        "id": "i45IxsCd0MWJ",
        "colab_type": "code",
        "colab": {}
      },
      "cell_type": "code",
      "source": [
        "dir_data = '/content/data/'\n",
        "labels = list(os.listdir(dir_data))"
      ],
      "execution_count": 0,
      "outputs": []
    },
    {
      "metadata": {
        "id": "ou05IqYl_W5o",
        "colab_type": "text"
      },
      "cell_type": "markdown",
      "source": [
        "We will now loop through all files and do a few tasks:\n",
        "- check for corrupted files (ending in .part)\n",
        "- check for all available extensions, in order to exlcude non-images\n",
        "- rename each file in the formal 'label_oldfilename' and move them all in one single folder."
      ]
    },
    {
      "metadata": {
        "id": "pdD0NsgB-_9u",
        "colab_type": "code",
        "outputId": "f53ec087-6a40-487d-a964-feab5899fffb",
        "colab": {
          "base_uri": "https://localhost:8080/",
          "height": 231
        }
      },
      "cell_type": "code",
      "source": [
        "extensions = set()\n",
        "\n",
        "for label in labels:\n",
        "    dir_label = os.path.join(dir_data, label)\n",
        "    filenames = [name for name in os.listdir(dir_label) if os.path.isfile(os.path.join(dir_label, name))]\n",
        "    \n",
        "    for filename in filenames:\n",
        "        new_filename = label + '_' + filename\n",
        "        os.rename(os.path.join(dir_label, filename), os.path.join(dir_data,new_filename))\n",
        "        \n",
        "        # check for the extension\n",
        "        extension = filename.split('.')[-1]\n",
        "        if extension not in extensions:\n",
        "            extensions.add(extension)\n",
        "    \n",
        "    # erase the empty folder\n",
        "    os.rmdir(os.path.join(dir_data, label))\n",
        "    #shutil.rmtree(os.path.join(dir_data, label))\n",
        "    \n",
        "print(f'We found the extensions {extensions}')\n",
        "\n",
        "# create a list with all filenames MAYBE PUT IN PANDAS ?\n",
        "filenames = [name for name in os.listdir(dir_data) if os.path.isfile(os.path.join(dir_data, name))]"
      ],
      "execution_count": 146,
      "outputs": [
        {
          "output_type": "error",
          "ename": "NotADirectoryError",
          "evalue": "ignored",
          "traceback": [
            "\u001b[0;31m---------------------------------------------------------------------------\u001b[0m",
            "\u001b[0;31mNotADirectoryError\u001b[0m                        Traceback (most recent call last)",
            "\u001b[0;32m<ipython-input-146-565af9ba095f>\u001b[0m in \u001b[0;36m<module>\u001b[0;34m()\u001b[0m\n\u001b[1;32m      3\u001b[0m \u001b[0;32mfor\u001b[0m \u001b[0mlabel\u001b[0m \u001b[0;32min\u001b[0m \u001b[0mlabels\u001b[0m\u001b[0;34m:\u001b[0m\u001b[0;34m\u001b[0m\u001b[0;34m\u001b[0m\u001b[0m\n\u001b[1;32m      4\u001b[0m     \u001b[0mdir_label\u001b[0m \u001b[0;34m=\u001b[0m \u001b[0mos\u001b[0m\u001b[0;34m.\u001b[0m\u001b[0mpath\u001b[0m\u001b[0;34m.\u001b[0m\u001b[0mjoin\u001b[0m\u001b[0;34m(\u001b[0m\u001b[0mdir_data\u001b[0m\u001b[0;34m,\u001b[0m \u001b[0mlabel\u001b[0m\u001b[0;34m)\u001b[0m\u001b[0;34m\u001b[0m\u001b[0;34m\u001b[0m\u001b[0m\n\u001b[0;32m----> 5\u001b[0;31m     \u001b[0mfilenames\u001b[0m \u001b[0;34m=\u001b[0m \u001b[0;34m[\u001b[0m\u001b[0mname\u001b[0m \u001b[0;32mfor\u001b[0m \u001b[0mname\u001b[0m \u001b[0;32min\u001b[0m \u001b[0mos\u001b[0m\u001b[0;34m.\u001b[0m\u001b[0mlistdir\u001b[0m\u001b[0;34m(\u001b[0m\u001b[0mdir_label\u001b[0m\u001b[0;34m)\u001b[0m \u001b[0;32mif\u001b[0m \u001b[0mos\u001b[0m\u001b[0;34m.\u001b[0m\u001b[0mpath\u001b[0m\u001b[0;34m.\u001b[0m\u001b[0misfile\u001b[0m\u001b[0;34m(\u001b[0m\u001b[0mos\u001b[0m\u001b[0;34m.\u001b[0m\u001b[0mpath\u001b[0m\u001b[0;34m.\u001b[0m\u001b[0mjoin\u001b[0m\u001b[0;34m(\u001b[0m\u001b[0mdir_label\u001b[0m\u001b[0;34m,\u001b[0m \u001b[0mname\u001b[0m\u001b[0;34m)\u001b[0m\u001b[0;34m)\u001b[0m\u001b[0;34m]\u001b[0m\u001b[0;34m\u001b[0m\u001b[0;34m\u001b[0m\u001b[0m\n\u001b[0m\u001b[1;32m      6\u001b[0m \u001b[0;34m\u001b[0m\u001b[0m\n\u001b[1;32m      7\u001b[0m     \u001b[0;32mfor\u001b[0m \u001b[0mfilename\u001b[0m \u001b[0;32min\u001b[0m \u001b[0mfilenames\u001b[0m\u001b[0;34m:\u001b[0m\u001b[0;34m\u001b[0m\u001b[0;34m\u001b[0m\u001b[0m\n",
            "\u001b[0;31mNotADirectoryError\u001b[0m: [Errno 20] Not a directory: '/content/data/shell_44.png'"
          ]
        }
      ]
    },
    {
      "metadata": {
        "id": "-HrOXXZUUES1",
        "colab_type": "text"
      },
      "cell_type": "markdown",
      "source": [
        "We will now erase the files ending in .part as they are corrupted images that failed during data mining. We also create a list with all the files and their size in order to explore it."
      ]
    },
    {
      "metadata": {
        "id": "aOc-LEDqRDMw",
        "colab_type": "code",
        "outputId": "380d4793-0e42-4c2b-ea8c-234844120ebb",
        "colab": {
          "base_uri": "https://localhost:8080/",
          "height": 34
        }
      },
      "cell_type": "code",
      "source": [
        "corrupted_files = 0\n",
        "filenames_and_labels = []\n",
        "\n",
        "for filename in filenames:\n",
        "    if filename.endswith('.part'):\n",
        "        corrupted_files = corrupted_files + 1\n",
        "        os.remove(os.path.join(dir_data, filename))\n",
        "        #filenames.remove(filename)\n",
        "    else:\n",
        "        dims = cv2.imread(os.path.join(dir_data, filename)).shape\n",
        "        filenames_and_labels.append((filename, filename.split('_')[0], dims[1], dims[0], dims[2], dims[0]*dims[1]))\n",
        "        \n",
        "print(f'We removed {corrupted_files} corrupted files out of {len(filenames) + corrupted_files} total files.')"
      ],
      "execution_count": 147,
      "outputs": [
        {
          "output_type": "stream",
          "text": [
            "We removed 0 corrupted files out of 769 total files.\n"
          ],
          "name": "stdout"
        }
      ]
    },
    {
      "metadata": {
        "id": "I-pA5vZHVEBP",
        "colab_type": "text"
      },
      "cell_type": "markdown",
      "source": [
        "We now create a Pandas df with the data and explore it a little bit."
      ]
    },
    {
      "metadata": {
        "id": "Pfm79SWAVEhW",
        "colab_type": "code",
        "colab": {
          "base_uri": "https://localhost:8080/",
          "height": 204
        },
        "outputId": "10db2ba0-7e09-478c-dd89-959a5161a72c"
      },
      "cell_type": "code",
      "source": [
        "train = pd.DataFrame(filenames_and_labels, columns=['fname', 'label', 'xres', 'yres', 'channels', 'xyres'])\n",
        "train.head()"
      ],
      "execution_count": 148,
      "outputs": [
        {
          "output_type": "execute_result",
          "data": {
            "text/html": [
              "<div>\n",
              "<style scoped>\n",
              "    .dataframe tbody tr th:only-of-type {\n",
              "        vertical-align: middle;\n",
              "    }\n",
              "\n",
              "    .dataframe tbody tr th {\n",
              "        vertical-align: top;\n",
              "    }\n",
              "\n",
              "    .dataframe thead th {\n",
              "        text-align: right;\n",
              "    }\n",
              "</style>\n",
              "<table border=\"1\" class=\"dataframe\">\n",
              "  <thead>\n",
              "    <tr style=\"text-align: right;\">\n",
              "      <th></th>\n",
              "      <th>fname</th>\n",
              "      <th>label</th>\n",
              "      <th>xres</th>\n",
              "      <th>yres</th>\n",
              "      <th>channels</th>\n",
              "      <th>xyres</th>\n",
              "    </tr>\n",
              "  </thead>\n",
              "  <tbody>\n",
              "    <tr>\n",
              "      <th>0</th>\n",
              "      <td>shell_44.png</td>\n",
              "      <td>shell</td>\n",
              "      <td>810</td>\n",
              "      <td>456</td>\n",
              "      <td>3</td>\n",
              "      <td>369360</td>\n",
              "    </tr>\n",
              "    <tr>\n",
              "      <th>1</th>\n",
              "      <td>chevron_22.jpg</td>\n",
              "      <td>chevron</td>\n",
              "      <td>700</td>\n",
              "      <td>525</td>\n",
              "      <td>3</td>\n",
              "      <td>367500</td>\n",
              "    </tr>\n",
              "    <tr>\n",
              "      <th>2</th>\n",
              "      <td>phillips_316.jpg</td>\n",
              "      <td>phillips</td>\n",
              "      <td>224</td>\n",
              "      <td>300</td>\n",
              "      <td>3</td>\n",
              "      <td>67200</td>\n",
              "    </tr>\n",
              "    <tr>\n",
              "      <th>3</th>\n",
              "      <td>chevron_91.jpg</td>\n",
              "      <td>chevron</td>\n",
              "      <td>1050</td>\n",
              "      <td>706</td>\n",
              "      <td>3</td>\n",
              "      <td>741300</td>\n",
              "    </tr>\n",
              "    <tr>\n",
              "      <th>4</th>\n",
              "      <td>chevron_248.jpg</td>\n",
              "      <td>chevron</td>\n",
              "      <td>400</td>\n",
              "      <td>300</td>\n",
              "      <td>3</td>\n",
              "      <td>120000</td>\n",
              "    </tr>\n",
              "  </tbody>\n",
              "</table>\n",
              "</div>"
            ],
            "text/plain": [
              "              fname     label  xres  yres  channels   xyres\n",
              "0      shell_44.png     shell   810   456         3  369360\n",
              "1    chevron_22.jpg   chevron   700   525         3  367500\n",
              "2  phillips_316.jpg  phillips   224   300         3   67200\n",
              "3    chevron_91.jpg   chevron  1050   706         3  741300\n",
              "4   chevron_248.jpg   chevron   400   300         3  120000"
            ]
          },
          "metadata": {
            "tags": []
          },
          "execution_count": 148
        }
      ]
    },
    {
      "metadata": {
        "id": "CXozKqnwAK4w",
        "colab_type": "text"
      },
      "cell_type": "markdown",
      "source": [
        "Look at the shape and number of examples and labels. "
      ]
    },
    {
      "metadata": {
        "id": "-cLQ9amV2DPD",
        "colab_type": "code",
        "colab": {
          "base_uri": "https://localhost:8080/",
          "height": 159
        },
        "outputId": "f6dec340-78a0-41df-8cea-c46fd9280d29"
      },
      "cell_type": "code",
      "source": [
        "print(f'Train set has {train.shape[0]} examples and {len(set(train.label))} different labels')\n",
        "train.sample(3)"
      ],
      "execution_count": 149,
      "outputs": [
        {
          "output_type": "stream",
          "text": [
            "Train set has 769 examples and 4 different labels\n"
          ],
          "name": "stdout"
        },
        {
          "output_type": "execute_result",
          "data": {
            "text/html": [
              "<div>\n",
              "<style scoped>\n",
              "    .dataframe tbody tr th:only-of-type {\n",
              "        vertical-align: middle;\n",
              "    }\n",
              "\n",
              "    .dataframe tbody tr th {\n",
              "        vertical-align: top;\n",
              "    }\n",
              "\n",
              "    .dataframe thead th {\n",
              "        text-align: right;\n",
              "    }\n",
              "</style>\n",
              "<table border=\"1\" class=\"dataframe\">\n",
              "  <thead>\n",
              "    <tr style=\"text-align: right;\">\n",
              "      <th></th>\n",
              "      <th>fname</th>\n",
              "      <th>label</th>\n",
              "      <th>xres</th>\n",
              "      <th>yres</th>\n",
              "      <th>channels</th>\n",
              "      <th>xyres</th>\n",
              "    </tr>\n",
              "  </thead>\n",
              "  <tbody>\n",
              "    <tr>\n",
              "      <th>244</th>\n",
              "      <td>shell_395.jpeg</td>\n",
              "      <td>shell</td>\n",
              "      <td>1594</td>\n",
              "      <td>498</td>\n",
              "      <td>3</td>\n",
              "      <td>793812</td>\n",
              "    </tr>\n",
              "    <tr>\n",
              "      <th>446</th>\n",
              "      <td>conoco_31.jpg</td>\n",
              "      <td>conoco</td>\n",
              "      <td>1300</td>\n",
              "      <td>1054</td>\n",
              "      <td>3</td>\n",
              "      <td>1370200</td>\n",
              "    </tr>\n",
              "    <tr>\n",
              "      <th>89</th>\n",
              "      <td>chevron_96.jpg</td>\n",
              "      <td>chevron</td>\n",
              "      <td>5416</td>\n",
              "      <td>3504</td>\n",
              "      <td>3</td>\n",
              "      <td>18977664</td>\n",
              "    </tr>\n",
              "  </tbody>\n",
              "</table>\n",
              "</div>"
            ],
            "text/plain": [
              "              fname    label  xres  yres  channels     xyres\n",
              "244  shell_395.jpeg    shell  1594   498         3    793812\n",
              "446   conoco_31.jpg   conoco  1300  1054         3   1370200\n",
              "89   chevron_96.jpg  chevron  5416  3504         3  18977664"
            ]
          },
          "metadata": {
            "tags": []
          },
          "execution_count": 149
        }
      ]
    },
    {
      "metadata": {
        "id": "nqZCmtik2N5D",
        "colab_type": "code",
        "colab": {}
      },
      "cell_type": "code",
      "source": [
        "#print(f'Test set has {test.shape[0]} examples and {len(test.columns[1:])} different labels')\n",
        "#test.sample(3)"
      ],
      "execution_count": 0,
      "outputs": []
    },
    {
      "metadata": {
        "id": "8X5o1jcF48s3",
        "colab_type": "text"
      },
      "cell_type": "markdown",
      "source": [
        "Let's visualize how many samples there are per label."
      ]
    },
    {
      "metadata": {
        "id": "mQxcK7Ja49du",
        "colab_type": "code",
        "colab": {
          "base_uri": "https://localhost:8080/",
          "height": 733
        },
        "outputId": "40c54e59-4924-44c2-ee88-ac16b6ba9214"
      },
      "cell_type": "code",
      "source": [
        "category_group = train[['fname', 'label']].groupby(['label']).count()\n",
        "category_group.columns = ['counts']\n",
        "print(f'The number of images per label ranges from {category_group.counts.min()} to {category_group.counts.max()}')\n",
        "plot = category_group.sort_values(ascending=True, by='counts').plot(kind='barh', title='nbr images per label', figsize=(20,12))\n",
        "plt.show()"
      ],
      "execution_count": 150,
      "outputs": [
        {
          "output_type": "stream",
          "text": [
            "The number of images per label ranges from 137 to 223\n"
          ],
          "name": "stdout"
        },
        {
          "output_type": "display_data",
          "data": {
            "image/png": "[encoded data removed]",
            "text/plain": [
              "<Figure size 1440x864 with 1 Axes>"
            ]
          },
          "metadata": {
            "tags": []
          }
        }
      ]
    },
    {
      "metadata": {
        "id": "2Cs9GgL886Z6",
        "colab_type": "text"
      },
      "cell_type": "markdown",
      "source": [
        "We look at the smallest and largest dimensions, and check that all photos have 3 channels.\n",
        "\n"
      ]
    },
    {
      "metadata": {
        "id": "EQZi4Kii9bcL",
        "colab_type": "code",
        "colab": {
          "base_uri": "https://localhost:8080/",
          "height": 604
        },
        "outputId": "d90e7971-2833-4b86-bf8c-1d77fd089898"
      },
      "cell_type": "code",
      "source": [
        "print(f'The smallest resolution is \\n{train.iloc[train.xyres.idxmin()]}\\n')\n",
        "print(f'The largest resolution is \\n{train.iloc[train.xyres.idxmax()]}\\n')\n",
        "\n",
        "print('The distribution of channels is given by:')\n",
        "\n",
        "train.hist(column='channels', bins=3, figsize=(8,4))\n",
        "plt.show()"
      ],
      "execution_count": 151,
      "outputs": [
        {
          "output_type": "stream",
          "text": [
            "The smallest resolution is \n",
            "fname       chevron_213.jpg\n",
            "label               chevron\n",
            "xres                    150\n",
            "yres                    150\n",
            "channels                  3\n",
            "xyres                 22500\n",
            "Name: 563, dtype: object\n",
            "\n",
            "The largest resolution is \n",
            "fname       chevron_96.jpg\n",
            "label              chevron\n",
            "xres                  5416\n",
            "yres                  3504\n",
            "channels                 3\n",
            "xyres             18977664\n",
            "Name: 89, dtype: object\n",
            "\n",
            "The distribution of channels is given by:\n"
          ],
          "name": "stdout"
        },
        {
          "output_type": "display_data",
          "data": {
            "image/png": "[encoded data removed]",
            "text/plain": [
              "<Figure size 576x288 with 1 Axes>"
            ]
          },
          "metadata": {
            "tags": []
          }
        }
      ]
    },
    {
      "metadata": {
        "id": "d29BD3lAUY5X",
        "colab_type": "text"
      },
      "cell_type": "markdown",
      "source": [
        "Let's now visualize the distribution of their dimensions:"
      ]
    },
    {
      "metadata": {
        "id": "W0kci361UpDU",
        "colab_type": "code",
        "colab": {
          "base_uri": "https://localhost:8080/",
          "height": 392
        },
        "outputId": "5c0771cb-8332-41f2-e0fc-9e6110df37ff"
      },
      "cell_type": "code",
      "source": [
        "train.plot.scatter('xres', 'yres', figsize=(10,6))\n",
        "plt.show()\n",
        "\n",
        "#train['nframes'] = train['fname'].apply(lambda fname : wave.open(os.path.join(dir_data, 'curated', fname)).getnframes())\n",
        "#test['nframes'] = test['fname'].apply(lambda fname : wave.open(os.path.join(dir_data, 'test', fname)).getnframes())"
      ],
      "execution_count": 152,
      "outputs": [
        {
          "output_type": "display_data",
          "data": {
            "image/png": "[encoded data removed]",
            "text/plain": [
              "<Figure size 720x432 with 1 Axes>"
            ]
          },
          "metadata": {
            "tags": []
          }
        }
      ]
    },
    {
      "metadata": {
        "id": "9j4759M6WmmA",
        "colab_type": "text"
      },
      "cell_type": "markdown",
      "source": [
        "We see that the scales are not the same and that most photos have a larger x-resolution. We will remove some outliers to avoid huge resolutions. Let's put the threshold at x-res < 2200."
      ]
    },
    {
      "metadata": {
        "id": "qQMuuCJ_WnA9",
        "colab_type": "code",
        "colab": {
          "base_uri": "https://localhost:8080/",
          "height": 34
        },
        "outputId": "ca703099-cc09-40f8-a518-460bb50a095b"
      },
      "cell_type": "code",
      "source": [
        "nbr_im_large_xres = train[train.xres > 2200].shape[0]\n",
        "total_im = train.shape[0]\n",
        "train = train.query('xres < 2200')\n",
        "\n",
        "print(f'There are {nbr_im_large_xres} images (out of {total_im}) with x-resolution larger than 2200. We remove them and we are left with {train.shape[0]} images.')"
      ],
      "execution_count": 153,
      "outputs": [
        {
          "output_type": "stream",
          "text": [
            "There are 39 images (out of 769) with x-resolution larger than 2200. We remove them and we are left with 730 images.\n"
          ],
          "name": "stdout"
        }
      ]
    },
    {
      "metadata": {
        "id": "qenXTdblYvZ6",
        "colab_type": "text"
      },
      "cell_type": "markdown",
      "source": [
        "Here is the new distribution of dimensions."
      ]
    },
    {
      "metadata": {
        "id": "0EMhSZp3Yv5K",
        "colab_type": "code",
        "colab": {
          "base_uri": "https://localhost:8080/",
          "height": 392
        },
        "outputId": "db3a649f-01fe-4907-8f85-daab053110be"
      },
      "cell_type": "code",
      "source": [
        "train.plot.scatter('xres', 'yres', figsize=(10,6))\n",
        "plt.show()"
      ],
      "execution_count": 154,
      "outputs": [
        {
          "output_type": "display_data",
          "data": {
            "image/png": "[encoded data removed]",
            "text/plain": [
              "<Figure size 720x432 with 1 Axes>"
            ]
          },
          "metadata": {
            "tags": []
          }
        }
      ]
    },
    {
      "metadata": {
        "id": "amS6TzdR9Hbj",
        "colab_type": "text"
      },
      "cell_type": "markdown",
      "source": [
        "Finally we now save this cleaned dataframe."
      ]
    },
    {
      "metadata": {
        "id": "Zz2dWcyJ9F_j",
        "colab_type": "code",
        "colab": {}
      },
      "cell_type": "code",
      "source": [
        "train.to_csv(os.path.join(os.path.normpath(dir_data + os.sep + os.pardir), 'train.csv'), index=False)"
      ],
      "execution_count": 0,
      "outputs": []
    },
    {
      "metadata": {
        "id": "JNN8go-BB9RJ",
        "colab_type": "text"
      },
      "cell_type": "markdown",
      "source": [
        "# Construct The Model"
      ]
    },
    {
      "metadata": {
        "id": "eRb_Jb_2E9S7",
        "colab_type": "text"
      },
      "cell_type": "markdown",
      "source": [
        "First (Re)Load some Packages"
      ]
    },
    {
      "metadata": {
        "id": "tgzcJyleELS5",
        "colab_type": "code",
        "colab": {
          "base_uri": "https://localhost:8080/",
          "height": 34
        },
        "outputId": "13e72dd6-9aad-470f-b900-44194d447b05"
      },
      "cell_type": "code",
      "source": [
        "import numpy as np\n",
        "np.random.seed(1989)\n",
        "\n",
        "import os, shutil, cv2\n",
        "import pandas as pd\n",
        "\n",
        "from albumentations import (Compose, HorizontalFlip, CLAHE, HueSaturationValue, RandomCrop,\n",
        "    RandomBrightness, RandomContrast, RandomGamma, ToFloat, ShiftScaleRotate)\n",
        "\n",
        "\n",
        "from sklearn.model_selection import StratifiedKFold\n",
        "from keras import losses, models, optimizers\n",
        "from keras.activations import relu, softmax\n",
        "from keras.callbacks import (EarlyStopping, LearningRateScheduler, ModelCheckpoint, TensorBoard, ReduceLROnPlateau)\n",
        "from keras.layers import (Convolution1D, Dense, Dropout, GlobalAveragePooling1D, GlobalMaxPool1D, Input, MaxPool1D, concatenate) # for the 1D conv models\n",
        "from keras.layers import (Convolution2D, GlobalAveragePooling2D, BatchNormalization, Flatten, GlobalMaxPool2D, MaxPool2D, Activation, concatenate) # for the 2D models with MFCC\n",
        "from keras.utils import Sequence, to_categorical\n",
        "from keras import backend as K\n",
        "\n",
        "import warnings\n",
        "warnings.filterwarnings(\"ignore\", category=FutureWarning) "
      ],
      "execution_count": 175,
      "outputs": [
        {
          "output_type": "stream",
          "text": [
            "Using TensorFlow backend.\n"
          ],
          "name": "stderr"
        }
      ]
    },
    {
      "metadata": {
        "id": "R_Qes9HAbve0",
        "colab_type": "text"
      },
      "cell_type": "markdown",
      "source": [
        "If you skipped the visualization section, download the dataframe and load it here."
      ]
    },
    {
      "metadata": {
        "id": "JuTwpO7BbwOt",
        "colab_type": "code",
        "colab": {}
      },
      "cell_type": "code",
      "source": [
        "download = drive.CreateFile({'id': '1ffAPRILKnRgHgmVQ_fcVtYlsMk8-sPsT'})\n",
        "download.GetContentFile('/content/train.csv')\n",
        "train = pd.read_csv('/content/train.csv')"
      ],
      "execution_count": 0,
      "outputs": []
    },
    {
      "metadata": {
        "id": "jwyBlvquSv3R",
        "colab_type": "text"
      },
      "cell_type": "markdown",
      "source": [
        "\n",
        "Set up some paths, some dictionnaries and set the filename as index for the training dataframe."
      ]
    },
    {
      "metadata": {
        "id": "mztnLIJ_F-az",
        "colab_type": "code",
        "colab": {
          "base_uri": "https://localhost:8080/",
          "height": 252
        },
        "outputId": "dc05de8c-b5de-4329-bddd-1f30df2f6460"
      },
      "cell_type": "code",
      "source": [
        "dir_data = '/content/data'\n",
        "\n",
        "labels = train['label'].unique()\n",
        "labels_to_idx = {label: i for i, label in enumerate(labels)}\n",
        "print(labels_to_idx)\n",
        "\n",
        "n_classes = len(labels)\n",
        "\n",
        "min_height = train['yres'].min()\n",
        "min_width = train['xres'].min()\n",
        "\n",
        "train.set_index('fname', inplace=True, drop=True)\n",
        "#test.set_index(\"fname\", inplace=True)\n",
        "train[\"label_idx\"] = train.label.apply(lambda x: labels_to_idx[x])\n",
        "\n",
        "train.head()"
      ],
      "execution_count": 233,
      "outputs": [
        {
          "output_type": "stream",
          "text": [
            "{'shell': 0, 'chevron': 1, 'phillips': 2, 'conoco': 3}\n"
          ],
          "name": "stdout"
        },
        {
          "output_type": "execute_result",
          "data": {
            "text/html": [
              "<div>\n",
              "<style scoped>\n",
              "    .dataframe tbody tr th:only-of-type {\n",
              "        vertical-align: middle;\n",
              "    }\n",
              "\n",
              "    .dataframe tbody tr th {\n",
              "        vertical-align: top;\n",
              "    }\n",
              "\n",
              "    .dataframe thead th {\n",
              "        text-align: right;\n",
              "    }\n",
              "</style>\n",
              "<table border=\"1\" class=\"dataframe\">\n",
              "  <thead>\n",
              "    <tr style=\"text-align: right;\">\n",
              "      <th></th>\n",
              "      <th>label</th>\n",
              "      <th>xres</th>\n",
              "      <th>yres</th>\n",
              "      <th>channels</th>\n",
              "      <th>xyres</th>\n",
              "      <th>label_idx</th>\n",
              "    </tr>\n",
              "    <tr>\n",
              "      <th>fname</th>\n",
              "      <th></th>\n",
              "      <th></th>\n",
              "      <th></th>\n",
              "      <th></th>\n",
              "      <th></th>\n",
              "      <th></th>\n",
              "    </tr>\n",
              "  </thead>\n",
              "  <tbody>\n",
              "    <tr>\n",
              "      <th>shell_44.png</th>\n",
              "      <td>shell</td>\n",
              "      <td>810</td>\n",
              "      <td>456</td>\n",
              "      <td>3</td>\n",
              "      <td>369360</td>\n",
              "      <td>0</td>\n",
              "    </tr>\n",
              "    <tr>\n",
              "      <th>chevron_22.jpg</th>\n",
              "      <td>chevron</td>\n",
              "      <td>700</td>\n",
              "      <td>525</td>\n",
              "      <td>3</td>\n",
              "      <td>367500</td>\n",
              "      <td>1</td>\n",
              "    </tr>\n",
              "    <tr>\n",
              "      <th>phillips_316.jpg</th>\n",
              "      <td>phillips</td>\n",
              "      <td>224</td>\n",
              "      <td>300</td>\n",
              "      <td>3</td>\n",
              "      <td>67200</td>\n",
              "      <td>2</td>\n",
              "    </tr>\n",
              "    <tr>\n",
              "      <th>chevron_91.jpg</th>\n",
              "      <td>chevron</td>\n",
              "      <td>1050</td>\n",
              "      <td>706</td>\n",
              "      <td>3</td>\n",
              "      <td>741300</td>\n",
              "      <td>1</td>\n",
              "    </tr>\n",
              "    <tr>\n",
              "      <th>chevron_248.jpg</th>\n",
              "      <td>chevron</td>\n",
              "      <td>400</td>\n",
              "      <td>300</td>\n",
              "      <td>3</td>\n",
              "      <td>120000</td>\n",
              "      <td>1</td>\n",
              "    </tr>\n",
              "  </tbody>\n",
              "</table>\n",
              "</div>"
            ],
            "text/plain": [
              "                     label  xres  yres  channels   xyres  label_idx\n",
              "fname                                                              \n",
              "shell_44.png         shell   810   456         3  369360          0\n",
              "chevron_22.jpg     chevron   700   525         3  367500          1\n",
              "phillips_316.jpg  phillips   224   300         3   67200          2\n",
              "chevron_91.jpg     chevron  1050   706         3  741300          1\n",
              "chevron_248.jpg    chevron   400   300         3  120000          1"
            ]
          },
          "metadata": {
            "tags": []
          },
          "execution_count": 233
        }
      ]
    },
    {
      "metadata": {
        "id": "Ru4064DxXt8N",
        "colab_type": "text"
      },
      "cell_type": "markdown",
      "source": [
        "The Configuration class : In particular contains the default settings."
      ]
    },
    {
      "metadata": {
        "id": "2WnwsyPIGQ1V",
        "colab_type": "code",
        "colab": {}
      },
      "cell_type": "code",
      "source": [
        "class Config(object):\n",
        "\tdef __init__(self, model_name = 'dummy', n_classes=n_classes, image_size=(64,64,3), n_folds=1, learning_rate=0.0001, max_epochs=10):\n",
        "\n",
        "\t\tself.n_classes = n_classes\n",
        "\t\tself.image_size = image_size\n",
        "\t\tself.n_folds = n_folds\n",
        "\t\tself.learning_rate = learning_rate\n",
        "\t\tself.max_epochs = max_epochs\n",
        "\t\tself.model_name = model_name"
      ],
      "execution_count": 0,
      "outputs": []
    },
    {
      "metadata": {
        "id": "6y1g4Yt9Gk7E",
        "colab_type": "text"
      },
      "cell_type": "markdown",
      "source": [
        "The Datagenerator class : Inherits from Keras.utils.Sequence to efficiently feed the data.\n",
        "\n",
        "I think that the normalization is done batch by batch, which is not good, as it's done the same way on the test set. "
      ]
    },
    {
      "metadata": {
        "id": "Q_cpm0v2Gf_u",
        "colab_type": "code",
        "colab": {}
      },
      "cell_type": "code",
      "source": [
        "class DataGenerator(Sequence): # Inherits from Keras.utils.Sequence for multiprocessing\n",
        "\n",
        "    def __init__(self, config, dir_data, list_IDs, labels=None,\n",
        "\t\t\t\t\tbatch_size=16, shuffle=False, augmentation = None, preprocessing_fn=None):\n",
        "    \n",
        "        self.config = config\n",
        "        self.dir_data = dir_data\n",
        "        self.list_IDs = list_IDs\n",
        "        self.labels = labels\n",
        "        self.batch_size = batch_size\n",
        "        self.augmentation = augmentation\n",
        "        self.preprocessing_fn = preprocessing_fn\n",
        "        self.shuffle = shuffle ## DOES IT WORK TO HAVE TRUE ?\n",
        "        self.on_epoch_end()\n",
        "\n",
        "    # returns the number of batches in the Sequence (usually per 1 epoch)\n",
        "    def __len__(self):\n",
        "        return int(np.ceil(len(self.list_IDs) / self.batch_size))\n",
        "\n",
        "    # returns a complete batch at the place index\n",
        "    def __getitem__(self,index):\n",
        "        indexes_temp = self.indexes[index*self.batch_size:(index+1)*self.batch_size]\n",
        "        list_IDs_temp = [self.list_IDs[k] for k in indexes_temp]\n",
        "        return self.__data_generation(list_IDs_temp)\n",
        "\n",
        "    # called at the end of an epoch: reloads IDs\n",
        "    def on_epoch_end(self):\n",
        "        self.indexes = np.arange(len(self.list_IDs))\n",
        "        if self.shuffle == True:\n",
        "            #print('Got to the end of an epoch. Shuffling the dataset')\n",
        "            np.random.shuffle(self.indexes)\n",
        "    \n",
        "    def __data_generation(self, list_IDs_temp):\n",
        "        cur_batch_size = len(list_IDs_temp)\n",
        "        X = np.empty((cur_batch_size, *self.config.image_size)) \n",
        "        \n",
        "        for i,ID in enumerate(list_IDs_temp):\n",
        "            file_path = os.path.join(self.dir_data, ID)\n",
        "            \n",
        "            # read the image\n",
        "            img = cv2.cvtColor(cv2.imread(file_path), cv2.COLOR_RGB2BGR) # NEED TO REVERT COLORS ?\n",
        "            \n",
        "            # other preprocesses (not augmenting though)\n",
        "            if self.preprocessing_fn:\n",
        "                img = self.preprocessing_fn(img) \n",
        "            \n",
        "            # augment and save in the big array X\n",
        "            if self.augmentation:\n",
        "                img = self.augmentation(image=img)[\"image\"]\n",
        "            \n",
        "            # if it wasn't cropped or resized yet, we resize it so that it has the std size\n",
        "            if img.shape != self.config.image_size:\n",
        "                print(img.shape)\n",
        "                print(self.config.image_size)\n",
        "                print('NEED TO RESIZE IMAGE --> Fix it by random cropping or something else')\n",
        "                img = cv2.resize(img,(self.config.image_size[0],self.config.image_size[1]))\n",
        "            \n",
        "            X[i,] = img\n",
        "            ### ADD HERE IMG VISUALIZATION or save in folder\n",
        "        \n",
        "        if self.labels is not None:\n",
        "            y = np.empty(cur_batch_size, dtype=int)\n",
        "            for i, ID in enumerate(list_IDs_temp):\n",
        "                y[i] = self.labels[ID]\n",
        "            \n",
        "            return X, to_categorical(y, num_classes=self.config.n_classes)\n",
        "        else:\n",
        "            return X"
      ],
      "execution_count": 0,
      "outputs": []
    },
    {
      "metadata": {
        "id": "v2_qJX-aY8QI",
        "colab_type": "text"
      },
      "cell_type": "markdown",
      "source": [
        "Here is the dummy model with just a fully connected layer. Name = dummy"
      ]
    },
    {
      "metadata": {
        "id": "q9SoBNfgY7py",
        "colab_type": "code",
        "colab": {}
      },
      "cell_type": "code",
      "source": [
        "def get_dummy_model(config):\n",
        "    \n",
        "    nclass = config.n_classes\n",
        "    \n",
        "    inp = Input(shape=config.image_size)\n",
        "    x = GlobalMaxPool2D()(inp)\n",
        "    out = Dense(nclass, activation=softmax)(x)\n",
        "\n",
        "    model = models.Model(inputs=inp, outputs=out)\n",
        "    opt = optimizers.Adam(config.learning_rate)\n",
        "\n",
        "    model.compile(optimizer=opt, loss=losses.categorical_crossentropy, metrics=['acc'])\n",
        "    return model"
      ],
      "execution_count": 0,
      "outputs": []
    },
    {
      "metadata": {
        "id": "5Euw448aY7cR",
        "colab_type": "text"
      },
      "cell_type": "markdown",
      "source": [
        "And the larger 2D conv model. Name = conv"
      ]
    },
    {
      "metadata": {
        "id": "9fN2n-9JY815",
        "colab_type": "code",
        "colab": {}
      },
      "cell_type": "code",
      "source": [
        "def get_conv_model(config):\n",
        "    \n",
        "    nclass = config.n_classes\n",
        "    \n",
        "    inp = Input(shape=config.image_size)\n",
        "    x = Convolution2D(256, (3,3), padding=\"same\")(inp)\n",
        "    x = BatchNormalization()(x)\n",
        "    x = Activation(\"relu\")(x)\n",
        "    x = MaxPool2D()(x)\n",
        "    \n",
        "    x = Convolution2D(128, (3,3), padding=\"same\")(x)\n",
        "    x = BatchNormalization()(x)\n",
        "    x = Activation(\"relu\")(x)\n",
        "    x = MaxPool2D()(x)\n",
        "    \n",
        "    x = Convolution2D(128, (3,3), padding=\"same\")(x)\n",
        "    x = BatchNormalization()(x)\n",
        "    x = Activation(\"relu\")(x)\n",
        "    x = MaxPool2D()(x)\n",
        "    \n",
        "    x = Convolution2D(128, (3,3), padding=\"same\")(x)\n",
        "    x = BatchNormalization()(x)\n",
        "    x = Activation(\"relu\")(x)\n",
        "    x = MaxPool2D()(x)\n",
        "\n",
        "    x = Flatten()(x)\n",
        "    x = Dense(128)(x)\n",
        "    x = BatchNormalization()(x)\n",
        "    x = Activation(\"relu\")(x)\n",
        "    \n",
        "    x = Dense(256)(x)\n",
        "    x = BatchNormalization()(x)\n",
        "    x = Activation(\"relu\")(x)\n",
        "    \n",
        "    out = Dense(nclass, activation=softmax)(x)\n",
        "\n",
        "    model = models.Model(inputs=inp, outputs=out)\n",
        "    opt = optimizers.Adam(config.learning_rate)\n",
        "\n",
        "    model.compile(optimizer=opt, loss=losses.categorical_crossentropy, metrics=['acc'])\n",
        "    return model"
      ],
      "execution_count": 0,
      "outputs": []
    },
    {
      "metadata": {
        "id": "6TJhUuuHYXG9",
        "colab_type": "text"
      },
      "cell_type": "markdown",
      "source": [
        "# Run The Model!"
      ]
    },
    {
      "metadata": {
        "id": "VTmdu86ciq92",
        "colab_type": "text"
      },
      "cell_type": "markdown",
      "source": [
        "Set-up the Paths for the data"
      ]
    },
    {
      "metadata": {
        "id": "LOiwhPZ9irGk",
        "colab_type": "code",
        "colab": {}
      },
      "cell_type": "code",
      "source": [
        "dir_log = os.path.join(os.path.normpath(dir_data + os.sep + os.pardir), 'logs')\n",
        "if os.path.isdir(dir_log):\n",
        "        shutil.rmtree(dir_log)\n",
        "\n",
        "dir_pred = os.path.join(os.path.normpath(dir_data + os.sep + os.pardir), 'pred')\n",
        "if os.path.isdir(dir_pred):\n",
        "    shutil.rmtree(dir_pred)\n",
        "os.mkdir(dir_pred)\n",
        "\n",
        "dir_train = os.path.join(dir_data)\n",
        "#dir_test = os.path.join(dir_data, 'test')"
      ],
      "execution_count": 0,
      "outputs": []
    },
    {
      "metadata": {
        "id": "G8wNpXt0Y_uH",
        "colab_type": "text"
      },
      "cell_type": "markdown",
      "source": [
        "Creating the config and other necessary global objects that don't need to be reset after each k-fold."
      ]
    },
    {
      "metadata": {
        "id": "qpdMk0pbYZFG",
        "colab_type": "code",
        "colab": {
          "base_uri": "https://localhost:8080/",
          "height": 34
        },
        "outputId": "e0eb9317-fdd9-4f12-9b68-3b526dd6d83f"
      },
      "cell_type": "code",
      "source": [
        "config = Config(n_folds=5, model_name = 'conv', image_size=(min_height, min_width,3), learning_rate=0.001, max_epochs=5)\n",
        "\n",
        "skf = StratifiedKFold(n_splits=config.n_folds)\n",
        "\n",
        "augmentation_train = Compose([ \n",
        "    RandomCrop(min_height,min_width),\n",
        "    #HorizontalFlip(p=0.5),\n",
        "    RandomContrast(limit=0.2, p=0.5),\n",
        "    RandomGamma(gamma_limit=(80, 120), p=0.5),\n",
        "    RandomBrightness(limit=0.2, p=0.5),\n",
        "    #HueSaturationValue(hue_shift_limit=5, sat_shift_limit=20, val_shift_limit=10, p=.9),\n",
        "    # CLAHE(p=1.0, clip_limit=2.0),\n",
        "    ShiftScaleRotate(\n",
        "        shift_limit=0.0625, scale_limit=0.1, \n",
        "        rotate_limit=15, border_mode=cv2.BORDER_REFLECT_101, p=0.8), \n",
        "    ToFloat(max_value=255)\n",
        "])\n",
        "\n",
        "'''\n",
        "augmentation_test = Compose([\n",
        "    RandomCrop(64,64),\n",
        "    # CLAHE(p=1.0, clip_limit=2.0),\n",
        "    ToFloat(max_value=255)\n",
        "])\n",
        "'''\n"
      ],
      "execution_count": 259,
      "outputs": [
        {
          "output_type": "execute_result",
          "data": {
            "text/plain": [
              "'\\naugmentation_test = Compose([\\n    RandomCrop(64,64),\\n    # CLAHE(p=1.0, clip_limit=2.0),\\n    ToFloat(max_value=255)\\n])\\n'"
            ]
          },
          "metadata": {
            "tags": []
          },
          "execution_count": 259
        }
      ]
    },
    {
      "metadata": {
        "id": "c0f9w0QwbHIB",
        "colab_type": "text"
      },
      "cell_type": "markdown",
      "source": [
        "Run the Loop"
      ]
    },
    {
      "metadata": {
        "id": "B8R9e3jvZufP",
        "colab_type": "code",
        "outputId": "68d2b900-69c6-4394-dc03-31f77a41441a",
        "colab": {
          "base_uri": "https://localhost:8080/",
          "height": 632
        }
      },
      "cell_type": "code",
      "source": [
        "if os.path.isdir(dir_log):\n",
        "        shutil.rmtree(dir_log)\n",
        "if os.path.isdir(dir_pred):\n",
        "    shutil.rmtree(dir_pred)\n",
        "os.mkdir(dir_pred)\n",
        "\n",
        "for i, (train_split, val_split) in enumerate(skf.split(train.index, train.label_idx)):\n",
        "    K.clear_session()\n",
        "    \n",
        "    train_set = train.iloc[train_split]\n",
        "    val_set = train.iloc[val_split]\n",
        "    \n",
        "    callbacks_list= []\n",
        "    \n",
        "    # the checkpoint is causing issues with colab and breaks in the middle of training. A workaround is the restore_best_weights from EarlyStopping\n",
        "    #checkpoint = ModelCheckpoint(os.path.join(dir_log,'best_%d.h5'%i), monitor='val_loss', verbose=1, save_best_only=True)\n",
        "    #callbacks_list.append(checkpoint)  \n",
        "    \n",
        "    early = EarlyStopping(monitor='val_loss', mode='min', patience=10, restore_best_weights=True)\n",
        "    callbacks_list.append(early)\n",
        "    \n",
        "    tb = TensorBoard(log_dir= os.path.join(dir_log, 'fold_%d'%i), write_graph=True)\n",
        "    callbacks_list.append(tb)\n",
        "    \n",
        "    print(\"#\"*50)\n",
        "    print(f'\\nFold {i}')\n",
        "    \n",
        "    if config.model_name == 'conv':\n",
        "        model = get_conv_model(config)\n",
        "    else:\n",
        "        model = get_dummy_model(config)\n",
        "    \n",
        "    train_generator = DataGenerator(config, dir_data=dir_train, list_IDs=train_set.index, labels=train_set.label_idx, shuffle=True, augmentation = augmentation_train)\n",
        "    val_generator = DataGenerator(config, dir_data=dir_train, list_IDs=val_set.index, labels=val_set.label_idx, shuffle=True, augmentation = augmentation_train)\n",
        "\n",
        "    history = model.fit_generator(train_generator, callbacks=callbacks_list, validation_data=val_generator, epochs=config.max_epochs, use_multiprocessing=True, max_queue_size=20)\n",
        "    \n",
        "    print('Saving the weights.')\n",
        "    model.save(os.path.join(dir_log,'best_%d.h5'%i))\n",
        "    \n",
        "    # training done, now load best model (at what epoch it was best) and predict\n",
        "    model.load_weights(os.path.join(dir_log,'best_%d.h5'%i))\n",
        "    \n",
        "    # save train prediction for error analysis\n",
        "    train_generator = DataGenerator(config, dir_data=dir_train, list_IDs=train_set.index, labels=train_set.label_idx, augmentation = augmentation_train, batch_size=16) \n",
        "    \n",
        "    print('Doing now predictions on the training set from the saved model.')\n",
        "    predictions = model.predict_generator(train_generator, use_multiprocessing=True, max_queue_size=20, verbose=1)\n",
        "    print('Predictions done. Saving the results.')\n",
        "    np.save(os.path.join(dir_pred, 'train_pred_%d.npy'%i), predictions)\n",
        "    \n",
        "    '''\n",
        "    # save test prediction\n",
        "    test_generator = DataGenerator(config, dir_test, test.index, labels=None,\n",
        "\t\t\t\t\tbatch_size=64)\n",
        "    \n",
        "    predictions = model.predict_generator(test_generator, use_multiprocessing=True, max_queue_size=20, verbose=1)\n",
        "    np.save(os.path.join(dir_pred, 'test_pred_%d.npy'%i), predictions)\n",
        "    pred_test_shape = predictions.shape\n",
        "\n",
        "    # Make a submission file\n",
        "    top_3 = np.array(labels)[np.argsort(-predictions, axis=1)[:, :3]]\n",
        "    predicted_labels = [' '.join(list(x)) for x in top_3]\n",
        "    test['label'] = predicted_labels\n",
        "    test[['label']].to_csv(os.path.join(dir_pred, 'predictions_%d.csv'%i))\n",
        "    '''"
      ],
      "execution_count": 261,
      "outputs": [
        {
          "output_type": "stream",
          "text": [
            "##################################################\n",
            "\n",
            "Fold 0\n",
            "Epoch 1/5\n",
            "31/31 [==============================] - 12s 373ms/step - loss: 1.5585 - acc: 0.3072 - val_loss: 3.4558 - val_acc: 0.3429\n",
            "Epoch 1/5\n",
            "Epoch 2/5\n",
            "31/31 [==============================] - 9s 306ms/step - loss: 1.3672 - acc: 0.3773 - val_loss: 1.6880 - val_acc: 0.3265\n",
            "Epoch 3/5\n",
            "31/31 [==============================] - 10s 311ms/step - loss: 1.3232 - acc: 0.3738 - val_loss: 1.6312 - val_acc: 0.4041\n",
            "Epoch 4/5\n",
            "31/31 [==============================] - 10s 322ms/step - loss: 1.3126 - acc: 0.4446 - val_loss: 1.8521 - val_acc: 0.4000\n",
            "Epoch 5/5\n",
            "31/31 [==============================] - 10s 314ms/step - loss: 1.3158 - acc: 0.3919 - val_loss: 1.4238 - val_acc: 0.4367\n"
          ],
          "name": "stdout"
        },
        {
          "output_type": "error",
          "ename": "KeyboardInterrupt",
          "evalue": "ignored",
          "traceback": [
            "\u001b[0;31m---------------------------------------------------------------------------\u001b[0m",
            "\u001b[0;31mKeyboardInterrupt\u001b[0m                         Traceback (most recent call last)",
            "\u001b[0;32m<ipython-input-261-187ec4c06aed>\u001b[0m in \u001b[0;36m<module>\u001b[0;34m()\u001b[0m\n\u001b[1;32m     34\u001b[0m     \u001b[0mval_generator\u001b[0m \u001b[0;34m=\u001b[0m \u001b[0mDataGenerator\u001b[0m\u001b[0;34m(\u001b[0m\u001b[0mconfig\u001b[0m\u001b[0;34m,\u001b[0m \u001b[0mdir_data\u001b[0m\u001b[0;34m=\u001b[0m\u001b[0mdir_train\u001b[0m\u001b[0;34m,\u001b[0m \u001b[0mlist_IDs\u001b[0m\u001b[0;34m=\u001b[0m\u001b[0mval_set\u001b[0m\u001b[0;34m.\u001b[0m\u001b[0mindex\u001b[0m\u001b[0;34m,\u001b[0m \u001b[0mlabels\u001b[0m\u001b[0;34m=\u001b[0m\u001b[0mval_set\u001b[0m\u001b[0;34m.\u001b[0m\u001b[0mlabel_idx\u001b[0m\u001b[0;34m,\u001b[0m \u001b[0mshuffle\u001b[0m\u001b[0;34m=\u001b[0m\u001b[0;32mTrue\u001b[0m\u001b[0;34m,\u001b[0m \u001b[0maugmentation\u001b[0m \u001b[0;34m=\u001b[0m \u001b[0maugmentation_train\u001b[0m\u001b[0;34m)\u001b[0m\u001b[0;34m\u001b[0m\u001b[0;34m\u001b[0m\u001b[0m\n\u001b[1;32m     35\u001b[0m \u001b[0;34m\u001b[0m\u001b[0m\n\u001b[0;32m---> 36\u001b[0;31m     \u001b[0mhistory\u001b[0m \u001b[0;34m=\u001b[0m \u001b[0mmodel\u001b[0m\u001b[0;34m.\u001b[0m\u001b[0mfit_generator\u001b[0m\u001b[0;34m(\u001b[0m\u001b[0mtrain_generator\u001b[0m\u001b[0;34m,\u001b[0m \u001b[0mcallbacks\u001b[0m\u001b[0;34m=\u001b[0m\u001b[0mcallbacks_list\u001b[0m\u001b[0;34m,\u001b[0m \u001b[0mvalidation_data\u001b[0m\u001b[0;34m=\u001b[0m\u001b[0mval_generator\u001b[0m\u001b[0;34m,\u001b[0m \u001b[0mepochs\u001b[0m\u001b[0;34m=\u001b[0m\u001b[0mconfig\u001b[0m\u001b[0;34m.\u001b[0m\u001b[0mmax_epochs\u001b[0m\u001b[0;34m,\u001b[0m \u001b[0muse_multiprocessing\u001b[0m\u001b[0;34m=\u001b[0m\u001b[0;32mTrue\u001b[0m\u001b[0;34m,\u001b[0m \u001b[0mmax_queue_size\u001b[0m\u001b[0;34m=\u001b[0m\u001b[0;36m20\u001b[0m\u001b[0;34m)\u001b[0m\u001b[0;34m\u001b[0m\u001b[0;34m\u001b[0m\u001b[0m\n\u001b[0m\u001b[1;32m     37\u001b[0m \u001b[0;34m\u001b[0m\u001b[0m\n\u001b[1;32m     38\u001b[0m     \u001b[0mmodel\u001b[0m\u001b[0;34m.\u001b[0m\u001b[0msave\u001b[0m\u001b[0;34m(\u001b[0m\u001b[0mos\u001b[0m\u001b[0;34m.\u001b[0m\u001b[0mpath\u001b[0m\u001b[0;34m.\u001b[0m\u001b[0mjoin\u001b[0m\u001b[0;34m(\u001b[0m\u001b[0mdir_log\u001b[0m\u001b[0;34m,\u001b[0m\u001b[0;34m'best_%d.h5'\u001b[0m\u001b[0;34m%\u001b[0m\u001b[0mi\u001b[0m\u001b[0;34m)\u001b[0m\u001b[0;34m)\u001b[0m\u001b[0;34m\u001b[0m\u001b[0;34m\u001b[0m\u001b[0m\n",
            "\u001b[0;32m/usr/local/lib/python3.6/dist-packages/keras/legacy/interfaces.py\u001b[0m in \u001b[0;36mwrapper\u001b[0;34m(*args, **kwargs)\u001b[0m\n\u001b[1;32m     89\u001b[0m                 warnings.warn('Update your `' + object_name + '` call to the ' +\n\u001b[1;32m     90\u001b[0m                               'Keras 2 API: ' + signature, stacklevel=2)\n\u001b[0;32m---> 91\u001b[0;31m             \u001b[0;32mreturn\u001b[0m \u001b[0mfunc\u001b[0m\u001b[0;34m(\u001b[0m\u001b[0;34m*\u001b[0m\u001b[0margs\u001b[0m\u001b[0;34m,\u001b[0m \u001b[0;34m**\u001b[0m\u001b[0mkwargs\u001b[0m\u001b[0;34m)\u001b[0m\u001b[0;34m\u001b[0m\u001b[0;34m\u001b[0m\u001b[0m\n\u001b[0m\u001b[1;32m     92\u001b[0m         \u001b[0mwrapper\u001b[0m\u001b[0;34m.\u001b[0m\u001b[0m_original_function\u001b[0m \u001b[0;34m=\u001b[0m \u001b[0mfunc\u001b[0m\u001b[0;34m\u001b[0m\u001b[0;34m\u001b[0m\u001b[0m\n\u001b[1;32m     93\u001b[0m         \u001b[0;32mreturn\u001b[0m \u001b[0mwrapper\u001b[0m\u001b[0;34m\u001b[0m\u001b[0;34m\u001b[0m\u001b[0m\n",
            "\u001b[0;32m/usr/local/lib/python3.6/dist-packages/keras/engine/training.py\u001b[0m in \u001b[0;36mfit_generator\u001b[0;34m(self, generator, steps_per_epoch, epochs, verbose, callbacks, validation_data, validation_steps, class_weight, max_queue_size, workers, use_multiprocessing, shuffle, initial_epoch)\u001b[0m\n\u001b[1;32m   1416\u001b[0m             \u001b[0muse_multiprocessing\u001b[0m\u001b[0;34m=\u001b[0m\u001b[0muse_multiprocessing\u001b[0m\u001b[0;34m,\u001b[0m\u001b[0;34m\u001b[0m\u001b[0;34m\u001b[0m\u001b[0m\n\u001b[1;32m   1417\u001b[0m             \u001b[0mshuffle\u001b[0m\u001b[0;34m=\u001b[0m\u001b[0mshuffle\u001b[0m\u001b[0;34m,\u001b[0m\u001b[0;34m\u001b[0m\u001b[0;34m\u001b[0m\u001b[0m\n\u001b[0;32m-> 1418\u001b[0;31m             initial_epoch=initial_epoch)\n\u001b[0m\u001b[1;32m   1419\u001b[0m \u001b[0;34m\u001b[0m\u001b[0m\n\u001b[1;32m   1420\u001b[0m     \u001b[0;34m@\u001b[0m\u001b[0minterfaces\u001b[0m\u001b[0;34m.\u001b[0m\u001b[0mlegacy_generator_methods_support\u001b[0m\u001b[0;34m\u001b[0m\u001b[0;34m\u001b[0m\u001b[0m\n",
            "\u001b[0;32m/usr/local/lib/python3.6/dist-packages/keras/engine/training_generator.py\u001b[0m in \u001b[0;36mfit_generator\u001b[0;34m(model, generator, steps_per_epoch, epochs, verbose, callbacks, validation_data, validation_steps, class_weight, max_queue_size, workers, use_multiprocessing, shuffle, initial_epoch)\u001b[0m\n\u001b[1;32m    260\u001b[0m         \u001b[0;32mfinally\u001b[0m\u001b[0;34m:\u001b[0m\u001b[0;34m\u001b[0m\u001b[0;34m\u001b[0m\u001b[0m\n\u001b[1;32m    261\u001b[0m             \u001b[0;32mif\u001b[0m \u001b[0mval_enqueuer\u001b[0m \u001b[0;32mis\u001b[0m \u001b[0;32mnot\u001b[0m \u001b[0;32mNone\u001b[0m\u001b[0;34m:\u001b[0m\u001b[0;34m\u001b[0m\u001b[0;34m\u001b[0m\u001b[0m\n\u001b[0;32m--> 262\u001b[0;31m                 \u001b[0mval_enqueuer\u001b[0m\u001b[0;34m.\u001b[0m\u001b[0mstop\u001b[0m\u001b[0;34m(\u001b[0m\u001b[0;34m)\u001b[0m\u001b[0;34m\u001b[0m\u001b[0;34m\u001b[0m\u001b[0m\n\u001b[0m\u001b[1;32m    263\u001b[0m \u001b[0;34m\u001b[0m\u001b[0m\n\u001b[1;32m    264\u001b[0m     \u001b[0mcallbacks\u001b[0m\u001b[0;34m.\u001b[0m\u001b[0mon_train_end\u001b[0m\u001b[0;34m(\u001b[0m\u001b[0;34m)\u001b[0m\u001b[0;34m\u001b[0m\u001b[0;34m\u001b[0m\u001b[0m\n",
            "\u001b[0;32m/usr/local/lib/python3.6/dist-packages/keras/utils/data_utils.py\u001b[0m in \u001b[0;36mstop\u001b[0;34m(self, timeout)\u001b[0m\n\u001b[1;32m    494\u001b[0m             \u001b[0mself\u001b[0m\u001b[0;34m.\u001b[0m\u001b[0mqueue\u001b[0m\u001b[0;34m.\u001b[0m\u001b[0munfinished_tasks\u001b[0m \u001b[0;34m=\u001b[0m \u001b[0;36m0\u001b[0m\u001b[0;34m\u001b[0m\u001b[0;34m\u001b[0m\u001b[0m\n\u001b[1;32m    495\u001b[0m             \u001b[0mself\u001b[0m\u001b[0;34m.\u001b[0m\u001b[0mqueue\u001b[0m\u001b[0;34m.\u001b[0m\u001b[0mnot_full\u001b[0m\u001b[0;34m.\u001b[0m\u001b[0mnotify\u001b[0m\u001b[0;34m(\u001b[0m\u001b[0;34m)\u001b[0m\u001b[0;34m\u001b[0m\u001b[0;34m\u001b[0m\u001b[0m\n\u001b[0;32m--> 496\u001b[0;31m         \u001b[0mself\u001b[0m\u001b[0;34m.\u001b[0m\u001b[0mrun_thread\u001b[0m\u001b[0;34m.\u001b[0m\u001b[0mjoin\u001b[0m\u001b[0;34m(\u001b[0m\u001b[0mtimeout\u001b[0m\u001b[0;34m)\u001b[0m\u001b[0;34m\u001b[0m\u001b[0;34m\u001b[0m\u001b[0m\n\u001b[0m\u001b[1;32m    497\u001b[0m         \u001b[0m_SHARED_SEQUENCES\u001b[0m\u001b[0;34m[\u001b[0m\u001b[0mself\u001b[0m\u001b[0;34m.\u001b[0m\u001b[0muid\u001b[0m\u001b[0;34m]\u001b[0m \u001b[0;34m=\u001b[0m \u001b[0;32mNone\u001b[0m\u001b[0;34m\u001b[0m\u001b[0;34m\u001b[0m\u001b[0m\n\u001b[1;32m    498\u001b[0m \u001b[0;34m\u001b[0m\u001b[0m\n",
            "\u001b[0;32m/usr/lib/python3.6/threading.py\u001b[0m in \u001b[0;36mjoin\u001b[0;34m(self, timeout)\u001b[0m\n\u001b[1;32m   1054\u001b[0m \u001b[0;34m\u001b[0m\u001b[0m\n\u001b[1;32m   1055\u001b[0m         \u001b[0;32mif\u001b[0m \u001b[0mtimeout\u001b[0m \u001b[0;32mis\u001b[0m \u001b[0;32mNone\u001b[0m\u001b[0;34m:\u001b[0m\u001b[0;34m\u001b[0m\u001b[0;34m\u001b[0m\u001b[0m\n\u001b[0;32m-> 1056\u001b[0;31m             \u001b[0mself\u001b[0m\u001b[0;34m.\u001b[0m\u001b[0m_wait_for_tstate_lock\u001b[0m\u001b[0;34m(\u001b[0m\u001b[0;34m)\u001b[0m\u001b[0;34m\u001b[0m\u001b[0;34m\u001b[0m\u001b[0m\n\u001b[0m\u001b[1;32m   1057\u001b[0m         \u001b[0;32melse\u001b[0m\u001b[0;34m:\u001b[0m\u001b[0;34m\u001b[0m\u001b[0;34m\u001b[0m\u001b[0m\n\u001b[1;32m   1058\u001b[0m             \u001b[0;31m# the behavior of a negative timeout isn't documented, but\u001b[0m\u001b[0;34m\u001b[0m\u001b[0;34m\u001b[0m\u001b[0;34m\u001b[0m\u001b[0m\n",
            "\u001b[0;32m/usr/lib/python3.6/threading.py\u001b[0m in \u001b[0;36m_wait_for_tstate_lock\u001b[0;34m(self, block, timeout)\u001b[0m\n\u001b[1;32m   1070\u001b[0m         \u001b[0;32mif\u001b[0m \u001b[0mlock\u001b[0m \u001b[0;32mis\u001b[0m \u001b[0;32mNone\u001b[0m\u001b[0;34m:\u001b[0m  \u001b[0;31m# already determined that the C code is done\u001b[0m\u001b[0;34m\u001b[0m\u001b[0;34m\u001b[0m\u001b[0m\n\u001b[1;32m   1071\u001b[0m             \u001b[0;32massert\u001b[0m \u001b[0mself\u001b[0m\u001b[0;34m.\u001b[0m\u001b[0m_is_stopped\u001b[0m\u001b[0;34m\u001b[0m\u001b[0;34m\u001b[0m\u001b[0m\n\u001b[0;32m-> 1072\u001b[0;31m         \u001b[0;32melif\u001b[0m \u001b[0mlock\u001b[0m\u001b[0;34m.\u001b[0m\u001b[0macquire\u001b[0m\u001b[0;34m(\u001b[0m\u001b[0mblock\u001b[0m\u001b[0;34m,\u001b[0m \u001b[0mtimeout\u001b[0m\u001b[0;34m)\u001b[0m\u001b[0;34m:\u001b[0m\u001b[0;34m\u001b[0m\u001b[0;34m\u001b[0m\u001b[0m\n\u001b[0m\u001b[1;32m   1073\u001b[0m             \u001b[0mlock\u001b[0m\u001b[0;34m.\u001b[0m\u001b[0mrelease\u001b[0m\u001b[0;34m(\u001b[0m\u001b[0;34m)\u001b[0m\u001b[0;34m\u001b[0m\u001b[0;34m\u001b[0m\u001b[0m\n\u001b[1;32m   1074\u001b[0m             \u001b[0mself\u001b[0m\u001b[0;34m.\u001b[0m\u001b[0m_stop\u001b[0m\u001b[0;34m(\u001b[0m\u001b[0;34m)\u001b[0m\u001b[0;34m\u001b[0m\u001b[0;34m\u001b[0m\u001b[0m\n",
            "\u001b[0;31mKeyboardInterrupt\u001b[0m: "
          ]
        }
      ]
    },
    {
      "metadata": {
        "id": "BpsqnFZGbNf6",
        "colab_type": "text"
      },
      "cell_type": "markdown",
      "source": [
        "Ensemble the Predictions"
      ]
    },
    {
      "metadata": {
        "id": "L-4-EpsVbNoh",
        "colab_type": "code",
        "colab": {}
      },
      "cell_type": "code",
      "source": [
        "pred_list = []\n",
        "\n",
        "for i in range(config.n_folds):\n",
        "    pred_list.append(np.load(os.path.join(dir_pred, 'test_pred_%d.npy'%i)))\n",
        "    \n",
        "prediction = np.ones_like(pred_list[0])\n",
        "\n",
        "# Taking a geometric mean of the probabilities\n",
        "for pred in pred_list:\n",
        "    prediction = prediction*pred\n",
        "prediction_gm = prediction**(1./len(pred_list))\n",
        "\n",
        "# Make a submission file\n",
        "top_3 = np.array(labels)[np.argsort(-prediction_gm, axis=1)[:, :3]]\n",
        "\n",
        "predicted_labels = [' '.join(list(x)) for x in top_3]\n",
        "\n",
        "submission = pd.read_csv(os.path.join(dir_data, 'sample_submission.csv'))\n",
        "\n",
        "submission['label'] = predicted_labels\n",
        "submission[['fname', 'label']].to_csv(os.path.join(dir_data, 'submission.csv'), index=False)"
      ],
      "execution_count": 0,
      "outputs": []
    },
    {
      "metadata": {
        "id": "w3vHWTByy9oG",
        "colab_type": "text"
      },
      "cell_type": "markdown",
      "source": [
        "We now save the logs, pr"
      ]
    },
    {
      "metadata": {
        "id": "R7FZv0c4mbxV",
        "colab_type": "code",
        "colab": {}
      },
      "cell_type": "code",
      "source": [
        "from datetime import datetime\n",
        "datetime_now = str(datetime.now()).replace('-','').replace(':','').replace(' ','')\n",
        "datetime_now = datetime_now[:datetime_now.find('.')]\n",
        "datetime_now = datetime_now[4:8] + '_' + datetime_now[-6:-2]\n",
        "\n",
        "# save the logs\n",
        "zipname = datetime_now + '_log.zip'\n",
        "!zip -r /content/\"$zipname\" /content/logs\n",
        "files.download(os.path.join(dir_data, zipname))\n",
        "\n",
        "# save the preds\n",
        "zipname = datetime_now + '_pred.zip'\n",
        "!zip -r /content/\"$zipname\" /content/pred\n",
        "files.download(os.path.join(dir_data, zipname))\n",
        "\n",
        "# save the submission\n",
        "zipname = datetime_now + '_submission.zip'\n",
        "!zip -r /content/\"$zipname\" /content/submission.csv\n",
        "files.download(os.path.join(dir_data, zipname))"
      ],
      "execution_count": 0,
      "outputs": []
    },
    {
      "metadata": {
        "id": "mcAlnIYuvQT4",
        "colab_type": "code",
        "colab": {}
      },
      "cell_type": "code",
      "source": [
        ""
      ],
      "execution_count": 0,
      "outputs": []
    }
  ]
}
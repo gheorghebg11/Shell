{
  "nbformat": 4,
  "nbformat_minor": 0,
  "metadata": {
    "colab": {
      "name": "Copy of Shell.ipynb",
      "version": "0.3.2",
      "provenance": [],
      "collapsed_sections": [
        "IhDqpEz1xG3u",
        "JNN8go-BB9RJ"
      ],
      "toc_visible": true,
      "include_colab_link": true
    },
    "kernelspec": {
      "name": "python3",
      "display_name": "Python 3"
    },
    "accelerator": "GPU"
  },
  "cells": [
    {
      "cell_type": "markdown",
      "metadata": {
        "id": "view-in-github",
        "colab_type": "text"
      },
      "source": [
        "<a href=\"https://colab.research.google.com/github/gheorghebg11/Shell/blob/master/Shell.ipynb\" target=\"_parent\"><img src=\"https://colab.research.google.com/assets/colab-badge.svg\" alt=\"Open In Colab\"/></a>"
      ]
    },
    {
      "cell_type": "markdown",
      "metadata": {
        "id": "ksXJw2tBpWrW",
        "colab_type": "text"
      },
      "source": [
        "# Load the files into Colab"
      ]
    },
    {
      "cell_type": "markdown",
      "metadata": {
        "id": "FKZMLM-S16Nd",
        "colab_type": "text"
      },
      "source": [
        "The first cells are for loading the big data files from google drive (as colab only keeps the files for 12 hours), and the .csv from my local drive or dropbox. We first authenticate and connect to google drive."
      ]
    },
    {
      "cell_type": "code",
      "metadata": {
        "id": "WzIkU8LMyozt",
        "colab_type": "code",
        "outputId": "b060a141-78c1-4351-c074-0a5df8b02889",
        "colab": {
          "base_uri": "https://localhost:8080/",
          "height": 204
        }
      },
      "source": [
        "!pip install PyDrive\n",
        "!pip install -U tensorboardcolab\n",
        "import os, zipfile\n",
        "from pydrive.auth import GoogleAuth\n",
        "from pydrive.drive import GoogleDrive\n",
        "from google.colab import auth, files\n",
        "from oauth2client.client import GoogleCredentials\n",
        "\n",
        "auth.authenticate_user()\n",
        "\n",
        "gauth = GoogleAuth()\n",
        "gauth.credentials = GoogleCredentials.get_application_default()\n",
        "drive = GoogleDrive(gauth)"
      ],
      "execution_count": 1,
      "outputs": [
        {
          "output_type": "stream",
          "text": [
            "Requirement already satisfied: PyDrive in /usr/local/lib/python3.6/dist-packages (1.3.1)\n",
            "Requirement already satisfied: google-api-python-client>=1.2 in /usr/local/lib/python3.6/dist-packages (from PyDrive) (1.6.7)\n",
            "Requirement already satisfied: oauth2client>=4.0.0 in /usr/local/lib/python3.6/dist-packages (from PyDrive) (4.1.3)\n",
            "Requirement already satisfied: PyYAML>=3.0 in /usr/local/lib/python3.6/dist-packages (from PyDrive) (3.13)\n",
            "Requirement already satisfied: uritemplate<4dev,>=3.0.0 in /usr/local/lib/python3.6/dist-packages (from google-api-python-client>=1.2->PyDrive) (3.0.0)\n",
            "Requirement already satisfied: httplib2<1dev,>=0.9.2 in /usr/local/lib/python3.6/dist-packages (from google-api-python-client>=1.2->PyDrive) (0.11.3)\n",
            "Requirement already satisfied: six<2dev,>=1.6.1 in /usr/local/lib/python3.6/dist-packages (from google-api-python-client>=1.2->PyDrive) (1.12.0)\n",
            "Requirement already satisfied: pyasn1>=0.1.7 in /usr/local/lib/python3.6/dist-packages (from oauth2client>=4.0.0->PyDrive) (0.4.5)\n",
            "Requirement already satisfied: rsa>=3.1.4 in /usr/local/lib/python3.6/dist-packages (from oauth2client>=4.0.0->PyDrive) (4.0)\n",
            "Requirement already satisfied: pyasn1-modules>=0.0.5 in /usr/local/lib/python3.6/dist-packages (from oauth2client>=4.0.0->PyDrive) (0.2.5)\n",
            "Requirement already up-to-date: tensorboardcolab in /usr/local/lib/python3.6/dist-packages (0.0.22)\n"
          ],
          "name": "stdout"
        }
      ]
    },
    {
      "cell_type": "markdown",
      "metadata": {
        "id": "dEMiyKPeq9Hw",
        "colab_type": "text"
      },
      "source": [
        "Now download the files and un unzip the archives. Right now there are 4 folders for 4 different gas station brands."
      ]
    },
    {
      "cell_type": "code",
      "metadata": {
        "id": "dWbpFmwVqgxv",
        "colab_type": "code",
        "outputId": "591504e5-8cb3-40cb-c191-e3478a78d77a",
        "colab": {
          "base_uri": "https://localhost:8080/",
          "height": 85
        }
      },
      "source": [
        "!mkdir /content/data\n",
        "print('\\nDownloading the data')\n",
        "download = drive.CreateFile({'id': '1e5u2uDQ5mupV64KJbmWVG-JhlGKz9uUD'})\n",
        "download.GetContentFile('/content/data_shell.tar.gz')\n",
        "!tar -xzf /content/data_shell.tar.gz -C /content/data\n",
        "print('\\nData successfully downloaded in /content/data')\n",
        "!rm /content/data_shell.tar.gz\n",
        "!rm -r /content/sample_data"
      ],
      "execution_count": 0,
      "outputs": [
        {
          "output_type": "stream",
          "text": [
            "\n",
            "Downloading the data\n",
            "\n",
            "Data successfully downloaded in /content/data\n"
          ],
          "name": "stdout"
        }
      ]
    },
    {
      "cell_type": "markdown",
      "metadata": {
        "id": "IhDqpEz1xG3u",
        "colab_type": "text"
      },
      "source": [
        "# Data Visualization and Basic Cleaning"
      ]
    },
    {
      "cell_type": "markdown",
      "metadata": {
        "id": "dqBNmbTp12LL",
        "colab_type": "text"
      },
      "source": [
        "First load some packages for Data Visualization."
      ]
    },
    {
      "cell_type": "code",
      "metadata": {
        "id": "1GgouP0vzvop",
        "colab_type": "code",
        "colab": {}
      },
      "source": [
        "import numpy as np\n",
        "np.random.seed(1989)\n",
        "\n",
        "import cv2\n",
        "from albumentations import Compose\n",
        "import albumentations.augmentations.transforms as alb\n",
        "\n",
        "import matplotlib.pyplot as plt\n",
        "import pandas as pd\n",
        "pd.options.display.max_columns = 20\n",
        "\n",
        "import warnings\n",
        "warnings.filterwarnings(\"ignore\", category=FutureWarning) "
      ],
      "execution_count": 0,
      "outputs": []
    },
    {
      "cell_type": "markdown",
      "metadata": {
        "id": "ou05IqYl_W5o",
        "colab_type": "text"
      },
      "source": [
        "First setup the working directory and get a list of the labels. There is one folder per label, containing all the images associated with that label.\n",
        "\n",
        "We will now loop through all files and do a few tasks:\n",
        "- check for corrupted files (ending in .part)\n",
        "- check for all available extensions, in order to exlcude non-images\n",
        "- rename each file in the formal 'label_oldfilename' and move them all in one single folder."
      ]
    },
    {
      "cell_type": "code",
      "metadata": {
        "id": "pdD0NsgB-_9u",
        "colab_type": "code",
        "outputId": "145f2376-71ab-4164-c0c4-8ca4a32d8445",
        "colab": {
          "base_uri": "https://localhost:8080/",
          "height": 34
        }
      },
      "source": [
        "dir_data = '/content/data/'\n",
        "labels = list(os.listdir(dir_data))\n",
        "\n",
        "extensions = set()\n",
        "\n",
        "for label in labels:\n",
        "    dir_label = os.path.join(dir_data, label)\n",
        "    filenames = [name for name in os.listdir(dir_label) if os.path.isfile(os.path.join(dir_label, name))]\n",
        "    \n",
        "    for filename in filenames:\n",
        "        new_filename = label + '_' + filename\n",
        "        os.rename(os.path.join(dir_label, filename), os.path.join(dir_data,new_filename))\n",
        "        \n",
        "        # check for the extension\n",
        "        extension = filename.split('.')[-1]\n",
        "        if extension not in extensions:\n",
        "            extensions.add(extension)\n",
        "    \n",
        "    # erase the empty folder\n",
        "    os.rmdir(os.path.join(dir_data, label))\n",
        "    #shutil.rmtree(os.path.join(dir_data, label))\n",
        "    \n",
        "print(f'We found the extensions {extensions}')\n",
        "\n",
        "# create a list with all filenames MAYBE PUT IN PANDAS ?\n",
        "filenames = [name for name in os.listdir(dir_data) if os.path.isfile(os.path.join(dir_data, name))]"
      ],
      "execution_count": 3,
      "outputs": [
        {
          "output_type": "stream",
          "text": [
            "We found the extensions {'jpg', 'jpeg', 'png', 'part'}\n"
          ],
          "name": "stdout"
        }
      ]
    },
    {
      "cell_type": "markdown",
      "metadata": {
        "id": "-HrOXXZUUES1",
        "colab_type": "text"
      },
      "source": [
        "We will now erase the files ending in .part as they are corrupted images that failed during data mining. We also create a list with all the images path and their size in order to explore that data."
      ]
    },
    {
      "cell_type": "code",
      "metadata": {
        "id": "aOc-LEDqRDMw",
        "colab_type": "code",
        "outputId": "fd4fe963-ca76-4809-9bba-b0a4d6cac046",
        "colab": {
          "base_uri": "https://localhost:8080/",
          "height": 34
        }
      },
      "source": [
        "corrupted_files = 0\n",
        "filenames_and_labels = []\n",
        "\n",
        "for filename in filenames:\n",
        "    if filename.endswith('.part'):\n",
        "        corrupted_files = corrupted_files + 1\n",
        "        os.remove(os.path.join(dir_data, filename))\n",
        "        #filenames.remove(filename)\n",
        "    else:\n",
        "        dims = cv2.imread(os.path.join(dir_data, filename)).shape\n",
        "        filenames_and_labels.append((filename, filename.split('_')[0], dims[1], dims[0], dims[2], dims[0]*dims[1]))\n",
        "        \n",
        "print(f'We removed {corrupted_files} corrupted files out of {len(filenames) + corrupted_files} total files.')"
      ],
      "execution_count": 4,
      "outputs": [
        {
          "output_type": "stream",
          "text": [
            "We removed 7 corrupted files out of 783 total files.\n"
          ],
          "name": "stdout"
        }
      ]
    },
    {
      "cell_type": "markdown",
      "metadata": {
        "id": "I-pA5vZHVEBP",
        "colab_type": "text"
      },
      "source": [
        "We now create a Pandas df with the data and explore it a little bit."
      ]
    },
    {
      "cell_type": "code",
      "metadata": {
        "id": "-cLQ9amV2DPD",
        "colab_type": "code",
        "outputId": "7010b7cb-3c5b-447b-e777-d94b4ed2a520",
        "colab": {
          "base_uri": "https://localhost:8080/",
          "height": 221
        }
      },
      "source": [
        "train = pd.DataFrame(filenames_and_labels, columns=['fname', 'label', 'xres', 'yres', 'channels', 'xyres'])\n",
        "print(f'Train set has {train.shape[0]} examples and {len(set(train.label))} different labels. Here is a sample:')\n",
        "train.sample(5)"
      ],
      "execution_count": 5,
      "outputs": [
        {
          "output_type": "stream",
          "text": [
            "Train set has 769 examples and 4 different labels. Here is a sample:\n"
          ],
          "name": "stdout"
        },
        {
          "output_type": "execute_result",
          "data": {
            "text/html": [
              "<div>\n",
              "<style scoped>\n",
              "    .dataframe tbody tr th:only-of-type {\n",
              "        vertical-align: middle;\n",
              "    }\n",
              "\n",
              "    .dataframe tbody tr th {\n",
              "        vertical-align: top;\n",
              "    }\n",
              "\n",
              "    .dataframe thead th {\n",
              "        text-align: right;\n",
              "    }\n",
              "</style>\n",
              "<table border=\"1\" class=\"dataframe\">\n",
              "  <thead>\n",
              "    <tr style=\"text-align: right;\">\n",
              "      <th></th>\n",
              "      <th>fname</th>\n",
              "      <th>label</th>\n",
              "      <th>xres</th>\n",
              "      <th>yres</th>\n",
              "      <th>channels</th>\n",
              "      <th>xyres</th>\n",
              "    </tr>\n",
              "  </thead>\n",
              "  <tbody>\n",
              "    <tr>\n",
              "      <th>244</th>\n",
              "      <td>chevron_162.jpg</td>\n",
              "      <td>chevron</td>\n",
              "      <td>1920</td>\n",
              "      <td>795</td>\n",
              "      <td>3</td>\n",
              "      <td>1526400</td>\n",
              "    </tr>\n",
              "    <tr>\n",
              "      <th>446</th>\n",
              "      <td>conoco_10.jpg</td>\n",
              "      <td>conoco</td>\n",
              "      <td>1300</td>\n",
              "      <td>954</td>\n",
              "      <td>3</td>\n",
              "      <td>1240200</td>\n",
              "    </tr>\n",
              "    <tr>\n",
              "      <th>89</th>\n",
              "      <td>phillips_112.jpg</td>\n",
              "      <td>phillips</td>\n",
              "      <td>500</td>\n",
              "      <td>375</td>\n",
              "      <td>3</td>\n",
              "      <td>187500</td>\n",
              "    </tr>\n",
              "    <tr>\n",
              "      <th>102</th>\n",
              "      <td>conoco_5.jpg</td>\n",
              "      <td>conoco</td>\n",
              "      <td>1600</td>\n",
              "      <td>581</td>\n",
              "      <td>3</td>\n",
              "      <td>929600</td>\n",
              "    </tr>\n",
              "    <tr>\n",
              "      <th>445</th>\n",
              "      <td>shell_191.jpg</td>\n",
              "      <td>shell</td>\n",
              "      <td>250</td>\n",
              "      <td>250</td>\n",
              "      <td>3</td>\n",
              "      <td>62500</td>\n",
              "    </tr>\n",
              "  </tbody>\n",
              "</table>\n",
              "</div>"
            ],
            "text/plain": [
              "                fname     label  xres  yres  channels    xyres\n",
              "244   chevron_162.jpg   chevron  1920   795         3  1526400\n",
              "446     conoco_10.jpg    conoco  1300   954         3  1240200\n",
              "89   phillips_112.jpg  phillips   500   375         3   187500\n",
              "102      conoco_5.jpg    conoco  1600   581         3   929600\n",
              "445     shell_191.jpg     shell   250   250         3    62500"
            ]
          },
          "metadata": {
            "tags": []
          },
          "execution_count": 5
        }
      ]
    },
    {
      "cell_type": "markdown",
      "metadata": {
        "id": "8X5o1jcF48s3",
        "colab_type": "text"
      },
      "source": [
        "Let's visualize how many samples there are per label."
      ]
    },
    {
      "cell_type": "code",
      "metadata": {
        "id": "mQxcK7Ja49du",
        "colab_type": "code",
        "outputId": "1aa0075e-51cb-4fe5-e284-087d76ad2190",
        "colab": {
          "base_uri": "https://localhost:8080/",
          "height": 407
        }
      },
      "source": [
        "category_group = train[['fname', 'label']].groupby(['label']).count()\n",
        "category_group.columns = ['counts']\n",
        "print(f'The number of images per label ranges from {category_group.counts.min()} to {category_group.counts.max()}')\n",
        "plot = category_group.sort_values(ascending=True, by='counts').plot(kind='barh', title='nbr images per label', figsize=(10,6))\n",
        "plt.show()"
      ],
      "execution_count": 6,
      "outputs": [
        {
          "output_type": "stream",
          "text": [
            "The number of images per label ranges from 137 to 223\n"
          ],
          "name": "stdout"
        },
        {
          "output_type": "display_data",
          "data": {
            "image/png": "[encoded data removed]",
            "text/plain": [
              "<Figure size 720x432 with 1 Axes>"
            ]
          },
          "metadata": {
            "tags": []
          }
        }
      ]
    },
    {
      "cell_type": "markdown",
      "metadata": {
        "id": "2Cs9GgL886Z6",
        "colab_type": "text"
      },
      "source": [
        "We look at the smallest and largest dimensions, and check that all photos have 3 channels.\n",
        "\n"
      ]
    },
    {
      "cell_type": "code",
      "metadata": {
        "id": "EQZi4Kii9bcL",
        "colab_type": "code",
        "outputId": "d6a5e4ea-04b6-4df9-a5e3-de26f653c41c",
        "colab": {
          "base_uri": "https://localhost:8080/",
          "height": 604
        }
      },
      "source": [
        "print(f'The smallest x-resolution is \\n{train.iloc[train.xres.idxmin()]}\\n')\n",
        "print(f'The smallest y-resolution is \\n{train.iloc[train.yres.idxmin()]}\\n')\n",
        "\n",
        "print('The distribution of channels is given by:')\n",
        "train.hist(column='channels', bins=3, figsize=(8,4))\n",
        "plt.show()"
      ],
      "execution_count": 7,
      "outputs": [
        {
          "output_type": "stream",
          "text": [
            "The smallest x-resolution is \n",
            "fname       chevron_213.jpg\n",
            "label               chevron\n",
            "xres                    150\n",
            "yres                    150\n",
            "channels                  3\n",
            "xyres                 22500\n",
            "Name: 282, dtype: object\n",
            "\n",
            "The smallest y-resolution is \n",
            "fname       conoco_378.jpeg\n",
            "label                conoco\n",
            "xres                    299\n",
            "yres                    133\n",
            "channels                  3\n",
            "xyres                 39767\n",
            "Name: 75, dtype: object\n",
            "\n",
            "The distribution of channels is given by:\n"
          ],
          "name": "stdout"
        },
        {
          "output_type": "display_data",
          "data": {
            "image/png": "[encoded data removed]",
            "text/plain": [
              "<Figure size 576x288 with 1 Axes>"
            ]
          },
          "metadata": {
            "tags": []
          }
        }
      ]
    },
    {
      "cell_type": "markdown",
      "metadata": {
        "id": "d29BD3lAUY5X",
        "colab_type": "text"
      },
      "source": [
        "Let's now visualize the distribution of their dimensions:"
      ]
    },
    {
      "cell_type": "code",
      "metadata": {
        "id": "W0kci361UpDU",
        "colab_type": "code",
        "outputId": "7a05f54f-e85b-4d5b-d924-7bf681698016",
        "colab": {
          "base_uri": "https://localhost:8080/",
          "height": 392
        }
      },
      "source": [
        "train.plot.scatter('xres', 'yres', figsize=(10,6))\n",
        "plt.axvline(x=2250)\n",
        "plt.show()"
      ],
      "execution_count": 8,
      "outputs": [
        {
          "output_type": "display_data",
          "data": {
            "image/png": "[encoded data removed]",
            "text/plain": [
              "<Figure size 720x432 with 1 Axes>"
            ]
          },
          "metadata": {
            "tags": []
          }
        }
      ]
    },
    {
      "cell_type": "markdown",
      "metadata": {
        "id": "9j4759M6WmmA",
        "colab_type": "text"
      },
      "source": [
        "We see that the scales are not the same and that most photos have a larger x-resolution. We will remove some outliers to avoid huge resolutions. Let's put the threshold at x-res < 2250."
      ]
    },
    {
      "cell_type": "code",
      "metadata": {
        "id": "qQMuuCJ_WnA9",
        "colab_type": "code",
        "outputId": "6904b425-37aa-48ea-82f1-4e5497c7d10b",
        "colab": {
          "base_uri": "https://localhost:8080/",
          "height": 34
        }
      },
      "source": [
        "nbr_im_large_xres = train[train.xres > 2250].shape[0]\n",
        "total_im = train.shape[0]\n",
        "train = train.query('xres < 2250')\n",
        "\n",
        "print(f'There are {nbr_im_large_xres} images (out of {total_im}) with x-resolution larger than 2250. We remove them and we are left with {train.shape[0]} images.')"
      ],
      "execution_count": 9,
      "outputs": [
        {
          "output_type": "stream",
          "text": [
            "There are 39 images (out of 769) with x-resolution larger than 2250. We remove them and we are left with 730 images.\n"
          ],
          "name": "stdout"
        }
      ]
    },
    {
      "cell_type": "markdown",
      "metadata": {
        "id": "qenXTdblYvZ6",
        "colab_type": "text"
      },
      "source": [
        "Here is the new distribution of dimensions."
      ]
    },
    {
      "cell_type": "code",
      "metadata": {
        "id": "0EMhSZp3Yv5K",
        "colab_type": "code",
        "outputId": "93c7fe5e-e3c6-4a33-b04a-1d14464f5614",
        "colab": {
          "base_uri": "https://localhost:8080/",
          "height": 392
        }
      },
      "source": [
        "train.plot.scatter('xres', 'yres', figsize=(10,6))\n",
        "plt.show()"
      ],
      "execution_count": 10,
      "outputs": [
        {
          "output_type": "display_data",
          "data": {
            "image/png": "[encoded data removed]",
            "text/plain": [
              "<Figure size 720x432 with 1 Axes>"
            ]
          },
          "metadata": {
            "tags": []
          }
        }
      ]
    },
    {
      "cell_type": "markdown",
      "metadata": {
        "id": "wmmrapnq3omu",
        "colab_type": "text"
      },
      "source": [
        "Let's look at some samples, and look at what our data augmentation filters does."
      ]
    },
    {
      "cell_type": "code",
      "metadata": {
        "id": "9z7xYPqS3mVY",
        "colab_type": "code",
        "colab": {}
      },
      "source": [
        "min_height_width = min(train['yres'].min(), train['xres'].min())\n",
        "\n",
        "filename = train.sample(1).fname\n",
        "file_path = os.path.join(dir_data, filename)\n",
        "img = cv2.cvtColor(cv2.imread(file_path), cv2.COLOR_RGB2BGR) # convert in normal colors\n",
        "\n",
        "ratio_img_to_crop = max(img.shape[0]/min_height_width, img.shape[1]/min_height_width)\n",
        "if ratio_img_to_crop > 2:\n",
        "    img = cv2.resize(img,(int(img.shape[1] * 2 / ratio_img_to_crop), int(img.shape[0] * 2 / ratio_img_to_crop)))\n",
        "    img = alb.PadIfNeeded(min_height=min_height_width, min_width=min_height_width)(image=img)[\"image\"] ## IF PROBLEM USE MIN for crop and remove this.\n",
        "    #plt.figure(), plt.imshow(img), plt.show()\n",
        "img = self.augmentation(image=img)[\"image\"]\n"
      ],
      "execution_count": 0,
      "outputs": []
    },
    {
      "cell_type": "markdown",
      "metadata": {
        "id": "amS6TzdR9Hbj",
        "colab_type": "text"
      },
      "source": [
        "Finally we now save this cleaned dataframe."
      ]
    },
    {
      "cell_type": "code",
      "metadata": {
        "id": "Zz2dWcyJ9F_j",
        "colab_type": "code",
        "colab": {}
      },
      "source": [
        "train.to_csv(os.path.join(os.path.normpath(dir_data + os.sep + os.pardir), 'train.csv'), index=False)"
      ],
      "execution_count": 0,
      "outputs": []
    },
    {
      "cell_type": "markdown",
      "metadata": {
        "id": "JNN8go-BB9RJ",
        "colab_type": "text"
      },
      "source": [
        "# Construct The Model"
      ]
    },
    {
      "cell_type": "markdown",
      "metadata": {
        "id": "eRb_Jb_2E9S7",
        "colab_type": "text"
      },
      "source": [
        "First (Re)Load some Packages"
      ]
    },
    {
      "cell_type": "code",
      "metadata": {
        "id": "tgzcJyleELS5",
        "colab_type": "code",
        "outputId": "756a04bd-e758-4400-a9c3-16ba23fbec34",
        "colab": {
          "base_uri": "https://localhost:8080/",
          "height": 34
        }
      },
      "source": [
        "import numpy as np\n",
        "np.random.seed(1989)\n",
        "\n",
        "import shutil, cv2\n",
        "import pandas as pd\n",
        "\n",
        "from albumentations import Compose\n",
        "import albumentations.augmentations.transforms as alb\n",
        "\n",
        "from keras import losses, models, optimizers\n",
        "from keras.activations import relu, softmax\n",
        "from keras.callbacks import EarlyStopping, TensorBoard, ReduceLROnPlateau\n",
        "from keras.layers import (Dense, Dropout, Input, Convolution2D, MaxPool2D, BatchNormalization, Flatten, Activation) \n",
        "from keras.utils import Sequence, to_categorical\n",
        "from keras import backend as K\n",
        "\n",
        "from sklearn.model_selection import StratifiedKFold\n",
        "from tensorboardcolab import TensorBoardColab, TensorBoardColabCallback\n",
        "\n",
        "import warnings\n",
        "warnings.filterwarnings(\"ignore\", category=FutureWarning) "
      ],
      "execution_count": 0,
      "outputs": [
        {
          "output_type": "stream",
          "text": [
            "Using TensorFlow backend.\n"
          ],
          "name": "stderr"
        }
      ]
    },
    {
      "cell_type": "markdown",
      "metadata": {
        "id": "R_Qes9HAbve0",
        "colab_type": "text"
      },
      "source": [
        "If you skipped the visualization section, download the dataframe and load it here."
      ]
    },
    {
      "cell_type": "code",
      "metadata": {
        "id": "JuTwpO7BbwOt",
        "colab_type": "code",
        "colab": {}
      },
      "source": [
        "download = drive.CreateFile({'id': '1ffAPRILKnRgHgmVQ_fcVtYlsMk8-sPsT'})\n",
        "download.GetContentFile('/content/train.csv')\n",
        "train = pd.read_csv('/content/train.csv')"
      ],
      "execution_count": 0,
      "outputs": []
    },
    {
      "cell_type": "markdown",
      "metadata": {
        "id": "jwyBlvquSv3R",
        "colab_type": "text"
      },
      "source": [
        "\n",
        "Set up \n",
        "- some paths\n",
        "- the dictionnary transforming the label names in numbers (needed by tf)\n",
        "- the min x-res and y-res values (we have to ensure that we will crop the image to bigger values)\n",
        "- the filename as index for the training dataframe."
      ]
    },
    {
      "cell_type": "code",
      "metadata": {
        "id": "mztnLIJ_F-az",
        "colab_type": "code",
        "outputId": "9b1e0983-38cb-4951-fe4b-7304b94062a6",
        "colab": {
          "base_uri": "https://localhost:8080/",
          "height": 269
        }
      },
      "source": [
        "dir_data = '/content/data'\n",
        "\n",
        "labels = train['label'].unique()\n",
        "labels_to_idx = {label: i for i, label in enumerate(labels)}\n",
        "print(f'Here is the dictionnary for the labels: {labels_to_idx}')\n",
        "\n",
        "n_classes = len(labels)\n",
        "\n",
        "min_height = train['yres'].min()\n",
        "min_width = train['xres'].min()\n",
        "min_height_width = min(min_height, min_width)\n",
        "\n",
        "print(f'The min height and width are {min_height} and {min_width}. These min values will be necessary for cropping the images.')\n",
        "\n",
        "train.set_index('fname', inplace=True, drop=True)\n",
        "train['label_idx'] = train.label.apply(lambda x: labels_to_idx[x])\n",
        "train.head()"
      ],
      "execution_count": 0,
      "outputs": [
        {
          "output_type": "stream",
          "text": [
            "Here is the dictionnary for the labels: {'conoco': 0, 'shell': 1, 'chevron': 2, 'phillips': 3}\n",
            "The min height and width are 133 and 150. These min values will be necessary for cropping the images.\n"
          ],
          "name": "stdout"
        },
        {
          "output_type": "execute_result",
          "data": {
            "text/html": [
              "<div>\n",
              "<style scoped>\n",
              "    .dataframe tbody tr th:only-of-type {\n",
              "        vertical-align: middle;\n",
              "    }\n",
              "\n",
              "    .dataframe tbody tr th {\n",
              "        vertical-align: top;\n",
              "    }\n",
              "\n",
              "    .dataframe thead th {\n",
              "        text-align: right;\n",
              "    }\n",
              "</style>\n",
              "<table border=\"1\" class=\"dataframe\">\n",
              "  <thead>\n",
              "    <tr style=\"text-align: right;\">\n",
              "      <th></th>\n",
              "      <th>label</th>\n",
              "      <th>xres</th>\n",
              "      <th>yres</th>\n",
              "      <th>channels</th>\n",
              "      <th>xyres</th>\n",
              "      <th>label_idx</th>\n",
              "    </tr>\n",
              "    <tr>\n",
              "      <th>fname</th>\n",
              "      <th></th>\n",
              "      <th></th>\n",
              "      <th></th>\n",
              "      <th></th>\n",
              "      <th></th>\n",
              "      <th></th>\n",
              "    </tr>\n",
              "  </thead>\n",
              "  <tbody>\n",
              "    <tr>\n",
              "      <th>conoco_343.jpg</th>\n",
              "      <td>conoco</td>\n",
              "      <td>404</td>\n",
              "      <td>320</td>\n",
              "      <td>3</td>\n",
              "      <td>129280</td>\n",
              "      <td>0</td>\n",
              "    </tr>\n",
              "    <tr>\n",
              "      <th>shell_184.jpg</th>\n",
              "      <td>shell</td>\n",
              "      <td>676</td>\n",
              "      <td>338</td>\n",
              "      <td>3</td>\n",
              "      <td>228488</td>\n",
              "      <td>1</td>\n",
              "    </tr>\n",
              "    <tr>\n",
              "      <th>chevron_352.jpg</th>\n",
              "      <td>chevron</td>\n",
              "      <td>600</td>\n",
              "      <td>600</td>\n",
              "      <td>3</td>\n",
              "      <td>360000</td>\n",
              "      <td>2</td>\n",
              "    </tr>\n",
              "    <tr>\n",
              "      <th>phillips_173.jpg</th>\n",
              "      <td>phillips</td>\n",
              "      <td>348</td>\n",
              "      <td>348</td>\n",
              "      <td>3</td>\n",
              "      <td>121104</td>\n",
              "      <td>3</td>\n",
              "    </tr>\n",
              "    <tr>\n",
              "      <th>phillips_230.jpg</th>\n",
              "      <td>phillips</td>\n",
              "      <td>1165</td>\n",
              "      <td>925</td>\n",
              "      <td>3</td>\n",
              "      <td>1077625</td>\n",
              "      <td>3</td>\n",
              "    </tr>\n",
              "  </tbody>\n",
              "</table>\n",
              "</div>"
            ],
            "text/plain": [
              "                     label  xres  yres  channels    xyres  label_idx\n",
              "fname                                                               \n",
              "conoco_343.jpg      conoco   404   320         3   129280          0\n",
              "shell_184.jpg        shell   676   338         3   228488          1\n",
              "chevron_352.jpg    chevron   600   600         3   360000          2\n",
              "phillips_173.jpg  phillips   348   348         3   121104          3\n",
              "phillips_230.jpg  phillips  1165   925         3  1077625          3"
            ]
          },
          "metadata": {
            "tags": []
          },
          "execution_count": 14
        }
      ]
    },
    {
      "cell_type": "markdown",
      "metadata": {
        "id": "Ru4064DxXt8N",
        "colab_type": "text"
      },
      "source": [
        "The Configuration class : In particular contains the default settings."
      ]
    },
    {
      "cell_type": "code",
      "metadata": {
        "id": "2WnwsyPIGQ1V",
        "colab_type": "code",
        "colab": {}
      },
      "source": [
        "class Config(object):\n",
        "\tdef __init__(self, model_name = 'dummy', n_classes=n_classes, image_size=(64,64,3), n_folds=1, n_preds = 1, learning_rate=0.0001, max_epochs=10):\n",
        "\t\tself.n_classes = n_classes\n",
        "\t\tself.image_size = image_size\n",
        "\t\tself.n_folds = n_folds\n",
        "\t\tself.n_preds = n_preds\n",
        "\t\tself.learning_rate = learning_rate\n",
        "\t\tself.max_epochs = max_epochs\n",
        "\t\tself.model_name = model_name"
      ],
      "execution_count": 0,
      "outputs": []
    },
    {
      "cell_type": "markdown",
      "metadata": {
        "id": "6y1g4Yt9Gk7E",
        "colab_type": "text"
      },
      "source": [
        "The Datagenerator class : Inherits from Keras.utils.Sequence to efficiently feed the data."
      ]
    },
    {
      "cell_type": "code",
      "metadata": {
        "id": "Q_cpm0v2Gf_u",
        "colab_type": "code",
        "colab": {}
      },
      "source": [
        "class DataGenerator(Sequence): # Inherits from Keras.utils.Sequence for multiprocessing\n",
        "\n",
        "    def __init__(self, config, dir_data, list_IDs, labels=None,\n",
        "\t\t\t\t\tbatch_size=16, shuffle=False, augmentation = None, preprocessing_fn=None):\n",
        "    \n",
        "        self.config = config\n",
        "        self.dir_data = dir_data\n",
        "        self.list_IDs = list_IDs\n",
        "        self.labels = labels\n",
        "        self.batch_size = batch_size\n",
        "        self.augmentation = augmentation\n",
        "        self.preprocessing_fn = preprocessing_fn\n",
        "        self.shuffle = shuffle\n",
        "        \n",
        "        # the following seems better than calling on_epoch_end, to avoid shuffle at beginning!\n",
        "        self.indexes = np.arange(len(self.list_IDs))\n",
        "        #self.on_epoch_end()\n",
        "        \n",
        "\n",
        "    # returns the number of batches in the Sequence (per 1 epoch)\n",
        "    def __len__(self):\n",
        "        return int(np.ceil(len(self.list_IDs) / self.batch_size))\n",
        "\n",
        "    # returns the index^th complete batch\n",
        "    def __getitem__(self,index):\n",
        "        indexes_temp = self.indexes[index*self.batch_size:(index+1)*self.batch_size]\n",
        "        list_IDs_temp = [self.list_IDs[k] for k in indexes_temp]\n",
        "        return self.__data_generation(list_IDs_temp)\n",
        "\n",
        "    # called at the end of an epoch: reloads IDs\n",
        "    def on_epoch_end(self):\n",
        "        self.indexes = np.arange(len(self.list_IDs))\n",
        "        if self.shuffle == True:\n",
        "            np.random.shuffle(self.indexes)\n",
        "    \n",
        "    def __data_generation(self, list_IDs_temp):\n",
        "        cur_batch_size = len(list_IDs_temp)\n",
        "        X = np.empty((cur_batch_size, *self.config.image_size)) \n",
        "        \n",
        "        for i,ID in enumerate(list_IDs_temp):\n",
        "            file_path = os.path.join(self.dir_data, ID)\n",
        "            \n",
        "            # read the image\n",
        "            img = cv2.cvtColor(cv2.imread(file_path), cv2.COLOR_RGB2BGR) # convert in normal colors\n",
        "            #plt.figure(), plt.imshow(img), plt.show()\n",
        "            \n",
        "            # other preprocesses (not augmenting though)\n",
        "            if self.preprocessing_fn:\n",
        "                img = self.preprocessing_fn(img) \n",
        "            \n",
        "            # augment and save in the big array X\n",
        "            if self.augmentation:\n",
        "                ratio_img_to_crop = max(img.shape[0]/self.config.image_size[0], img.shape[1]/self.config.image_size[1]) ## Could also use max and pad around it\n",
        "                if ratio_img_to_crop > 2:\n",
        "                    img = cv2.resize(img,(int(img.shape[1] * 2 / ratio_img_to_crop), int(img.shape[0] * 2 / ratio_img_to_crop)))\n",
        "                    img = alb.PadIfNeeded(min_height=min_height_width, min_width=min_height_width)(image=img)[\"image\"] ## IF PROBLEM USE MIN for crop and remove this.\n",
        "                    #plt.figure(), plt.imshow(img), plt.show()\n",
        "                img = self.augmentation(image=img)[\"image\"]\n",
        "            \n",
        "            # if it wasn't cropped or resized yet, we resize it so that it has the std size\n",
        "            if img.shape != self.config.image_size:\n",
        "                img = cv2.resize(img,(self.config.image_size[0],self.config.image_size[1]))\n",
        "\n",
        "            #plt.figure(), plt.imshow(img), plt.show()\n",
        "            \n",
        "            X[i,] = img\n",
        "            ### ADD HERE IMG VISUALIZATION or save in folder\n",
        "        \n",
        "        if self.labels is not None:\n",
        "            y = np.empty(cur_batch_size, dtype=int)\n",
        "            for i, ID in enumerate(list_IDs_temp):\n",
        "                y[i] = self.labels[ID]\n",
        "            \n",
        "            return X, to_categorical(y, num_classes=self.config.n_classes)\n",
        "        else:\n",
        "            return X"
      ],
      "execution_count": 0,
      "outputs": []
    },
    {
      "cell_type": "markdown",
      "metadata": {
        "id": "v2_qJX-aY8QI",
        "colab_type": "text"
      },
      "source": [
        "Here is the dummy model with just a fully connected layer. Name = dummy"
      ]
    },
    {
      "cell_type": "code",
      "metadata": {
        "id": "q9SoBNfgY7py",
        "colab_type": "code",
        "colab": {}
      },
      "source": [
        "def get_dummy_model(config):\n",
        "    \n",
        "    nclass = config.n_classes\n",
        "    \n",
        "    inp = Input(shape=config.image_size)\n",
        "    out = Dense(nclass, activation=softmax)(inp)\n",
        "\n",
        "    model = models.Model(inputs=inp, outputs=out)\n",
        "    opt = optimizers.Adam(config.learning_rate)\n",
        "\n",
        "    model.compile(optimizer=opt, loss=losses.categorical_crossentropy, metrics=['acc'])\n",
        "    return model"
      ],
      "execution_count": 0,
      "outputs": []
    },
    {
      "cell_type": "markdown",
      "metadata": {
        "id": "5Euw448aY7cR",
        "colab_type": "text"
      },
      "source": [
        "And the larger 2D conv model. Name = conv"
      ]
    },
    {
      "cell_type": "code",
      "metadata": {
        "id": "9fN2n-9JY815",
        "colab_type": "code",
        "colab": {}
      },
      "source": [
        "def get_conv_model(config):\n",
        "    \n",
        "    nclass = config.n_classes\n",
        "    \n",
        "    inp = Input(shape=config.image_size)\n",
        "    \n",
        "    x = Convolution2D(256, (3,3), padding=\"same\")(inp)\n",
        "    x = BatchNormalization()(x)\n",
        "    x = Activation(\"relu\")(x)\n",
        "    x = MaxPool2D()(x)\n",
        "    \n",
        "    x = Convolution2D(256, (3,3), padding=\"same\")(x)\n",
        "    x = BatchNormalization()(x)\n",
        "    x = Activation(\"relu\")(x)\n",
        "    x = MaxPool2D()(x)\n",
        "    \n",
        "    x = Convolution2D(128, (3,3), padding=\"same\")(x)\n",
        "    x = BatchNormalization()(x)\n",
        "    x = Activation(\"relu\")(x)\n",
        "    x = MaxPool2D()(x)\n",
        "    \n",
        "    x = Convolution2D(128, (3,3), padding=\"same\")(x)\n",
        "    x = BatchNormalization()(x)\n",
        "    x = Activation(\"relu\")(x)\n",
        "    x = MaxPool2D()(x)\n",
        "\n",
        "    x = Flatten()(x)\n",
        "    \n",
        "    x = Dense(128)(x)\n",
        "    x = BatchNormalization()(x)\n",
        "    x = Activation(\"relu\")(x)\n",
        "    \n",
        "    x = Dense(256)(x)\n",
        "    x = BatchNormalization()(x)\n",
        "    x = Activation(\"relu\")(x)\n",
        "    \n",
        "    out = Dense(nclass, activation=softmax)(x)\n",
        "\n",
        "    model = models.Model(inputs=inp, outputs=out)\n",
        "    opt = optimizers.Adam(config.learning_rate)\n",
        "\n",
        "    model.compile(optimizer=opt, loss=losses.categorical_crossentropy, metrics=['acc'])\n",
        "    return model"
      ],
      "execution_count": 0,
      "outputs": []
    },
    {
      "cell_type": "markdown",
      "metadata": {
        "id": "6TJhUuuHYXG9",
        "colab_type": "text"
      },
      "source": [
        "# Run The Model!"
      ]
    },
    {
      "cell_type": "markdown",
      "metadata": {
        "id": "VTmdu86ciq92",
        "colab_type": "text"
      },
      "source": [
        "Set-up the Paths for the data"
      ]
    },
    {
      "cell_type": "code",
      "metadata": {
        "id": "LOiwhPZ9irGk",
        "colab_type": "code",
        "colab": {}
      },
      "source": [
        "dir_log = os.path.join(os.path.normpath(dir_data + os.sep + os.pardir), 'logs')\n",
        "if os.path.isdir(dir_log):\n",
        "        shutil.rmtree(dir_log)\n",
        "\n",
        "dir_pred = os.path.join(os.path.normpath(dir_data + os.sep + os.pardir), 'pred')\n",
        "if os.path.isdir(dir_pred):\n",
        "    shutil.rmtree(dir_pred)\n",
        "os.mkdir(dir_pred)\n",
        "\n",
        "dir_train = os.path.join(dir_data)\n",
        "#dir_test = os.path.join(dir_data, 'test')"
      ],
      "execution_count": 0,
      "outputs": []
    },
    {
      "cell_type": "markdown",
      "metadata": {
        "id": "G8wNpXt0Y_uH",
        "colab_type": "text"
      },
      "source": [
        "Creating the config and other necessary global objects that don't need to be reset after each k-fold."
      ]
    },
    {
      "cell_type": "code",
      "metadata": {
        "id": "qpdMk0pbYZFG",
        "colab_type": "code",
        "outputId": "90c5a762-c78d-492e-b3e4-60342adc0d47",
        "colab": {
          "base_uri": "https://localhost:8080/",
          "height": 68
        }
      },
      "source": [
        "config = Config(n_folds=5, n_preds=10, model_name = 'conv', image_size=(min_height_width, min_height_width,3), learning_rate=0.01, max_epochs=100)\n",
        "\n",
        "skf = StratifiedKFold(n_splits=config.n_folds)\n",
        "\n",
        "augmentation_train = Compose([ \n",
        "    alb.RandomCrop(min_height_width,min_height_width),\n",
        "    #alb.Blur(blur_limit=2),\n",
        "    #alb.RandomGamma(),\n",
        "    alb.Rotate(15),\n",
        "    alb.RandomBrightnessContrast(),\n",
        "    alb.GaussNoise(),\n",
        "    alb.ToFloat(max_value=255)\n",
        "])\n",
        "\n",
        "augmentation_val = Compose([\n",
        "    alb.RandomCrop(min_height_width,min_height_width),\n",
        "    alb.Rotate(15),\n",
        "    alb.ToFloat(max_value=255)\n",
        "])\n",
        "\n",
        "augmentation_test = Compose([\n",
        "    alb.RandomCrop(min_height_width,min_height_width),\n",
        "    alb.Rotate(15),\n",
        "    alb.ToFloat(max_value=255)\n",
        "])"
      ],
      "execution_count": 0,
      "outputs": [
        {
          "output_type": "stream",
          "text": [
            "Wait for 8 seconds...\n",
            "TensorBoard link:\n",
            "http://967e53fb.ngrok.io\n"
          ],
          "name": "stdout"
        }
      ]
    },
    {
      "cell_type": "markdown",
      "metadata": {
        "id": "c0f9w0QwbHIB",
        "colab_type": "text"
      },
      "source": [
        "Run the Loop"
      ]
    },
    {
      "cell_type": "code",
      "metadata": {
        "id": "B8R9e3jvZufP",
        "colab_type": "code",
        "outputId": "6c0e58a6-4fd0-49e0-a98a-ad59b1ab49fc",
        "colab": {
          "base_uri": "https://localhost:8080/",
          "height": 289
        }
      },
      "source": [
        "if os.path.isdir(dir_log):\n",
        "        shutil.rmtree(dir_log)\n",
        "if os.path.isdir(dir_pred):\n",
        "    shutil.rmtree(dir_pred)\n",
        "os.mkdir(dir_pred)\n",
        "\n",
        "\n",
        "for i, (train_idx, val_idx) in enumerate(skf.split(train.index, train.label_idx)):\n",
        "    K.clear_session()\n",
        "    \n",
        "    ########\n",
        "    # Preparing for training\n",
        "    ########\n",
        "    \n",
        "    # splitting the dataset\n",
        "    train_set = train.iloc[train_idx]\n",
        "    val_set = train.iloc[val_idx]\n",
        "    \n",
        "    # setting the callbacks\n",
        "    callbacks_list= []\n",
        "    # the checkpoint is causing issues with colab and breaks in the middle of training. A workaround is the restore_best_weights from EarlyStopping\n",
        "    #checkpoint = ModelCheckpoint(os.path.join(dir_log,'best_%d.h5'%i), monitor='val_loss', verbose=1, save_best_only=True)\n",
        "    #callbacks_list.append(checkpoint)  \n",
        "    early = EarlyStopping(monitor='val_loss', mode='auto', patience=15, restore_best_weights=True)\n",
        "    callbacks_list.append(early)\n",
        "    tb = TensorBoard(log_dir= os.path.join(dir_log, 'fold_%d'%i), write_graph=True)\n",
        "    callbacks_list.append(tb)\n",
        "    tbc = TensorBoardColab()\n",
        "    callbacks_list.append(TensorBoardColabCallback(tbc))\n",
        "    reduce_lr = ReduceLROnPlateau(monitor='val_loss', factor=0.35, patience=5, min_lr=0.00001, verbose=1)\n",
        "    callbacks_list.append(reduce_lr)\n",
        "    \n",
        "    print('\\n')\n",
        "    print(\"#\"*50)\n",
        "    print(f'\\nFold {i}')\n",
        "    \n",
        "    # choosing the model\n",
        "    if config.model_name == 'dummy':\n",
        "        model = get_dummy_model(config)\n",
        "    else:\n",
        "        print('We are using the convolutional model.')\n",
        "        model = get_conv_model(config)\n",
        "    \n",
        "    # setting the data generators\n",
        "    train_generator = DataGenerator(config, dir_data=dir_train, list_IDs=train_set.index, labels=train_set.label_idx, \n",
        "                                    shuffle=True, augmentation = augmentation_train, batch_size=32)\n",
        "    val_generator = DataGenerator(config, dir_data=dir_train, list_IDs=val_set.index, labels=val_set.label_idx, \n",
        "                                  shuffle=True, augmentation = augmentation_val, batch_size = 32)\n",
        "    \n",
        "    ########\n",
        "    # Training\n",
        "    ########\n",
        "    \n",
        "    history = model.fit_generator(train_generator, callbacks=callbacks_list, validation_data=val_generator, # multiprocessing causes the session to freeze sometimes..\n",
        "                                  epochs=config.max_epochs,  use_multiprocessing=False, max_queue_size=20, workers=8)\n",
        "    \n",
        "    # saving the best weights #print('\\nSaving the weights.')\n",
        "    model.save(os.path.join(dir_log,'best_%d.h5'%i))\n",
        "    \n",
        "    \n",
        "    ########\n",
        "    # Predict\n",
        "    ########\n",
        "    \n",
        "    # training done, now load best model (at what epoch it was best) and predict #print('Loading the weights with lowest validation loss for the predictions.')\n",
        "    model.load_weights(os.path.join(dir_log,'best_%d.h5'%i))\n",
        "    \n",
        "    # save validation prediction with data augmentation\n",
        "    val_generator = DataGenerator(config, dir_data=dir_train, list_IDs=val_set.index, labels=val_set.label_idx, augmentation = augmentation_val, batch_size=16) \n",
        "    \n",
        "    correct_labels = val_set.label_idx.values\n",
        "    nbr_examples = val_set.shape[0]\n",
        "    correct_labels = correct_labels.reshape(nbr_examples,1)\n",
        "    np.savetxt(os.path.join(dir_pred, f'val_pred_{i}_correct_labels.txt'), correct_labels, fmt='%1.2f')   \n",
        "      \n",
        "    print(f'\\nWe will now do {config.n_preds} different predictions on the validation set with data augmentation by using the best weights, and take the geometric mean.')\n",
        "    \n",
        "    pred_list = []\n",
        "    for j in range(config.n_preds):\n",
        "        print(f'Prediction number {j+1}:')\n",
        "        prediction = model.predict_generator(val_generator, use_multiprocessing=True, max_queue_size=20, verbose=1)\n",
        "        \n",
        "        nbr_correct = sum(prediction.argmax(axis=1).reshape(nbr_examples,1) == correct_labels)[0]\n",
        "        print(f'File val_pred_{i}_{j} got {nbr_correct} right out of {nbr_examples}, i.e, an accuracy of {nbr_correct / nbr_examples:0.2f}')\n",
        "        \n",
        "        pred_list.append(prediction)\n",
        "        np.save(os.path.join(dir_pred, f'val_pred_{i}_{j}.npy'), prediction)\n",
        "        #np.savetxt(os.path.join(dir_pred, f'val_pred_{i}_{j}.txt'), prediction, fmt='%1.2f')\n",
        "    \n",
        "    # Taking a geometric mean of the probabilities\n",
        "    prediction = np.ones_like(pred_list[0])\n",
        "    for pred in pred_list:\n",
        "        prediction = prediction*pred\n",
        "    prediction_gm = prediction**(1./len(pred_list))\n",
        "    \n",
        "    nbr_correct = sum(prediction_gm.argmax(axis=1).astype(int).reshape(nbr_examples,1) == correct_labels)[0]\n",
        "    print(f'\\nThe geometric mean of all of them gets {nbr_correct} right out of {nbr_examples}, i.e, an accuracy of {nbr_correct / nbr_examples:0.2f}\\n')\n",
        "    \n",
        "    np.savetxt(os.path.join(dir_pred, f'val_pred_{i}_gm.txt'), np.concatenate((prediction_gm, correct_labels),axis = 1), fmt='%1.2f') \n",
        "    #np.save(os.path.join(dir_pred, f'val_pred_{i}_{j}.npy'), predictions)\n",
        "    \n",
        "    \n",
        "    # save validation prediction without data augmentation\n",
        "    val_generator = DataGenerator(config, dir_data=dir_train, list_IDs=val_set.index, labels=val_set.label_idx, augmentation = None, batch_size=16) \n",
        "    print(f'We will now do a prediction on the validation set without data augmentation to compare.')\n",
        "    prediction = model.predict_generator(val_generator, use_multiprocessing=True, max_queue_size=20, verbose=1)\n",
        "    nbr_correct = sum(prediction.argmax(axis=1).reshape(nbr_examples,1) == correct_labels)[0]\n",
        "    print(f'We got {nbr_correct} right out of {nbr_examples}, i.e, an accuracy of {nbr_correct / nbr_examples:0.2f}')\n",
        "\n",
        "    \n",
        "    '''\n",
        "    # save test prediction\n",
        "    test_generator = DataGenerator(config, dir_test, test.index, labels=None,\n",
        "\t\t\t\t\tbatch_size=64)\n",
        "    \n",
        "    predictions = model.predict_generator(test_generator, use_multiprocessing=True, max_queue_size=20, verbose=1)\n",
        "    np.save(os.path.join(dir_pred, 'test_pred_%d.npy'%i), predictions)\n",
        "    pred_test_shape = predictions.shape\n",
        "\n",
        "    # Make a submission file\n",
        "    top_3 = np.array(labels)[np.argsort(-predictions, axis=1)[:, :3]]\n",
        "    predicted_labels = [' '.join(list(x)) for x in top_3]\n",
        "    test['label'] = predicted_labels\n",
        "    test[['label']].to_csv(os.path.join(dir_pred, 'predictions_%d.csv'%i))\n",
        "    '''\n",
        "    \n",
        "print('Task finished.')"
      ],
      "execution_count": 0,
      "outputs": [
        {
          "output_type": "stream",
          "text": [
            "Wait for 8 seconds...\n",
            "TensorBoard link:\n",
            "https://91bd05ab.ngrok.io\n",
            "\n",
            "\n",
            "##################################################\n",
            "\n",
            "Fold 0\n",
            "We are using the convolutional model.\n",
            "Epoch 1/100\n",
            "19/19 [==============================] - 10s 538ms/step - loss: 1.7134 - acc: 0.3073 - val_loss: 8.4971 - val_acc: 0.1689\n",
            "Epoch 2/100\n",
            "19/19 [==============================] - 6s 304ms/step - loss: 1.3907 - acc: 0.4044 - val_loss: 6.7682 - val_acc: 0.2770\n",
            "Epoch 3/100\n",
            "19/19 [==============================] - 7s 371ms/step - loss: 1.3233 - acc: 0.4095 - val_loss: 2.5912 - val_acc: 0.2973\n",
            "Epoch 4/100\n"
          ],
          "name": "stdout"
        }
      ]
    },
    {
      "cell_type": "markdown",
      "metadata": {
        "id": "w3vHWTByy9oG",
        "colab_type": "text"
      },
      "source": [
        "We now save the logs and predictions on our computer, as this virtual environment self-distruct itself every 12hours or so."
      ]
    },
    {
      "cell_type": "code",
      "metadata": {
        "id": "R7FZv0c4mbxV",
        "colab_type": "code",
        "colab": {}
      },
      "source": [
        "from datetime import datetime\n",
        "datetime_now = str(datetime.now()).replace('-','').replace(':','').replace(' ','')\n",
        "datetime_now = datetime_now[:datetime_now.find('.')]\n",
        "datetime_now = datetime_now[4:8] + '_' + datetime_now[-6:-2]\n",
        "\n",
        "# save the logs\n",
        "zipname = datetime_now + '_log.zip'\n",
        "!zip -r /content/\"$zipname\" /content/logs\n",
        "files.download(os.path.join('/', 'content', zipname))\n",
        "\n",
        "# save the preds\n",
        "zipname = datetime_now + '_pred.zip'\n",
        "!zip -r /content/\"$zipname\" /content/pred\n",
        "files.download(os.path.join('/', 'content', zipname))\n",
        "\n",
        "# save the submission\n",
        "#zipname = datetime_now + '_submission.zip'\n",
        "#!zip -r /content/\"$zipname\" /content/submission.csv\n",
        "#files.download(os.path.join(dir_data, zipname))"
      ],
      "execution_count": 0,
      "outputs": []
    },
    {
      "cell_type": "markdown",
      "metadata": {
        "id": "BpsqnFZGbNf6",
        "colab_type": "text"
      },
      "source": [
        "[Deprecaated : Included in the RUN cell] Ensemble these predictions by taking the geometric mean."
      ]
    },
    {
      "cell_type": "code",
      "metadata": {
        "id": "L-4-EpsVbNoh",
        "colab_type": "code",
        "colab": {}
      },
      "source": [
        "for i in range(config.n_folds):\n",
        "    pred_list = []\n",
        "    correct_labels = np.load(os.path.join(dir_pred, f'val_pred_{i}_0.npy'))[:,-1].astype(int)\n",
        "    nbr_examples = correct_labels.shape[0]\n",
        "    correct_labels = correct_labels.reshape(nbr_examples,1)\n",
        "    np.savetxt(os.path.join(dir_pred, f'val_pred_{i}_correct_labels.txt'), correct_labels, fmt='%1.2f') \n",
        "    \n",
        "    for j in range(config.n_preds):\n",
        "        prediction = np.load(os.path.join(dir_pred, f'val_pred_{i}_{j}.npy'))[:,:-1]\n",
        "        pred_list.append(prediction)\n",
        "        nbr_correct = sum(prediction[:,:-1].argmax(axis=1).astype(int).reshape(nbr_examples,1) == correct_labels)[0]\n",
        "        print(f'File val_pred_{i}_{j} got {nbr_correct} right out of {nbr_examples}, i.e, an accuracy of {nbr_correct / nbr_examples:0.2f}')\n",
        "    \n",
        "    prediction = np.ones_like(pred_list[0])\n",
        "    # Taking a geometric mean of the probabilities\n",
        "    for pred in pred_list:\n",
        "        prediction = prediction*pred\n",
        "    prediction_gm = prediction**(1./len(pred_list))\n",
        "    \n",
        "    prediction_gm = np.concatenate((prediction_gm, correct_labels),axis = 1)\n",
        "    np.savetxt(os.path.join(dir_pred, f'val_pred_{i}_gm.txt'), prediction_gm, fmt='%1.2f') \n",
        "    #np.save(os.path.join(dir_pred, f'val_pred_{i}_{j}.npy'), predictions)\n",
        "\n",
        "    nbr_correct = sum(prediction_gm[:,:-1].argmax(axis=1).astype(int).reshape(nbr_examples,1) == correct_labels)[0]\n",
        "    print(f'The geometric mean of all of them gets {nbr_correct} right out of {nbr_examples}, i.e, an accuracy of {nbr_correct / nbr_examples:0.2f}\\n')\n"
      ],
      "execution_count": 0,
      "outputs": []
    }
  ]
}